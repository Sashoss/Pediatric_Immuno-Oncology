{
 "cells": [
  {
   "cell_type": "code",
   "execution_count": null,
   "metadata": {
    "vscode": {
     "languageId": "r"
    }
   },
   "outputs": [],
   "source": [
    "source(\"../Utility/infercnv\")"
   ]
  },
  {
   "cell_type": "code",
   "execution_count": null,
   "metadata": {
    "vscode": {
     "languageId": "r"
    }
   },
   "outputs": [],
   "source": [
    "seurat_obj <- readRDS(\"../Step5_Clustering/out/seurat_clustered.rds\")"
   ]
  },
  {
   "cell_type": "code",
   "execution_count": null,
   "metadata": {
    "vscode": {
     "languageId": "r"
    }
   },
   "outputs": [],
   "source": [
    "create_infercnv_input(seurat_obj, \n",
    "                                gencode_path=\"../Utility/Data/inferCNV_inputs/gencode_v19_gene_pos.txt\", \n",
    "                                output_dir=\"./out/infercnv_input\"\n",
    "                                ) "
   ]
  },
  {
   "cell_type": "code",
   "execution_count": null,
   "metadata": {
    "vscode": {
     "languageId": "r"
    }
   },
   "outputs": [],
   "source": [
    "infercnv_obj <- run_infercnv(\n",
    "                            raw_counts_matrix=\"./in/inferCNV_inputs/merged_gene_matrix.txt\",\n",
    "                            annotations_file=\"./in/inferCNV_inputs/merged_annotation.txt\",\n",
    "                            gene_order_file=\"./in/inferCNV_inputs/inferCNV_gene_order.txt\",\n",
    "                            ref_group_names==c(\"NK cells\"),\n",
    "                            cutoff=0.1,\n",
    "                            num_threads=10,\n",
    "                            output_dir=\"./out/inferCNV_output\"\n",
    "                ) "
   ]
  }
 ],
 "metadata": {
  "language_info": {
   "name": "python"
  }
 },
 "nbformat": 4,
 "nbformat_minor": 2
}
