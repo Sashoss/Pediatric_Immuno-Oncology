{
 "cells": [
  {
   "cell_type": "code",
   "execution_count": null,
   "metadata": {
    "vscode": {
     "languageId": "r"
    }
   },
   "outputs": [],
   "source": []
  },
  {
   "cell_type": "markdown",
   "metadata": {},
   "source": [
    "### read unfiltered count data from all samples perform initial filtering add metadata save seurat object\n"
   ]
  },
  {
   "cell_type": "code",
   "execution_count": 2,
   "metadata": {
    "vscode": {
     "languageId": "r"
    }
   },
   "outputs": [],
   "source": [
    "library(Seurat)\n",
    "library(SingleCellExperiment)"
   ]
  },
  {
   "cell_type": "markdown",
   "metadata": {},
   "source": [
    "## Read HGG data"
   ]
  },
  {
   "cell_type": "code",
   "execution_count": 9,
   "metadata": {
    "vscode": {
     "languageId": "r"
    }
   },
   "outputs": [
    {
     "data": {
      "text/html": [
       "'/Users/shiwani/Documents/GITHUB/Pediatric_Immuno-Oncology/Notebooks/Generate_Seurat_Object'"
      ],
      "text/latex": [
       "'/Users/shiwani/Documents/GITHUB/Pediatric\\_Immuno-Oncology/Notebooks/Generate\\_Seurat\\_Object'"
      ],
      "text/markdown": [
       "'/Users/shiwani/Documents/GITHUB/Pediatric_Immuno-Oncology/Notebooks/Generate_Seurat_Object'"
      ],
      "text/plain": [
       "[1] \"/Users/shiwani/Documents/GITHUB/Pediatric_Immuno-Oncology/Notebooks/Generate_Seurat_Object\""
      ]
     },
     "metadata": {},
     "output_type": "display_data"
    },
    {
     "name": "stdout",
     "output_type": "stream",
     "text": [
      "[1] \"SCPCS000002\"\n",
      "[1] \"SCPCS000003\"\n",
      "[1] \"SCPCS000006\"\n",
      "[1] \"SCPCS000007\"\n",
      "[1] \"SCPCS000008\"\n",
      "[1] \"SCPCS000009\"\n",
      "[1] \"SCPCS000010\"\n",
      "[1] \"SCPCS000013\"\n",
      "[1] \"SCPCS000014\"\n",
      "[1] \"SCPCS000015\"\n",
      "[1] \"SCPCS000017\"\n",
      "[1] \"SCPCS000018\"\n",
      "[1] \"SCPCS000019\"\n",
      "[1] \"SCPCS000020\"\n",
      "[1] \"SCPCS000022\"\n",
      "[1] \"SCPCS000023\"\n",
      " [1] \"SCPCS000002\" \"SCPCS000003\" \"SCPCS000006\" \"SCPCS000007\" \"SCPCS000008\"\n",
      " [6] \"SCPCS000009\" \"SCPCS000010\" \"SCPCS000013\" \"SCPCS000014\" \"SCPCS000015\"\n",
      "[11] \"SCPCS000017\" \"SCPCS000018\" \"SCPCS000019\" \"SCPCS000020\" \"SCPCS000022\"\n",
      "[16] \"SCPCS000023\"\n",
      "[1] \"=================sample picks ================================\"\n",
      " [1] \"SCPCS000002\" \"SCPCS000003\" \"SCPCS000006\" \"SCPCS000007\" \"SCPCS000008\"\n",
      " [6] \"SCPCS000009\" \"SCPCS000010\" \"SCPCS000013\" \"SCPCS000014\" \"SCPCS000015\"\n",
      "[11] \"SCPCS000017\" \"SCPCS000018\" \"SCPCS000019\" \"SCPCS000020\" \"SCPCS000022\"\n",
      "[16] \"SCPCS000023\"\n",
      "[1] \"Final list of Seurat objects:\"\n",
      "[1] \"Sample SCPCS000002Glioblastoma\"\n",
      "[1] \"Sample SCPCS000003Glioblastoma\"\n",
      "[1] \"Sample SCPCS000006Glioblastoma\"\n",
      "[1] \"Sample SCPCS000007Glioblastoma\"\n",
      "[1] \"Sample SCPCS000008Glioblastoma\"\n",
      "[1] \"Sample SCPCS000009Glioblastoma\"\n",
      "[1] \"Sample SCPCS000010Glioblastoma\"\n",
      "[1] \"Sample SCPCS000013Glioblastoma\"\n",
      "[1] \"Sample SCPCS000014Glioblastoma\"\n",
      "[1] \"Sample SCPCS000015Glioblastoma\"\n",
      "[1] \"Sample SCPCS000017Glioblastoma\"\n",
      "[1] \"Sample SCPCS000018Glioblastoma\"\n",
      "[1] \"Sample SCPCS000019Glioblastoma\"\n",
      "[1] \"Sample SCPCS000020Glioblastoma\"\n",
      "[1] \"Sample SCPCS000022Glioblastoma\"\n",
      "[1] \"Sample SCPCS000023Glioblastoma\"\n"
     ]
    }
   ],
   "source": [
    "getwd()\n",
    "# List the directories containing the sample data\n",
    "sample_dirs <- list.dirs(\"./in/HGG/count/\", recursive = FALSE)\n",
    "\n",
    "data_HGG <- list()\n",
    "# Read metadata file\n",
    "metadata <- read.delim(\"./in/HGG/Metadata/metadata.tsv\", sep=\"\\t\", header=TRUE)\n",
    "\n",
    "# Iterate over each sample directory\n",
    "sample_pick = c()\n",
    "counter = 0\n",
    "for (i in 1:length(sample_dirs)) {\n",
    "    # Get sample ID from directory name\n",
    "    sample_id <- basename(sample_dirs[i])\n",
    "    \n",
    "    # Construct path to RDS file\n",
    "    rds_file <- file.path(sample_dirs[i], paste0(gsub(\"SCPCS\", \"SCPCL\", sample_id), \"_unfiltered.rds\"))\n",
    "    \n",
    "    # Read the RDS file and get counts\n",
    "    sce_obj <- readRDS(rds_file)\n",
    "    counts_matrix <- counts(sce_obj)\n",
    "    \n",
    "    # Create Seurat object from counts\n",
    "    seurat_obj <- CreateSeuratObject(counts = counts_matrix, \n",
    "                                    project = sample_id,\n",
    "                                    min.cells = 3,\n",
    "                                    min.features = 200)\n",
    "    \n",
    "    \n",
    "    # Get metadata for this sample\n",
    "    sample_metadata <- metadata[metadata$scpca_sample_id == sample_id,]\n",
    "    \n",
    "    # Add metadata columns to Seurat object\n",
    "    seurat_obj$sample_name <- sample_id\n",
    "    seurat_obj$diagnosis <- sample_metadata$diagnosis\n",
    "    seurat_obj$age <- sample_metadata$age\n",
    "    seurat_obj$sex <- sample_metadata$sex\n",
    "    seurat_obj$tissue_location <- sample_metadata$tissue_location\n",
    "    \n",
    "    # Add to list\n",
    "    if (unique(seurat_obj@meta.data$diagnosis)== \"Glioblastoma\"){\n",
    "        counter = counter + 1\n",
    "        print(sample_id)\n",
    "        sample_pick <- c(sample_pick, sample_id)\n",
    "        data_HGG[[counter]] <- seurat_obj\n",
    "    }\n",
    "    \n",
    "}\n",
    "print(sample_pick)\n",
    "\n",
    "# Print the Seurat objects to check\n",
    "#sample_names <- basename(sample_dirs)\n",
    "#sample_names <- gsub(\"Sample_\", \"\", x = sample_names)\n",
    "#sample_names <- gsub(\"_\\\\d+$\", \"\", sample_names, perl = T)\n",
    "\n",
    "names(data_HGG) <- sample_pick\n",
    "print(\"=================sample picks ================================\")\n",
    "print(names(data_HGG))\n",
    "# Print final list of Seurat objects\n",
    "print(\"Final list of Seurat objects:\")\n",
    "for(name in names(data_HGG)) {\n",
    "    print(paste0(\"Sample \", name, unique(data_HGG[[name]]@meta.data$diagnosis)))\n",
    "}"
   ]
  },
  {
   "cell_type": "markdown",
   "metadata": {},
   "source": [
    "## Read LGG data"
   ]
  },
  {
   "cell_type": "code",
   "execution_count": 14,
   "metadata": {
    "vscode": {
     "languageId": "r"
    }
   },
   "outputs": [
    {
     "data": {
      "text/html": [
       "'/Users/shiwani/Documents/GITHUB/Pediatric_Immuno-Oncology/Notebooks/Generate_Seurat_Object'"
      ],
      "text/latex": [
       "'/Users/shiwani/Documents/GITHUB/Pediatric\\_Immuno-Oncology/Notebooks/Generate\\_Seurat\\_Object'"
      ],
      "text/markdown": [
       "'/Users/shiwani/Documents/GITHUB/Pediatric_Immuno-Oncology/Notebooks/Generate_Seurat_Object'"
      ],
      "text/plain": [
       "[1] \"/Users/shiwani/Documents/GITHUB/Pediatric_Immuno-Oncology/Notebooks/Generate_Seurat_Object\""
      ]
     },
     "metadata": {},
     "output_type": "display_data"
    },
    {
     "name": "stdout",
     "output_type": "stream",
     "text": [
      "An object of class Seurat \n",
      "28211 features across 3741 samples within 1 assay \n",
      "Active assay: RNA (28211 features, 0 variable features)\n",
      " 1 layer present: counts\n",
      "[1] \"Class of object: Seurat\"\n",
      "An object of class Seurat \n",
      "26159 features across 2437 samples within 1 assay \n",
      "Active assay: RNA (26159 features, 0 variable features)\n",
      " 1 layer present: counts\n",
      "[1] \"Class of object: Seurat\"\n",
      "An object of class Seurat \n",
      "23183 features across 5582 samples within 1 assay \n",
      "Active assay: RNA (23183 features, 0 variable features)\n",
      " 1 layer present: counts\n",
      "[1] \"Class of object: Seurat\"\n",
      "An object of class Seurat \n",
      "28027 features across 4230 samples within 1 assay \n",
      "Active assay: RNA (28027 features, 0 variable features)\n",
      " 1 layer present: counts\n",
      "[1] \"Class of object: Seurat\"\n",
      "An object of class Seurat \n",
      "25396 features across 4902 samples within 1 assay \n",
      "Active assay: RNA (25396 features, 0 variable features)\n",
      " 1 layer present: counts\n",
      "[1] \"Class of object: Seurat\"\n",
      "An object of class Seurat \n",
      "21576 features across 1117 samples within 1 assay \n",
      "Active assay: RNA (21576 features, 0 variable features)\n",
      " 1 layer present: counts\n",
      "[1] \"Class of object: Seurat\"\n",
      "An object of class Seurat \n",
      "6064 features across 102 samples within 1 assay \n",
      "Active assay: RNA (6064 features, 0 variable features)\n",
      " 1 layer present: counts\n",
      "[1] \"Class of object: Seurat\"\n",
      "An object of class Seurat \n",
      "21976 features across 810 samples within 1 assay \n",
      "Active assay: RNA (21976 features, 0 variable features)\n",
      " 1 layer present: counts\n",
      "[1] \"Class of object: Seurat\"\n",
      "An object of class Seurat \n",
      "24781 features across 1810 samples within 1 assay \n",
      "Active assay: RNA (24781 features, 0 variable features)\n",
      " 1 layer present: counts\n",
      "[1] \"Class of object: Seurat\"\n",
      "An object of class Seurat \n",
      "25106 features across 2046 samples within 1 assay \n",
      "Active assay: RNA (25106 features, 0 variable features)\n",
      " 1 layer present: counts\n",
      "[1] \"Class of object: Seurat\"\n",
      "An object of class Seurat \n",
      "24373 features across 4724 samples within 1 assay \n",
      "Active assay: RNA (24373 features, 0 variable features)\n",
      " 1 layer present: counts\n",
      "[1] \"Class of object: Seurat\"\n",
      "An object of class Seurat \n",
      "23797 features across 855 samples within 1 assay \n",
      "Active assay: RNA (23797 features, 0 variable features)\n",
      " 1 layer present: counts\n",
      "[1] \"Class of object: Seurat\"\n",
      "An object of class Seurat \n",
      "23851 features across 1359 samples within 1 assay \n",
      "Active assay: RNA (23851 features, 0 variable features)\n",
      " 1 layer present: counts\n",
      "[1] \"Class of object: Seurat\"\n",
      "An object of class Seurat \n",
      "25943 features across 994 samples within 1 assay \n",
      "Active assay: RNA (25943 features, 0 variable features)\n",
      " 1 layer present: counts\n",
      "[1] \"Class of object: Seurat\"\n",
      "An object of class Seurat \n",
      "20807 features across 638 samples within 1 assay \n",
      "Active assay: RNA (20807 features, 0 variable features)\n",
      " 1 layer present: counts\n",
      "[1] \"Class of object: Seurat\"\n",
      "An object of class Seurat \n",
      "26155 features across 3187 samples within 1 assay \n",
      "Active assay: RNA (26155 features, 0 variable features)\n",
      " 1 layer present: counts\n",
      "[1] \"Class of object: Seurat\"\n",
      "An object of class Seurat \n",
      "19045 features across 6476 samples within 1 assay \n",
      "Active assay: RNA (19045 features, 0 variable features)\n",
      " 1 layer present: counts\n",
      "[1] \"Class of object: Seurat\"\n",
      "An object of class Seurat \n",
      "26144 features across 4892 samples within 1 assay \n",
      "Active assay: RNA (26144 features, 0 variable features)\n",
      " 1 layer present: counts\n",
      "[1] \"Class of object: Seurat\"\n",
      "An object of class Seurat \n",
      "24900 features across 5983 samples within 1 assay \n",
      "Active assay: RNA (24900 features, 0 variable features)\n",
      " 1 layer present: counts\n",
      "[1] \"Class of object: Seurat\"\n",
      "An object of class Seurat \n",
      "26636 features across 1361 samples within 1 assay \n",
      "Active assay: RNA (26636 features, 0 variable features)\n",
      " 1 layer present: counts\n",
      "[1] \"Class of object: Seurat\"\n",
      "An object of class Seurat \n",
      "26456 features across 1130 samples within 1 assay \n",
      "Active assay: RNA (26456 features, 0 variable features)\n",
      " 1 layer present: counts\n",
      "[1] \"Class of object: Seurat\"\n",
      "An object of class Seurat \n",
      "23851 features across 5128 samples within 1 assay \n",
      "Active assay: RNA (23851 features, 0 variable features)\n",
      " 1 layer present: counts\n",
      "[1] \"Class of object: Seurat\"\n",
      "An object of class Seurat \n",
      "27699 features across 4774 samples within 1 assay \n",
      "Active assay: RNA (27699 features, 0 variable features)\n",
      " 1 layer present: counts\n",
      "[1] \"Class of object: Seurat\"\n",
      "An object of class Seurat \n",
      "28273 features across 9178 samples within 1 assay \n",
      "Active assay: RNA (28273 features, 0 variable features)\n",
      " 1 layer present: counts\n",
      "[1] \"Class of object: Seurat\"\n",
      "An object of class Seurat \n",
      "29216 features across 5003 samples within 1 assay \n",
      "Active assay: RNA (29216 features, 0 variable features)\n",
      " 1 layer present: counts\n",
      "[1] \"Class of object: Seurat\"\n",
      "An object of class Seurat \n",
      "29472 features across 7770 samples within 1 assay \n",
      "Active assay: RNA (29472 features, 0 variable features)\n",
      " 1 layer present: counts\n",
      "[1] \"Class of object: Seurat\"\n",
      "[1] \"Final list of Seurat objects:\"\n",
      "[1] \"Sample SCPCS000024:\"\n",
      "An object of class Seurat \n",
      "28211 features across 3741 samples within 1 assay \n",
      "Active assay: RNA (28211 features, 0 variable features)\n",
      " 1 layer present: counts\n",
      "[1] \"Sample SCPCS000025:\"\n",
      "An object of class Seurat \n",
      "26159 features across 2437 samples within 1 assay \n",
      "Active assay: RNA (26159 features, 0 variable features)\n",
      " 1 layer present: counts\n",
      "[1] \"Sample SCPCS000026:\"\n",
      "An object of class Seurat \n",
      "23183 features across 5582 samples within 1 assay \n",
      "Active assay: RNA (23183 features, 0 variable features)\n",
      " 1 layer present: counts\n",
      "[1] \"Sample SCPCS000027:\"\n",
      "An object of class Seurat \n",
      "28027 features across 4230 samples within 1 assay \n",
      "Active assay: RNA (28027 features, 0 variable features)\n",
      " 1 layer present: counts\n",
      "[1] \"Sample SCPCS000028:\"\n",
      "An object of class Seurat \n",
      "25396 features across 4902 samples within 1 assay \n",
      "Active assay: RNA (25396 features, 0 variable features)\n",
      " 1 layer present: counts\n",
      "[1] \"Sample SCPCS000029:\"\n",
      "An object of class Seurat \n",
      "21576 features across 1117 samples within 1 assay \n",
      "Active assay: RNA (21576 features, 0 variable features)\n",
      " 1 layer present: counts\n",
      "[1] \"Sample SCPCS000030:\"\n",
      "An object of class Seurat \n",
      "6064 features across 102 samples within 1 assay \n",
      "Active assay: RNA (6064 features, 0 variable features)\n",
      " 1 layer present: counts\n",
      "[1] \"Sample SCPCS000031:\"\n",
      "An object of class Seurat \n",
      "21976 features across 810 samples within 1 assay \n",
      "Active assay: RNA (21976 features, 0 variable features)\n",
      " 1 layer present: counts\n",
      "[1] \"Sample SCPCS000032:\"\n",
      "An object of class Seurat \n",
      "24781 features across 1810 samples within 1 assay \n",
      "Active assay: RNA (24781 features, 0 variable features)\n",
      " 1 layer present: counts\n",
      "[1] \"Sample SCPCS000033:\"\n",
      "An object of class Seurat \n",
      "25106 features across 2046 samples within 1 assay \n",
      "Active assay: RNA (25106 features, 0 variable features)\n",
      " 1 layer present: counts\n",
      "[1] \"Sample SCPCS000034:\"\n",
      "An object of class Seurat \n",
      "24373 features across 4724 samples within 1 assay \n",
      "Active assay: RNA (24373 features, 0 variable features)\n",
      " 1 layer present: counts\n",
      "[1] \"Sample SCPCS000035:\"\n",
      "An object of class Seurat \n",
      "23797 features across 855 samples within 1 assay \n",
      "Active assay: RNA (23797 features, 0 variable features)\n",
      " 1 layer present: counts\n",
      "[1] \"Sample SCPCS000036:\"\n",
      "An object of class Seurat \n",
      "23851 features across 1359 samples within 1 assay \n",
      "Active assay: RNA (23851 features, 0 variable features)\n",
      " 1 layer present: counts\n",
      "[1] \"Sample SCPCS000037:\"\n",
      "An object of class Seurat \n",
      "25943 features across 994 samples within 1 assay \n",
      "Active assay: RNA (25943 features, 0 variable features)\n",
      " 1 layer present: counts\n",
      "[1] \"Sample SCPCS000038:\"\n",
      "An object of class Seurat \n",
      "20807 features across 638 samples within 1 assay \n",
      "Active assay: RNA (20807 features, 0 variable features)\n",
      " 1 layer present: counts\n",
      "[1] \"Sample SCPCS000039:\"\n",
      "An object of class Seurat \n",
      "26155 features across 3187 samples within 1 assay \n",
      "Active assay: RNA (26155 features, 0 variable features)\n",
      " 1 layer present: counts\n",
      "[1] \"Sample SCPCS000040:\"\n",
      "An object of class Seurat \n",
      "19045 features across 6476 samples within 1 assay \n",
      "Active assay: RNA (19045 features, 0 variable features)\n",
      " 1 layer present: counts\n",
      "[1] \"Sample SCPCS000041:\"\n",
      "An object of class Seurat \n",
      "26144 features across 4892 samples within 1 assay \n",
      "Active assay: RNA (26144 features, 0 variable features)\n",
      " 1 layer present: counts\n",
      "[1] \"Sample SCPCS000042:\"\n",
      "An object of class Seurat \n",
      "24900 features across 5983 samples within 1 assay \n",
      "Active assay: RNA (24900 features, 0 variable features)\n",
      " 1 layer present: counts\n",
      "[1] \"Sample SCPCS000043:\"\n",
      "An object of class Seurat \n",
      "26636 features across 1361 samples within 1 assay \n",
      "Active assay: RNA (26636 features, 0 variable features)\n",
      " 1 layer present: counts\n",
      "[1] \"Sample SCPCS000044:\"\n",
      "An object of class Seurat \n",
      "26456 features across 1130 samples within 1 assay \n",
      "Active assay: RNA (26456 features, 0 variable features)\n",
      " 1 layer present: counts\n",
      "[1] \"Sample SCPCS000045:\"\n",
      "An object of class Seurat \n",
      "23851 features across 5128 samples within 1 assay \n",
      "Active assay: RNA (23851 features, 0 variable features)\n",
      " 1 layer present: counts\n",
      "[1] \"Sample SCPCS000046:\"\n",
      "An object of class Seurat \n",
      "27699 features across 4774 samples within 1 assay \n",
      "Active assay: RNA (27699 features, 0 variable features)\n",
      " 1 layer present: counts\n",
      "[1] \"Sample SCPCS000047:\"\n",
      "An object of class Seurat \n",
      "28273 features across 9178 samples within 1 assay \n",
      "Active assay: RNA (28273 features, 0 variable features)\n",
      " 1 layer present: counts\n",
      "[1] \"Sample SCPCS000048:\"\n",
      "An object of class Seurat \n",
      "29216 features across 5003 samples within 1 assay \n",
      "Active assay: RNA (29216 features, 0 variable features)\n",
      " 1 layer present: counts\n",
      "[1] \"Sample SCPCS000049:\"\n",
      "An object of class Seurat \n",
      "29472 features across 7770 samples within 1 assay \n",
      "Active assay: RNA (29472 features, 0 variable features)\n",
      " 1 layer present: counts\n"
     ]
    }
   ],
   "source": [
    "getwd()\n",
    "# List the directories containing the sample data\n",
    "sample_dirs <- list.dirs(\"./in/LGG/count/\", recursive = FALSE)\n",
    "\n",
    "data_LGG <- list()\n",
    "# Read metadata file\n",
    "metadata <- read.delim(\"./in/LGG/Metadata/metadata.tsv\", sep=\"\\t\", header=TRUE)\n",
    "\n",
    "# Iterate over each sample directory\n",
    "for (i in 1:length(sample_dirs)) {\n",
    "    # Get sample ID from directory name\n",
    "    sample_id <- basename(sample_dirs[i])\n",
    "    \n",
    "    # Construct path to RDS file\n",
    "    rds_file <- file.path(sample_dirs[i], paste0(gsub(\"SCPCS\", \"SCPCL\", sample_id), \"_unfiltered.rds\"))\n",
    "    \n",
    "    # Read the RDS file and get counts\n",
    "    sce_obj <- readRDS(rds_file)\n",
    "    counts_matrix <- counts(sce_obj)\n",
    "    \n",
    "    # Create Seurat object from counts\n",
    "    seurat_obj <- CreateSeuratObject(counts = counts_matrix, \n",
    "                                    project = sample_id,\n",
    "                                    min.cells = 3,\n",
    "                                    min.features = 200)\n",
    "        \n",
    "    # Print object info\n",
    "    print(seurat_obj)\n",
    "    print(paste0(\"Class of object: \", class(seurat_obj)))\n",
    "\n",
    "    \n",
    "    # Get metadata for this sample\n",
    "    sample_metadata <- metadata[metadata$scpca_sample_id == sample_id,]\n",
    "    \n",
    "    # Add metadata columns to Seurat object\n",
    "    seurat_obj$sample_name <- sample_id\n",
    "    seurat_obj$diagnosis <- sample_metadata$diagnosis\n",
    "    seurat_obj$age <- sample_metadata$age\n",
    "    seurat_obj$sex <- sample_metadata$sex\n",
    "    seurat_obj$tissue_location <- sample_metadata$tissue_location\n",
    "    \n",
    "    # Add to list\n",
    "    data_LGG[[i]] <- seurat_obj\n",
    "}\n",
    "\n",
    "# Print the Seurat objects to check\n",
    "sample_names <- basename(sample_dirs)\n",
    "sample_names <- gsub(\"Sample_\", \"\", x = sample_names)\n",
    "sample_names <- gsub(\"_\\\\d+$\", \"\", sample_names, perl = T)\n",
    "\n",
    "names(data_LGG) <- sample_names\n",
    "\n",
    "# Print final list of Seurat objects\n",
    "print(\"Final list of Seurat objects:\")\n",
    "for(i in 1:length(data_LGG)) {\n",
    "    print(paste0(\"Sample \", names(data_LGG)[i], \":\"))\n",
    "    print(data_LGG[[i]])\n",
    "}"
   ]
  },
  {
   "cell_type": "code",
   "execution_count": 10,
   "metadata": {
    "vscode": {
     "languageId": "r"
    }
   },
   "outputs": [],
   "source": [
    "#data <- c(data_HGG, data_LGG)\n",
    "#names(data)\n",
    "data <- data_HGG"
   ]
  },
  {
   "cell_type": "code",
   "execution_count": 11,
   "metadata": {
    "vscode": {
     "languageId": "r"
    }
   },
   "outputs": [],
   "source": [
    "# Create output directory if it doesn't exist\n",
    "dir.create(\"out\", showWarnings = FALSE)\n",
    "\n",
    "# Save each Seurat object as RDS file\n",
    "for(name in names(data)) {\n",
    "    sample_name <- name\n",
    "    output_file <- file.path(\"out\", paste0(sample_name, \".rds\"))\n",
    "    saveRDS(data[[name]], file = output_file)\n",
    "}\n"
   ]
  },
  {
   "cell_type": "code",
   "execution_count": 1,
   "metadata": {
    "vscode": {
     "languageId": "r"
    }
   },
   "outputs": [
    {
     "name": "stderr",
     "output_type": "stream",
     "text": [
      "Loading required package: SeuratObject\n",
      "\n",
      "Loading required package: sp\n",
      "\n",
      "'SeuratObject' was built with package 'Matrix' 1.7.0 but the current\n",
      "version is 1.7.1; it is recomended that you reinstall 'SeuratObject' as\n",
      "the ABI for 'Matrix' may have changed\n",
      "\n",
      "\n",
      "Attaching package: 'SeuratObject'\n",
      "\n",
      "\n",
      "The following objects are masked from 'package:base':\n",
      "\n",
      "    intersect, t\n",
      "\n",
      "\n"
     ]
    }
   ],
   "source": [
    "library(Seurat)"
   ]
  },
  {
   "cell_type": "code",
   "execution_count": 12,
   "metadata": {
    "vscode": {
     "languageId": "r"
    }
   },
   "outputs": [
    {
     "name": "stdout",
     "output_type": "stream",
     "text": [
      "[1] \"./in/GSE271379_RAW/GSM8375832_GBM1_L\"\n"
     ]
    },
    {
     "name": "stderr",
     "output_type": "stream",
     "text": [
      "Warning message:\n",
      "\"Feature names cannot have underscores ('_'), replacing with dashes ('-')\"\n"
     ]
    },
    {
     "name": "stdout",
     "output_type": "stream",
     "text": [
      "[1] \"Glioblastoma\"\n",
      "[1] \"./in/GSE271379_RAW/GSM8375833_GBM3_Y\"\n"
     ]
    },
    {
     "name": "stderr",
     "output_type": "stream",
     "text": [
      "Warning message:\n",
      "\"Feature names cannot have underscores ('_'), replacing with dashes ('-')\"\n"
     ]
    },
    {
     "name": "stdout",
     "output_type": "stream",
     "text": [
      "[1] \"Glioblastoma\"\n",
      "[1] \"./in/GSE271379_RAW/GSM8375834_GBM4_W\"\n"
     ]
    },
    {
     "name": "stderr",
     "output_type": "stream",
     "text": [
      "Warning message:\n",
      "\"Feature names cannot have underscores ('_'), replacing with dashes ('-')\"\n"
     ]
    },
    {
     "name": "stdout",
     "output_type": "stream",
     "text": [
      "[1] \"Glioblastoma\"\n",
      "[1] \"./in/GSE271379_RAW/GSM8375835_GBM5_L\"\n"
     ]
    },
    {
     "name": "stderr",
     "output_type": "stream",
     "text": [
      "Warning message:\n",
      "\"Feature names cannot have underscores ('_'), replacing with dashes ('-')\"\n"
     ]
    },
    {
     "name": "stdout",
     "output_type": "stream",
     "text": [
      "[1] \"Glioblastoma\"\n",
      "[1] \"./in/GSE271379_RAW/GSM8375836_GBM6_X\"\n"
     ]
    },
    {
     "name": "stderr",
     "output_type": "stream",
     "text": [
      "Warning message:\n",
      "\"Feature names cannot have underscores ('_'), replacing with dashes ('-')\"\n"
     ]
    },
    {
     "name": "stdout",
     "output_type": "stream",
     "text": [
      "[1] \"Glioblastoma\"\n",
      "$GSM8375832_GBM1_L\n",
      "An object of class Seurat \n",
      "33694 features across 5148 samples within 1 assay \n",
      "Active assay: RNA (33694 features, 0 variable features)\n",
      " 1 layer present: counts\n",
      "\n",
      "$GSM8375833_GBM3_Y\n",
      "An object of class Seurat \n",
      "33694 features across 11473 samples within 1 assay \n",
      "Active assay: RNA (33694 features, 0 variable features)\n",
      " 1 layer present: counts\n",
      "\n",
      "$GSM8375834_GBM4_W\n",
      "An object of class Seurat \n",
      "33694 features across 14451 samples within 1 assay \n",
      "Active assay: RNA (33694 features, 0 variable features)\n",
      " 1 layer present: counts\n",
      "\n",
      "$GSM8375835_GBM5_L\n",
      "An object of class Seurat \n",
      "33694 features across 5919 samples within 1 assay \n",
      "Active assay: RNA (33694 features, 0 variable features)\n",
      " 1 layer present: counts\n",
      "\n",
      "$GSM8375836_GBM6_X\n",
      "An object of class Seurat \n",
      "33694 features across 4337 samples within 1 assay \n",
      "Active assay: RNA (33694 features, 0 variable features)\n",
      " 1 layer present: counts\n",
      "\n"
     ]
    }
   ],
   "source": [
    "# Define the base directory containing the data\n",
    "base_dir <- \"./in/GSE271379_RAW\"\n",
    "\n",
    "# List of sample prefixes\n",
    "samples <- c(\"GSM8375832_GBM1_L\", \n",
    "             \"GSM8375833_GBM3_Y\", \n",
    "             \"GSM8375834_GBM4_W\", \n",
    "             \"GSM8375835_GBM5_L\", \n",
    "             \"GSM8375836_GBM6_X\")\n",
    "\n",
    "# Initialize an empty list to store Seurat objects\n",
    "seurat_list <- list()\n",
    "\n",
    "# Loop through each sample and read data\n",
    "for (sample in samples) {\n",
    "  # Construct the full path for the sample\n",
    "  sample_path <- file.path(base_dir, sample)\n",
    "  print(sample_path)\n",
    "  \n",
    "  # Read the 10X data\n",
    "  data <- Read10X(data.dir = sample_path)\n",
    "  \n",
    "  # Create a Seurat object\n",
    "  seurat_obj <- CreateSeuratObject(counts = data, project = sample)\n",
    "\n",
    "  seurat_obj$sample_name <- sample\n",
    "  seurat_obj$diagnosis <- \"Glioblastoma\"\n",
    "  seurat_obj$age <- \"NA\"\n",
    "  seurat_obj$sex <- \"NA\"\n",
    "  seurat_obj$tissue_location <- \"NA\"\n",
    "  \n",
    "  print(unique(seurat_obj$diagnosis))\n",
    "  # Store the Seurat object in the list\n",
    "  seurat_list[[sample]] <- seurat_obj\n",
    "}\n",
    "\n",
    "names(seurat_list) <- samples\n",
    "\n",
    "# Print summary of the list\n",
    "print(seurat_list)\n"
   ]
  },
  {
   "cell_type": "code",
   "execution_count": 13,
   "metadata": {
    "vscode": {
     "languageId": "r"
    }
   },
   "outputs": [
    {
     "name": "stdout",
     "output_type": "stream",
     "text": [
      "[1] \"Glioblastoma\"\n",
      "---------------------------------\n",
      "GSM8375832_GBM1_L 33694 5148[1] \"Glioblastoma\"\n",
      "---------------------------------\n",
      "GSM8375833_GBM3_Y 33694 11473[1] \"Glioblastoma\"\n",
      "---------------------------------\n",
      "GSM8375834_GBM4_W 33694 14451[1] \"Glioblastoma\"\n",
      "---------------------------------\n",
      "GSM8375835_GBM5_L 33694 5919[1] \"Glioblastoma\"\n",
      "---------------------------------\n",
      "GSM8375836_GBM6_X 33694 4337"
     ]
    }
   ],
   "source": [
    "# Save each Seurat object as RDS file\n",
    "for(i in 1:length(seurat_list)) {\n",
    "    sample_name <- names(seurat_list)[i]\n",
    "    output_file <- file.path(\"out\", paste0(sample_name, \".rds\"))\n",
    "    print(unique(seurat_list[[i]]@meta.data$diagnosis))\n",
    "    saveRDS(seurat_list[[i]], file = output_file)\n",
    "    cat(\"---------------------------------\\n\")\n",
    "    cat(sample_name, nrow(seurat_list[[i]]), ncol(seurat_list[[i]]))\n",
    "}"
   ]
  },
  {
   "cell_type": "code",
   "execution_count": 20,
   "metadata": {
    "vscode": {
     "languageId": "r"
    }
   },
   "outputs": [
    {
     "data": {
      "text/html": [
       "<style>\n",
       ".list-inline {list-style: none; margin:0; padding: 0}\n",
       ".list-inline>li {display: inline-block}\n",
       ".list-inline>li:not(:last-child)::after {content: \"\\00b7\"; padding: 0 .5ex}\n",
       "</style>\n",
       "<ol class=list-inline><li>'GSM8375832_GBM1_L'</li><li>'GSM8375833_GBM3_Y'</li><li>'GSM8375834_GBM4_W'</li><li>'GSM8375835_GBM5_L'</li><li>'GSM8375836_GBM6_X'</li></ol>\n"
      ],
      "text/latex": [
       "\\begin{enumerate*}\n",
       "\\item 'GSM8375832\\_GBM1\\_L'\n",
       "\\item 'GSM8375833\\_GBM3\\_Y'\n",
       "\\item 'GSM8375834\\_GBM4\\_W'\n",
       "\\item 'GSM8375835\\_GBM5\\_L'\n",
       "\\item 'GSM8375836\\_GBM6\\_X'\n",
       "\\end{enumerate*}\n"
      ],
      "text/markdown": [
       "1. 'GSM8375832_GBM1_L'\n",
       "2. 'GSM8375833_GBM3_Y'\n",
       "3. 'GSM8375834_GBM4_W'\n",
       "4. 'GSM8375835_GBM5_L'\n",
       "5. 'GSM8375836_GBM6_X'\n",
       "\n",
       "\n"
      ],
      "text/plain": [
       "[1] \"GSM8375832_GBM1_L\" \"GSM8375833_GBM3_Y\" \"GSM8375834_GBM4_W\"\n",
       "[4] \"GSM8375835_GBM5_L\" \"GSM8375836_GBM6_X\""
      ]
     },
     "metadata": {},
     "output_type": "display_data"
    }
   ],
   "source": [
    "names(seurat_list)"
   ]
  }
 ],
 "metadata": {
  "kernelspec": {
   "display_name": "R",
   "language": "R",
   "name": "ir"
  },
  "language_info": {
   "codemirror_mode": "r",
   "file_extension": ".r",
   "mimetype": "text/x-r-source",
   "name": "R",
   "pygments_lexer": "r",
   "version": "4.4.0"
  }
 },
 "nbformat": 4,
 "nbformat_minor": 2
}
