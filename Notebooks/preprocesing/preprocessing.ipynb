{
 "cells": [
  {
   "cell_type": "code",
   "execution_count": 1,
   "metadata": {
    "vscode": {
     "languageId": "r"
    }
   },
   "outputs": [
    {
     "name": "stderr",
     "output_type": "stream",
     "text": [
      "Loading required package: SeuratObject\n",
      "\n",
      "Loading required package: sp\n",
      "\n",
      "'SeuratObject' was built with package 'Matrix' 1.7.0 but the current\n",
      "version is 1.7.1; it is recomended that you reinstall 'SeuratObject' as\n",
      "the ABI for 'Matrix' may have changed\n",
      "\n",
      "\n",
      "Attaching package: 'SeuratObject'\n",
      "\n",
      "\n",
      "The following objects are masked from 'package:base':\n",
      "\n",
      "    intersect, t\n",
      "\n",
      "\n"
     ]
    }
   ],
   "source": [
    "library(Seurat)"
   ]
  },
  {
   "cell_type": "code",
   "execution_count": 2,
   "metadata": {
    "vscode": {
     "languageId": "r"
    }
   },
   "outputs": [],
   "source": [
    "data <- readRDS(\"./out/seurat_list_doublet.rds\")"
   ]
  },
  {
   "cell_type": "code",
   "execution_count": 4,
   "metadata": {
    "vscode": {
     "languageId": "r"
    }
   },
   "outputs": [
    {
     "data": {
      "text/html": [
       "<style>\n",
       ".list-inline {list-style: none; margin:0; padding: 0}\n",
       ".list-inline>li {display: inline-block}\n",
       ".list-inline>li:not(:last-child)::after {content: \"\\00b7\"; padding: 0 .5ex}\n",
       "</style>\n",
       "<ol class=list-inline><li>'../Generate_Seurat_Object/out/GSM6432705_P-1190_S-1197.rds'</li><li>'../Generate_Seurat_Object/out/GSM6432706_P-1569_S-1569.rds'</li><li>'../Generate_Seurat_Object/out/GSM6432723_P-6117_S-8370.rds'</li><li>'../Generate_Seurat_Object/out/GSM6432724_P-6166_S-8321.rds'</li><li>'../Generate_Seurat_Object/out/GSM6432725_P-6240_S-8628.rds'</li><li>'../Generate_Seurat_Object/out/GSM6432731_P-6308_S-8632.rds'</li><li>'../Generate_Seurat_Object/out/GSM6432735_P-6337_S-8821.rds'</li><li>'../Generate_Seurat_Object/out/GSM6432738_P-6519_S-9084.rds'</li><li>'../Generate_Seurat_Object/out/GSM6432739_P-6640_S-9581.rds'</li><li>'../Generate_Seurat_Object/out/GSM7305260_834.rds'</li><li>'../Generate_Seurat_Object/out/GSM7305261_868.rds'</li><li>'../Generate_Seurat_Object/out/GSM7305262_905.rds'</li><li>'../Generate_Seurat_Object/out/GSM7305263_910.rds'</li><li>'../Generate_Seurat_Object/out/GSM7305264_954.rds'</li><li>'../Generate_Seurat_Object/out/GSM7305265_968.rds'</li><li>'../Generate_Seurat_Object/out/GSM7305266_1107.rds'</li><li>'../Generate_Seurat_Object/out/GSM7305267_1144.rds'</li><li>'../Generate_Seurat_Object/out/GSM7305268_1187.rds'</li><li>'../Generate_Seurat_Object/out/GSM7305269_1190.rds'</li><li>'../Generate_Seurat_Object/out/GSM7305270_1196.rds'</li><li>'../Generate_Seurat_Object/out/GSM7305271_1214.rds'</li><li>'../Generate_Seurat_Object/out/GSM7305272_1241.rds'</li><li>'../Generate_Seurat_Object/out/GSM7305273_1414.rds'</li><li>'../Generate_Seurat_Object/out/GSM7305274_1421.rds'</li><li>'../Generate_Seurat_Object/out/GSM7305275_1431.rds'</li><li>'../Generate_Seurat_Object/out/GSM7305276_1437.rds'</li><li>'../Generate_Seurat_Object/out/GSM7305277_1458.rds'</li><li>'../Generate_Seurat_Object/out/GSM7305278_1463_B.rds'</li></ol>\n"
      ],
      "text/latex": [
       "\\begin{enumerate*}\n",
       "\\item '../Generate\\_Seurat\\_Object/out/GSM6432705\\_P-1190\\_S-1197.rds'\n",
       "\\item '../Generate\\_Seurat\\_Object/out/GSM6432706\\_P-1569\\_S-1569.rds'\n",
       "\\item '../Generate\\_Seurat\\_Object/out/GSM6432723\\_P-6117\\_S-8370.rds'\n",
       "\\item '../Generate\\_Seurat\\_Object/out/GSM6432724\\_P-6166\\_S-8321.rds'\n",
       "\\item '../Generate\\_Seurat\\_Object/out/GSM6432725\\_P-6240\\_S-8628.rds'\n",
       "\\item '../Generate\\_Seurat\\_Object/out/GSM6432731\\_P-6308\\_S-8632.rds'\n",
       "\\item '../Generate\\_Seurat\\_Object/out/GSM6432735\\_P-6337\\_S-8821.rds'\n",
       "\\item '../Generate\\_Seurat\\_Object/out/GSM6432738\\_P-6519\\_S-9084.rds'\n",
       "\\item '../Generate\\_Seurat\\_Object/out/GSM6432739\\_P-6640\\_S-9581.rds'\n",
       "\\item '../Generate\\_Seurat\\_Object/out/GSM7305260\\_834.rds'\n",
       "\\item '../Generate\\_Seurat\\_Object/out/GSM7305261\\_868.rds'\n",
       "\\item '../Generate\\_Seurat\\_Object/out/GSM7305262\\_905.rds'\n",
       "\\item '../Generate\\_Seurat\\_Object/out/GSM7305263\\_910.rds'\n",
       "\\item '../Generate\\_Seurat\\_Object/out/GSM7305264\\_954.rds'\n",
       "\\item '../Generate\\_Seurat\\_Object/out/GSM7305265\\_968.rds'\n",
       "\\item '../Generate\\_Seurat\\_Object/out/GSM7305266\\_1107.rds'\n",
       "\\item '../Generate\\_Seurat\\_Object/out/GSM7305267\\_1144.rds'\n",
       "\\item '../Generate\\_Seurat\\_Object/out/GSM7305268\\_1187.rds'\n",
       "\\item '../Generate\\_Seurat\\_Object/out/GSM7305269\\_1190.rds'\n",
       "\\item '../Generate\\_Seurat\\_Object/out/GSM7305270\\_1196.rds'\n",
       "\\item '../Generate\\_Seurat\\_Object/out/GSM7305271\\_1214.rds'\n",
       "\\item '../Generate\\_Seurat\\_Object/out/GSM7305272\\_1241.rds'\n",
       "\\item '../Generate\\_Seurat\\_Object/out/GSM7305273\\_1414.rds'\n",
       "\\item '../Generate\\_Seurat\\_Object/out/GSM7305274\\_1421.rds'\n",
       "\\item '../Generate\\_Seurat\\_Object/out/GSM7305275\\_1431.rds'\n",
       "\\item '../Generate\\_Seurat\\_Object/out/GSM7305276\\_1437.rds'\n",
       "\\item '../Generate\\_Seurat\\_Object/out/GSM7305277\\_1458.rds'\n",
       "\\item '../Generate\\_Seurat\\_Object/out/GSM7305278\\_1463\\_B.rds'\n",
       "\\end{enumerate*}\n"
      ],
      "text/markdown": [
       "1. '../Generate_Seurat_Object/out/GSM6432705_P-1190_S-1197.rds'\n",
       "2. '../Generate_Seurat_Object/out/GSM6432706_P-1569_S-1569.rds'\n",
       "3. '../Generate_Seurat_Object/out/GSM6432723_P-6117_S-8370.rds'\n",
       "4. '../Generate_Seurat_Object/out/GSM6432724_P-6166_S-8321.rds'\n",
       "5. '../Generate_Seurat_Object/out/GSM6432725_P-6240_S-8628.rds'\n",
       "6. '../Generate_Seurat_Object/out/GSM6432731_P-6308_S-8632.rds'\n",
       "7. '../Generate_Seurat_Object/out/GSM6432735_P-6337_S-8821.rds'\n",
       "8. '../Generate_Seurat_Object/out/GSM6432738_P-6519_S-9084.rds'\n",
       "9. '../Generate_Seurat_Object/out/GSM6432739_P-6640_S-9581.rds'\n",
       "10. '../Generate_Seurat_Object/out/GSM7305260_834.rds'\n",
       "11. '../Generate_Seurat_Object/out/GSM7305261_868.rds'\n",
       "12. '../Generate_Seurat_Object/out/GSM7305262_905.rds'\n",
       "13. '../Generate_Seurat_Object/out/GSM7305263_910.rds'\n",
       "14. '../Generate_Seurat_Object/out/GSM7305264_954.rds'\n",
       "15. '../Generate_Seurat_Object/out/GSM7305265_968.rds'\n",
       "16. '../Generate_Seurat_Object/out/GSM7305266_1107.rds'\n",
       "17. '../Generate_Seurat_Object/out/GSM7305267_1144.rds'\n",
       "18. '../Generate_Seurat_Object/out/GSM7305268_1187.rds'\n",
       "19. '../Generate_Seurat_Object/out/GSM7305269_1190.rds'\n",
       "20. '../Generate_Seurat_Object/out/GSM7305270_1196.rds'\n",
       "21. '../Generate_Seurat_Object/out/GSM7305271_1214.rds'\n",
       "22. '../Generate_Seurat_Object/out/GSM7305272_1241.rds'\n",
       "23. '../Generate_Seurat_Object/out/GSM7305273_1414.rds'\n",
       "24. '../Generate_Seurat_Object/out/GSM7305274_1421.rds'\n",
       "25. '../Generate_Seurat_Object/out/GSM7305275_1431.rds'\n",
       "26. '../Generate_Seurat_Object/out/GSM7305276_1437.rds'\n",
       "27. '../Generate_Seurat_Object/out/GSM7305277_1458.rds'\n",
       "28. '../Generate_Seurat_Object/out/GSM7305278_1463_B.rds'\n",
       "\n",
       "\n"
      ],
      "text/plain": [
       " [1] \"../Generate_Seurat_Object/out/GSM6432705_P-1190_S-1197.rds\"\n",
       " [2] \"../Generate_Seurat_Object/out/GSM6432706_P-1569_S-1569.rds\"\n",
       " [3] \"../Generate_Seurat_Object/out/GSM6432723_P-6117_S-8370.rds\"\n",
       " [4] \"../Generate_Seurat_Object/out/GSM6432724_P-6166_S-8321.rds\"\n",
       " [5] \"../Generate_Seurat_Object/out/GSM6432725_P-6240_S-8628.rds\"\n",
       " [6] \"../Generate_Seurat_Object/out/GSM6432731_P-6308_S-8632.rds\"\n",
       " [7] \"../Generate_Seurat_Object/out/GSM6432735_P-6337_S-8821.rds\"\n",
       " [8] \"../Generate_Seurat_Object/out/GSM6432738_P-6519_S-9084.rds\"\n",
       " [9] \"../Generate_Seurat_Object/out/GSM6432739_P-6640_S-9581.rds\"\n",
       "[10] \"../Generate_Seurat_Object/out/GSM7305260_834.rds\"          \n",
       "[11] \"../Generate_Seurat_Object/out/GSM7305261_868.rds\"          \n",
       "[12] \"../Generate_Seurat_Object/out/GSM7305262_905.rds\"          \n",
       "[13] \"../Generate_Seurat_Object/out/GSM7305263_910.rds\"          \n",
       "[14] \"../Generate_Seurat_Object/out/GSM7305264_954.rds\"          \n",
       "[15] \"../Generate_Seurat_Object/out/GSM7305265_968.rds\"          \n",
       "[16] \"../Generate_Seurat_Object/out/GSM7305266_1107.rds\"         \n",
       "[17] \"../Generate_Seurat_Object/out/GSM7305267_1144.rds\"         \n",
       "[18] \"../Generate_Seurat_Object/out/GSM7305268_1187.rds\"         \n",
       "[19] \"../Generate_Seurat_Object/out/GSM7305269_1190.rds\"         \n",
       "[20] \"../Generate_Seurat_Object/out/GSM7305270_1196.rds\"         \n",
       "[21] \"../Generate_Seurat_Object/out/GSM7305271_1214.rds\"         \n",
       "[22] \"../Generate_Seurat_Object/out/GSM7305272_1241.rds\"         \n",
       "[23] \"../Generate_Seurat_Object/out/GSM7305273_1414.rds\"         \n",
       "[24] \"../Generate_Seurat_Object/out/GSM7305274_1421.rds\"         \n",
       "[25] \"../Generate_Seurat_Object/out/GSM7305275_1431.rds\"         \n",
       "[26] \"../Generate_Seurat_Object/out/GSM7305276_1437.rds\"         \n",
       "[27] \"../Generate_Seurat_Object/out/GSM7305277_1458.rds\"         \n",
       "[28] \"../Generate_Seurat_Object/out/GSM7305278_1463_B.rds\"       "
      ]
     },
     "metadata": {},
     "output_type": "display_data"
    }
   ],
   "source": [
    "names(data)"
   ]
  },
  {
   "cell_type": "code",
   "execution_count": 7,
   "metadata": {
    "vscode": {
     "languageId": "r"
    }
   },
   "outputs": [],
   "source": [
    "for (name in names(data)) {\n",
    "    # Filter out doublets\n",
    "    data[[name]] <- subset(data[[name]], subset = DFC == \"Singlet\")\n",
    "}"
   ]
  },
  {
   "cell_type": "code",
   "execution_count": 9,
   "metadata": {
    "vscode": {
     "languageId": "r"
    }
   },
   "outputs": [
    {
     "name": "stdout",
     "output_type": "stream",
     "text": [
      "[1] \"-----------------------------\"\n",
      "[1] \"../Generate_Seurat_Object/out/GSM6432705_P-1190_S-1197.rds\"\n",
      "NULL\n",
      "[1] \"-----------------------------\"\n",
      "[1] \"../Generate_Seurat_Object/out/GSM6432706_P-1569_S-1569.rds\"\n",
      "NULL\n",
      "[1] \"-----------------------------\"\n",
      "[1] \"../Generate_Seurat_Object/out/GSM6432723_P-6117_S-8370.rds\"\n",
      "NULL\n",
      "[1] \"-----------------------------\"\n",
      "[1] \"../Generate_Seurat_Object/out/GSM6432724_P-6166_S-8321.rds\"\n",
      "NULL\n",
      "[1] \"-----------------------------\"\n",
      "[1] \"../Generate_Seurat_Object/out/GSM6432725_P-6240_S-8628.rds\"\n",
      "NULL\n",
      "[1] \"-----------------------------\"\n",
      "[1] \"../Generate_Seurat_Object/out/GSM6432731_P-6308_S-8632.rds\"\n",
      "NULL\n",
      "[1] \"-----------------------------\"\n",
      "[1] \"../Generate_Seurat_Object/out/GSM6432735_P-6337_S-8821.rds\"\n",
      "NULL\n",
      "[1] \"-----------------------------\"\n",
      "[1] \"../Generate_Seurat_Object/out/GSM6432738_P-6519_S-9084.rds\"\n",
      "NULL\n",
      "[1] \"-----------------------------\"\n",
      "[1] \"../Generate_Seurat_Object/out/GSM6432739_P-6640_S-9581.rds\"\n",
      "NULL\n",
      "[1] \"-----------------------------\"\n",
      "[1] \"../Generate_Seurat_Object/out/GSM7305260_834.rds\"\n",
      "NULL\n",
      "[1] \"-----------------------------\"\n",
      "[1] \"../Generate_Seurat_Object/out/GSM7305261_868.rds\"\n",
      "NULL\n",
      "[1] \"-----------------------------\"\n",
      "[1] \"../Generate_Seurat_Object/out/GSM7305262_905.rds\"\n",
      "NULL\n",
      "[1] \"-----------------------------\"\n",
      "[1] \"../Generate_Seurat_Object/out/GSM7305263_910.rds\"\n",
      "NULL\n",
      "[1] \"-----------------------------\"\n",
      "[1] \"../Generate_Seurat_Object/out/GSM7305264_954.rds\"\n",
      "NULL\n",
      "[1] \"-----------------------------\"\n",
      "[1] \"../Generate_Seurat_Object/out/GSM7305265_968.rds\"\n",
      "NULL\n",
      "[1] \"-----------------------------\"\n",
      "[1] \"../Generate_Seurat_Object/out/GSM7305266_1107.rds\"\n",
      "NULL\n",
      "[1] \"-----------------------------\"\n",
      "[1] \"../Generate_Seurat_Object/out/GSM7305267_1144.rds\"\n",
      "NULL\n",
      "[1] \"-----------------------------\"\n",
      "[1] \"../Generate_Seurat_Object/out/GSM7305268_1187.rds\"\n",
      "NULL\n",
      "[1] \"-----------------------------\"\n",
      "[1] \"../Generate_Seurat_Object/out/GSM7305269_1190.rds\"\n",
      "NULL\n",
      "[1] \"-----------------------------\"\n",
      "[1] \"../Generate_Seurat_Object/out/GSM7305270_1196.rds\"\n",
      "NULL\n",
      "[1] \"-----------------------------\"\n",
      "[1] \"../Generate_Seurat_Object/out/GSM7305271_1214.rds\"\n",
      "NULL\n",
      "[1] \"-----------------------------\"\n",
      "[1] \"../Generate_Seurat_Object/out/GSM7305272_1241.rds\"\n",
      "NULL\n",
      "[1] \"-----------------------------\"\n",
      "[1] \"../Generate_Seurat_Object/out/GSM7305273_1414.rds\"\n",
      "NULL\n",
      "[1] \"-----------------------------\"\n",
      "[1] \"../Generate_Seurat_Object/out/GSM7305274_1421.rds\"\n",
      "NULL\n",
      "[1] \"-----------------------------\"\n",
      "[1] \"../Generate_Seurat_Object/out/GSM7305275_1431.rds\"\n",
      "NULL\n",
      "[1] \"-----------------------------\"\n",
      "[1] \"../Generate_Seurat_Object/out/GSM7305276_1437.rds\"\n",
      "NULL\n",
      "[1] \"-----------------------------\"\n",
      "[1] \"../Generate_Seurat_Object/out/GSM7305277_1458.rds\"\n",
      "NULL\n",
      "[1] \"-----------------------------\"\n",
      "[1] \"../Generate_Seurat_Object/out/GSM7305278_1463_B.rds\"\n",
      "NULL\n"
     ]
    }
   ],
   "source": [
    "for (name in names(data)) {\n",
    "   print(\"-----------------------------\")\n",
    "   print(name)\n",
    "   print(unique(data[[name]]@meta.data$diagnosis))\n",
    "   data[[name]][[\"percent.mt\"]] <- PercentageFeatureSet(data[[name]], pattern = \"^MT-\")\n",
    "}"
   ]
  },
  {
   "cell_type": "markdown",
   "metadata": {},
   "source": [
    "Mito percentge  is zero for all celss indicating that authors have already removed all cells with Mito percentage != 0"
   ]
  },
  {
   "cell_type": "code",
   "execution_count": 7,
   "metadata": {
    "vscode": {
     "languageId": "r"
    }
   },
   "outputs": [
    {
     "name": "stdout",
     "output_type": "stream",
     "text": [
      "[1] \"Glioblastoma\"\n",
      "[1] \"Glioblastoma\"\n",
      "[1] \"Glioblastoma\"\n",
      "[1] \"Glioblastoma\"\n",
      "[1] \"Glioblastoma\"\n",
      "[1] \"Glioblastoma\"\n",
      "[1] \"Glioblastoma\"\n",
      "[1] \"Glioblastoma\"\n",
      "[1] \"Glioblastoma\"\n",
      "[1] \"Glioblastoma\"\n",
      "[1] \"Glioblastoma\"\n",
      "[1] \"Glioblastoma\"\n",
      "[1] \"Glioblastoma\"\n",
      "[1] \"Glioblastoma\"\n",
      "[1] \"Glioblastoma\"\n",
      "[1] \"Glioblastoma\"\n",
      "[1] \"Glioblastoma\"\n",
      "[1] \"Glioblastoma\"\n",
      "[1] \"Glioblastoma\"\n",
      "[1] \"Glioblastoma\"\n",
      "[1] \"Glioblastoma\"\n"
     ]
    }
   ],
   "source": [
    "clean_data <- list()\n",
    "for (i in 1:length(data)) {\n",
    "   clean_data[[i]] <- subset(data[[i]], subset = nFeature_RNA > 500 & percent.mt < 20)\n",
    "   clean_data[[i]] <- data[[i]]\n",
    "   print(unique(clean_data[[i]]@meta.data$diagnosis))\n",
    "}\n",
    "\n",
    "names(clean_data) <- data_names"
   ]
  },
  {
   "cell_type": "code",
   "execution_count": 8,
   "metadata": {
    "vscode": {
     "languageId": "r"
    }
   },
   "outputs": [],
   "source": [
    "\n",
    "saveRDS(clean_data, file.path(dir = \"out\", filename = \"clean_data.rds\")) \n"
   ]
  }
 ],
 "metadata": {
  "kernelspec": {
   "display_name": "R",
   "language": "R",
   "name": "ir"
  },
  "language_info": {
   "codemirror_mode": "r",
   "file_extension": ".r",
   "mimetype": "text/x-r-source",
   "name": "R",
   "pygments_lexer": "r",
   "version": "4.4.0"
  }
 },
 "nbformat": 4,
 "nbformat_minor": 2
}
