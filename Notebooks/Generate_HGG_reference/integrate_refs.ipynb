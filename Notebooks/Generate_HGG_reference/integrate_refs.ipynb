{
 "cells": [
  {
   "cell_type": "code",
   "execution_count": 2,
   "metadata": {
    "vscode": {
     "languageId": "r"
    }
   },
   "outputs": [
    {
     "name": "stderr",
     "output_type": "stream",
     "text": [
      "Loading required package: SeuratObject\n",
      "\n",
      "Loading required package: sp\n",
      "\n",
      "'SeuratObject' was built with package 'Matrix' 1.7.0 but the current\n",
      "version is 1.7.1; it is recomended that you reinstall 'SeuratObject' as\n",
      "the ABI for 'Matrix' may have changed\n",
      "\n",
      "\n",
      "Attaching package: 'SeuratObject'\n",
      "\n",
      "\n",
      "The following objects are masked from 'package:base':\n",
      "\n",
      "    intersect, t\n",
      "\n",
      "\n"
     ]
    }
   ],
   "source": [
    "library(Seurat)"
   ]
  },
  {
   "cell_type": "code",
   "execution_count": 6,
   "metadata": {
    "vscode": {
     "languageId": "r"
    }
   },
   "outputs": [
    {
     "name": "stdout",
     "output_type": "stream",
     "text": [
      " [1] \"./in/SCPCP000001_SINGLE-CELL_SINGLE-CELL-EXPERIMENT_2024-12-05/SCPCS000001\"\n",
      " [2] \"./in/SCPCP000001_SINGLE-CELL_SINGLE-CELL-EXPERIMENT_2024-12-05/SCPCS000002\"\n",
      " [3] \"./in/SCPCP000001_SINGLE-CELL_SINGLE-CELL-EXPERIMENT_2024-12-05/SCPCS000003\"\n",
      " [4] \"./in/SCPCP000001_SINGLE-CELL_SINGLE-CELL-EXPERIMENT_2024-12-05/SCPCS000004\"\n",
      " [5] \"./in/SCPCP000001_SINGLE-CELL_SINGLE-CELL-EXPERIMENT_2024-12-05/SCPCS000005\"\n",
      " [6] \"./in/SCPCP000001_SINGLE-CELL_SINGLE-CELL-EXPERIMENT_2024-12-05/SCPCS000006\"\n",
      " [7] \"./in/SCPCP000001_SINGLE-CELL_SINGLE-CELL-EXPERIMENT_2024-12-05/SCPCS000007\"\n",
      " [8] \"./in/SCPCP000001_SINGLE-CELL_SINGLE-CELL-EXPERIMENT_2024-12-05/SCPCS000008\"\n",
      " [9] \"./in/SCPCP000001_SINGLE-CELL_SINGLE-CELL-EXPERIMENT_2024-12-05/SCPCS000009\"\n",
      "[10] \"./in/SCPCP000001_SINGLE-CELL_SINGLE-CELL-EXPERIMENT_2024-12-05/SCPCS000010\"\n",
      "[11] \"./in/SCPCP000001_SINGLE-CELL_SINGLE-CELL-EXPERIMENT_2024-12-05/SCPCS000011\"\n",
      "[12] \"./in/SCPCP000001_SINGLE-CELL_SINGLE-CELL-EXPERIMENT_2024-12-05/SCPCS000012\"\n",
      "[13] \"./in/SCPCP000001_SINGLE-CELL_SINGLE-CELL-EXPERIMENT_2024-12-05/SCPCS000013\"\n",
      "[14] \"./in/SCPCP000001_SINGLE-CELL_SINGLE-CELL-EXPERIMENT_2024-12-05/SCPCS000014\"\n",
      "[15] \"./in/SCPCP000001_SINGLE-CELL_SINGLE-CELL-EXPERIMENT_2024-12-05/SCPCS000015\"\n",
      "[16] \"./in/SCPCP000001_SINGLE-CELL_SINGLE-CELL-EXPERIMENT_2024-12-05/SCPCS000016\"\n",
      "[17] \"./in/SCPCP000001_SINGLE-CELL_SINGLE-CELL-EXPERIMENT_2024-12-05/SCPCS000017\"\n",
      "[18] \"./in/SCPCP000001_SINGLE-CELL_SINGLE-CELL-EXPERIMENT_2024-12-05/SCPCS000018\"\n",
      "[19] \"./in/SCPCP000001_SINGLE-CELL_SINGLE-CELL-EXPERIMENT_2024-12-05/SCPCS000019\"\n",
      "[20] \"./in/SCPCP000001_SINGLE-CELL_SINGLE-CELL-EXPERIMENT_2024-12-05/SCPCS000020\"\n",
      "[21] \"./in/SCPCP000001_SINGLE-CELL_SINGLE-CELL-EXPERIMENT_2024-12-05/SCPCS000021\"\n",
      "[22] \"./in/SCPCP000001_SINGLE-CELL_SINGLE-CELL-EXPERIMENT_2024-12-05/SCPCS000022\"\n",
      "[23] \"./in/SCPCP000001_SINGLE-CELL_SINGLE-CELL-EXPERIMENT_2024-12-05/SCPCS000023\"\n"
     ]
    }
   ],
   "source": [
    "data_dir <- \"./in/SCPCP000001_SINGLE-CELL_SINGLE-CELL-EXPERIMENT_2024-12-05\"\n",
    "dirs <- list.dirs(path = data_dir, full.names = TRUE, recursive =FALSE)\n",
    "print(dirs)"
   ]
  },
  {
   "cell_type": "code",
   "execution_count": 5,
   "metadata": {
    "vscode": {
     "languageId": "r"
    }
   },
   "outputs": [
    {
     "data": {
      "text/html": [
       "'/Users/shiwani/Documents/GITHUB/Pediatric_Immuno-Oncology/Notebooks/Generate_HGG_reference'"
      ],
      "text/latex": [
       "'/Users/shiwani/Documents/GITHUB/Pediatric\\_Immuno-Oncology/Notebooks/Generate\\_HGG\\_reference'"
      ],
      "text/markdown": [
       "'/Users/shiwani/Documents/GITHUB/Pediatric_Immuno-Oncology/Notebooks/Generate_HGG_reference'"
      ],
      "text/plain": [
       "[1] \"/Users/shiwani/Documents/GITHUB/Pediatric_Immuno-Oncology/Notebooks/Generate_HGG_reference\""
      ]
     },
     "metadata": {},
     "output_type": "display_data"
    }
   ],
   "source": [
    "getwd()"
   ]
  },
  {
   "cell_type": "code",
   "execution_count": 12,
   "metadata": {
    "vscode": {
     "languageId": "r"
    }
   },
   "outputs": [
    {
     "name": "stderr",
     "output_type": "stream",
     "text": [
      "Warning message:\n",
      "\"Keys should be one or more alphanumeric characters followed by an underscore, setting key from PC to PC_\"\n",
      "Warning message:\n",
      "\"Keys should be one or more alphanumeric characters followed by an underscore, setting key from UMAP to UMAP_\"\n",
      "Warning message:\n",
      "\"Keys should be one or more alphanumeric characters followed by an underscore, setting key from PC to PC_\"\n",
      "Warning message:\n",
      "\"Keys should be one or more alphanumeric characters followed by an underscore, setting key from UMAP to UMAP_\"\n",
      "Warning message:\n",
      "\"Keys should be one or more alphanumeric characters followed by an underscore, setting key from PC to PC_\"\n",
      "Warning message:\n",
      "\"Keys should be one or more alphanumeric characters followed by an underscore, setting key from UMAP to UMAP_\"\n",
      "Warning message:\n",
      "\"Keys should be one or more alphanumeric characters followed by an underscore, setting key from PC to PC_\"\n",
      "Warning message:\n",
      "\"Keys should be one or more alphanumeric characters followed by an underscore, setting key from UMAP to UMAP_\"\n",
      "Warning message:\n",
      "\"Keys should be one or more alphanumeric characters followed by an underscore, setting key from PC to PC_\"\n",
      "Warning message:\n",
      "\"Keys should be one or more alphanumeric characters followed by an underscore, setting key from UMAP to UMAP_\"\n",
      "Warning message:\n",
      "\"Keys should be one or more alphanumeric characters followed by an underscore, setting key from PC to PC_\"\n",
      "Warning message:\n",
      "\"Keys should be one or more alphanumeric characters followed by an underscore, setting key from UMAP to UMAP_\"\n",
      "Warning message:\n",
      "\"Keys should be one or more alphanumeric characters followed by an underscore, setting key from PC to PC_\"\n",
      "Warning message:\n",
      "\"Keys should be one or more alphanumeric characters followed by an underscore, setting key from UMAP to UMAP_\"\n",
      "Warning message:\n",
      "\"Keys should be one or more alphanumeric characters followed by an underscore, setting key from PC to PC_\"\n",
      "Warning message:\n",
      "\"Keys should be one or more alphanumeric characters followed by an underscore, setting key from UMAP to UMAP_\"\n",
      "Warning message:\n",
      "\"Keys should be one or more alphanumeric characters followed by an underscore, setting key from PC to PC_\"\n",
      "Warning message:\n",
      "\"Keys should be one or more alphanumeric characters followed by an underscore, setting key from UMAP to UMAP_\"\n",
      "Warning message:\n",
      "\"Keys should be one or more alphanumeric characters followed by an underscore, setting key from PC to PC_\"\n",
      "Warning message:\n",
      "\"Keys should be one or more alphanumeric characters followed by an underscore, setting key from UMAP to UMAP_\"\n",
      "Warning message:\n",
      "\"Keys should be one or more alphanumeric characters followed by an underscore, setting key from PC to PC_\"\n",
      "Warning message:\n",
      "\"Keys should be one or more alphanumeric characters followed by an underscore, setting key from UMAP to UMAP_\"\n",
      "Warning message:\n",
      "\"Keys should be one or more alphanumeric characters followed by an underscore, setting key from PC to PC_\"\n",
      "Warning message:\n",
      "\"Keys should be one or more alphanumeric characters followed by an underscore, setting key from UMAP to UMAP_\"\n",
      "Warning message:\n",
      "\"Keys should be one or more alphanumeric characters followed by an underscore, setting key from PC to PC_\"\n",
      "Warning message:\n",
      "\"Keys should be one or more alphanumeric characters followed by an underscore, setting key from UMAP to UMAP_\"\n",
      "Warning message:\n",
      "\"Keys should be one or more alphanumeric characters followed by an underscore, setting key from PC to PC_\"\n",
      "Warning message:\n",
      "\"Keys should be one or more alphanumeric characters followed by an underscore, setting key from UMAP to UMAP_\"\n",
      "Warning message:\n",
      "\"Keys should be one or more alphanumeric characters followed by an underscore, setting key from PC to PC_\"\n",
      "Warning message:\n",
      "\"Keys should be one or more alphanumeric characters followed by an underscore, setting key from UMAP to UMAP_\"\n",
      "Warning message:\n",
      "\"Keys should be one or more alphanumeric characters followed by an underscore, setting key from PC to PC_\"\n",
      "Warning message:\n",
      "\"Keys should be one or more alphanumeric characters followed by an underscore, setting key from UMAP to UMAP_\"\n",
      "Warning message:\n",
      "\"Keys should be one or more alphanumeric characters followed by an underscore, setting key from PC to PC_\"\n",
      "Warning message:\n",
      "\"Keys should be one or more alphanumeric characters followed by an underscore, setting key from UMAP to UMAP_\"\n",
      "Warning message:\n",
      "\"Keys should be one or more alphanumeric characters followed by an underscore, setting key from PC to PC_\"\n",
      "Warning message:\n",
      "\"Keys should be one or more alphanumeric characters followed by an underscore, setting key from UMAP to UMAP_\"\n",
      "Warning message:\n",
      "\"Keys should be one or more alphanumeric characters followed by an underscore, setting key from PC to PC_\"\n",
      "Warning message:\n",
      "\"Keys should be one or more alphanumeric characters followed by an underscore, setting key from UMAP to UMAP_\"\n",
      "Warning message:\n",
      "\"Keys should be one or more alphanumeric characters followed by an underscore, setting key from PC to PC_\"\n",
      "Warning message:\n",
      "\"Keys should be one or more alphanumeric characters followed by an underscore, setting key from UMAP to UMAP_\"\n",
      "Warning message:\n",
      "\"Keys should be one or more alphanumeric characters followed by an underscore, setting key from PC to PC_\"\n",
      "Warning message:\n",
      "\"Keys should be one or more alphanumeric characters followed by an underscore, setting key from UMAP to UMAP_\"\n",
      "Warning message:\n",
      "\"Keys should be one or more alphanumeric characters followed by an underscore, setting key from PC to PC_\"\n",
      "Warning message:\n",
      "\"Keys should be one or more alphanumeric characters followed by an underscore, setting key from UMAP to UMAP_\"\n",
      "Warning message:\n",
      "\"Keys should be one or more alphanumeric characters followed by an underscore, setting key from PC to PC_\"\n",
      "Warning message:\n",
      "\"Keys should be one or more alphanumeric characters followed by an underscore, setting key from UMAP to UMAP_\"\n"
     ]
    }
   ],
   "source": [
    "seurat_objects <- list()\n",
    "\n",
    "for (dir_name in dirs) {\n",
    "    sample_name <- basename(dir_name)\n",
    "    modified_sample_name <- sub(\"SCPCS\", \"SCPCL\", sample_name)\n",
    "    filename <- paste0(dir_name, \"/\", modified_sample_name, \"_processed.rds\")\n",
    "    sce <- readRDS(filename)\n",
    "    seurat_obj <- as.Seurat(sce, counts = \"counts\", data=NULL)\n",
    "    seurat_objects[[modified_sample_name]] <- seurat_obj\n",
    "}"
   ]
  },
  {
   "cell_type": "code",
   "execution_count": 13,
   "metadata": {
    "vscode": {
     "languageId": "r"
    }
   },
   "outputs": [
    {
     "name": "stderr",
     "output_type": "stream",
     "text": [
      "Warning message:\n",
      "\"package 'harmony' was built under R version 4.4.1\"\n",
      "Loading required package: Rcpp\n",
      "\n",
      "Warning message:\n",
      "\"package 'Rcpp' was built under R version 4.4.1\"\n"
     ]
    }
   ],
   "source": [
    "library(harmony)"
   ]
  },
  {
   "cell_type": "code",
   "execution_count": 15,
   "metadata": {
    "vscode": {
     "languageId": "r"
    }
   },
   "outputs": [
    {
     "name": "stdout",
     "output_type": "stream",
     "text": [
      "SCPCL000001 2623 \n",
      "SCPCL000002 1016 \n",
      "SCPCL000003 278 \n",
      "SCPCL000004 546 \n",
      "SCPCL000005 326 \n",
      "SCPCL000006 1839 \n",
      "SCPCL000007 1324 \n",
      "SCPCL000008 3720 \n",
      "SCPCL000009 644 \n",
      "SCPCL000010 199 \n",
      "SCPCL000011 742 \n",
      "SCPCL000012 1025 \n",
      "SCPCL000013 2956 \n",
      "SCPCL000014 766 \n",
      "SCPCL000015 1152 \n",
      "SCPCL000016 2799 \n",
      "SCPCL000017 773 \n",
      "SCPCL000018 39 \n",
      "SCPCL000019 1558 \n",
      "SCPCL000020 411 \n",
      "SCPCL000021 827 \n",
      "SCPCL000022 452 \n",
      "SCPCL000023 1290 \n"
     ]
    }
   ],
   "source": [
    "for (name in names(seurat_objects)) {\n",
    "    cat(name, unique(seurat_objects[[name]]@meta.data$orig.identis), nrow(seurat_objects[[name]]@meta.data), \"\\n\")\n",
    "}"
   ]
  },
  {
   "cell_type": "code",
   "execution_count": 16,
   "metadata": {
    "vscode": {
     "languageId": "r"
    }
   },
   "outputs": [
    {
     "data": {
      "text/html": [
       "<style>\n",
       ".list-inline {list-style: none; margin:0; padding: 0}\n",
       ".list-inline>li {display: inline-block}\n",
       ".list-inline>li:not(:last-child)::after {content: \"\\00b7\"; padding: 0 .5ex}\n",
       "</style>\n",
       "<ol class=list-inline><li>'ENSG00000223972'</li><li>'ENSG00000243485'</li><li>'ENSG00000284332'</li><li>'ENSG00000268020'</li><li>'ENSG00000240361'</li><li>'ENSG00000186092'</li></ol>\n"
      ],
      "text/latex": [
       "\\begin{enumerate*}\n",
       "\\item 'ENSG00000223972'\n",
       "\\item 'ENSG00000243485'\n",
       "\\item 'ENSG00000284332'\n",
       "\\item 'ENSG00000268020'\n",
       "\\item 'ENSG00000240361'\n",
       "\\item 'ENSG00000186092'\n",
       "\\end{enumerate*}\n"
      ],
      "text/markdown": [
       "1. 'ENSG00000223972'\n",
       "2. 'ENSG00000243485'\n",
       "3. 'ENSG00000284332'\n",
       "4. 'ENSG00000268020'\n",
       "5. 'ENSG00000240361'\n",
       "6. 'ENSG00000186092'\n",
       "\n",
       "\n"
      ],
      "text/plain": [
       "[1] \"ENSG00000223972\" \"ENSG00000243485\" \"ENSG00000284332\" \"ENSG00000268020\"\n",
       "[5] \"ENSG00000240361\" \"ENSG00000186092\""
      ]
     },
     "metadata": {},
     "output_type": "display_data"
    }
   ],
   "source": [
    "head(rownames(seurat_objects[[1]]))"
   ]
  },
  {
   "cell_type": "code",
   "execution_count": 17,
   "metadata": {
    "vscode": {
     "languageId": "r"
    }
   },
   "outputs": [
    {
     "name": "stderr",
     "output_type": "stream",
     "text": [
      "\n",
      "\n",
      "\n",
      "Attaching package: 'dplyr'\n",
      "\n",
      "\n",
      "The following object is masked from 'package:AnnotationDbi':\n",
      "\n",
      "    select\n",
      "\n",
      "\n",
      "The following object is masked from 'package:Biobase':\n",
      "\n",
      "    combine\n",
      "\n",
      "\n",
      "The following objects are masked from 'package:GenomicRanges':\n",
      "\n",
      "    intersect, setdiff, union\n",
      "\n",
      "\n",
      "The following object is masked from 'package:GenomeInfoDb':\n",
      "\n",
      "    intersect\n",
      "\n",
      "\n",
      "The following objects are masked from 'package:IRanges':\n",
      "\n",
      "    collapse, desc, intersect, setdiff, slice, union\n",
      "\n",
      "\n",
      "The following objects are masked from 'package:S4Vectors':\n",
      "\n",
      "    first, intersect, rename, setdiff, setequal, union\n",
      "\n",
      "\n",
      "The following objects are masked from 'package:BiocGenerics':\n",
      "\n",
      "    combine, intersect, setdiff, union\n",
      "\n",
      "\n",
      "The following object is masked from 'package:matrixStats':\n",
      "\n",
      "    count\n",
      "\n",
      "\n",
      "The following objects are masked from 'package:stats':\n",
      "\n",
      "    filter, lag\n",
      "\n",
      "\n",
      "The following objects are masked from 'package:base':\n",
      "\n",
      "    intersect, setdiff, setequal, union\n",
      "\n",
      "\n"
     ]
    }
   ],
   "source": [
    "library(AnnotationDbi)\n",
    "library(org.Hs.eg.db)  # Change to org.Mm.eg.db for Mouse\n",
    "library(dplyr)"
   ]
  },
  {
   "cell_type": "code",
   "execution_count": 18,
   "metadata": {
    "vscode": {
     "languageId": "r"
    }
   },
   "outputs": [],
   "source": [
    "convert_ensembl_to_symbol <- function(ensembl_ids, species = \"hsapiens\") {\n",
    "  # Select the appropriate OrgDb based on species\n",
    "  if (species == \"hsapiens\") {\n",
    "    orgdb <- org.Hs.eg.db\n",
    "  } else if (species == \"mmusculus\") {\n",
    "    orgdb <- org.Mm.eg.db\n",
    "  } else {\n",
    "    stop(\"Species not supported. Please use 'hsapiens' or 'mmusculus'.\")\n",
    "  }\n",
    "  \n",
    "  # Remove version numbers from Ensembl IDs (e.g., ENSG000001234.5 -> ENSG000001234)\n",
    "  ensembl_ids_clean <- sub(\"\\\\..*\", \"\", ensembl_ids)\n",
    "  \n",
    "  # Map Ensembl IDs to gene symbols\n",
    "  gene_symbols <- mapIds(\n",
    "    orgdb,\n",
    "    keys = ensembl_ids_clean,\n",
    "    column = \"SYMBOL\",\n",
    "    keytype = \"ENSEMBL\",\n",
    "    multiVals = \"first\"  # Use the first symbol if multiple are found\n",
    "  )\n",
    "  \n",
    "  return(gene_symbols)\n",
    "}"
   ]
  },
  {
   "cell_type": "code",
   "execution_count": null,
   "metadata": {
    "vscode": {
     "languageId": "r"
    }
   },
   "outputs": [
    {
     "name": "stderr",
     "output_type": "stream",
     "text": [
      "Converting Ensembl IDs to gene symbols in SCPCL000001\n",
      "\n",
      "'select()' returned 1:many mapping between keys and columns\n",
      "\n",
      "Warning message:\n",
      "\"\u001b[1m\u001b[22mThe `slot` argument of `GetAssayData()` is deprecated as of SeuratObject 5.0.0.\n",
      "\u001b[36mi\u001b[39m Please use the `layer` argument instead.\"\n",
      "Warning message:\n",
      "\"Data is of class matrix. Coercing to dgCMatrix.\"\n",
      "Conversion and aggregation completed for SCPCL000001\n",
      "\n",
      "Converting Ensembl IDs to gene symbols in SCPCL000002\n",
      "\n",
      "'select()' returned 1:many mapping between keys and columns\n",
      "\n"
     ]
    }
   ],
   "source": [
    "\n",
    "# Iterate through each Seurat object in selected_list\n",
    "for (name in names(seurat_objects)) {\n",
    "  seurat_obj <- seurat_objects[[name]]\n",
    "  \n",
    "  # Get current gene identifiers\n",
    "  genes <- rownames(seurat_obj)\n",
    "  \n",
    "  # Check if genes are Ensembl IDs (assuming Ensembl IDs start with \"ENSG\")\n",
    "  if (any(grepl(\"^ENSG\", genes))) {\n",
    "    message(paste(\"Converting Ensembl IDs to gene symbols in\", name))\n",
    "    \n",
    "    # Convert Ensembl IDs to gene symbols\n",
    "    gene_symbols <- convert_ensembl_to_symbol(genes, species = \"hsapiens\")  # Change species if needed\n",
    "    \n",
    "    # Identify genes with valid gene symbols\n",
    "    valid_genes <- !is.na(gene_symbols) & gene_symbols != \"\"\n",
    "    \n",
    "    if (sum(valid_genes) == 0) {\n",
    "      warning(paste(\"No valid gene symbols found for\", name, \". Skipping this object.\"))\n",
    "      next\n",
    "    }\n",
    "    \n",
    "    # Subset Seurat object to keep only valid genes\n",
    "    seurat_obj_subset <- subset(seurat_obj, features = genes[valid_genes])\n",
    "    gene_symbols_subset <- gene_symbols[valid_genes]\n",
    "    \n",
    "    # Get the counts matrix\n",
    "    counts_matrix <- GetAssayData(seurat_obj_subset, slot = \"counts\")\n",
    "    \n",
    "    # Replace rownames with gene symbols\n",
    "    rownames(counts_matrix) <- gene_symbols_subset\n",
    "    \n",
    "    # Handle duplicate gene symbols by summing their counts\n",
    "    # Convert to data frame for manipulation\n",
    "    counts_df <- as.data.frame(counts_matrix)\n",
    "    counts_df$gene_symbol <- rownames(counts_matrix)\n",
    "    \n",
    "    # Aggregate counts by gene symbol\n",
    "    counts_aggregated <- counts_df %>%\n",
    "      group_by(gene_symbol) %>%\n",
    "      summarise(across(everything(), sum)) %>%\n",
    "      ungroup()\n",
    "    \n",
    "    # Convert back to a matrix\n",
    "    counts_matrix_aggregated <- as.matrix(counts_aggregated[,-1])\n",
    "    rownames(counts_matrix_aggregated) <- counts_aggregated$gene_symbol\n",
    "    \n",
    "    # Create a new Seurat object with the aggregated counts\n",
    "    seurat_obj_aggregated <- CreateSeuratObject(\n",
    "      counts = counts_matrix_aggregated,\n",
    "      meta.data = seurat_obj_subset@meta.data\n",
    "    )\n",
    "    \n",
    "    # Transfer additional assay data if necessary\n",
    "    # For example, if you have normalized data, variable features, etc.\n",
    "    # This step can be more complex depending on your specific data and requirements\n",
    "    \n",
    "    # Replace the original Seurat object with the aggregated one\n",
    "    seurat_objects[[name]] <- seurat_obj_aggregated\n",
    "    message(paste(\"Conversion and aggregation completed for\", name))\n",
    "    \n",
    "  } else {\n",
    "    message(paste(name, \"already uses gene symbols. No conversion needed.\"))\n",
    "  }\n",
    "}"
   ]
  },
  {
   "cell_type": "code",
   "execution_count": null,
   "metadata": {
    "vscode": {
     "languageId": "r"
    }
   },
   "outputs": [],
   "source": [
    "lapply(seurat_objects, function(obj) {\n",
    "  sum(duplicated(rownames(obj)))\n",
    "})"
   ]
  },
  {
   "cell_type": "code",
   "execution_count": null,
   "metadata": {
    "vscode": {
     "languageId": "r"
    }
   },
   "outputs": [],
   "source": [
    "combined <- merge(seurat_objects[[1]], y = seurat_objects[2:length(selected_list)], \n",
    "                 add.cell.ids = names(seurat_objects))"
   ]
  },
  {
   "cell_type": "code",
   "execution_count": null,
   "metadata": {
    "vscode": {
     "languageId": "r"
    }
   },
   "outputs": [],
   "source": [
    "\n",
    "# Run Harmony integration\n",
    "combined <- RunHarmony(\n",
    "  object = combined,\n",
    "  group.by.vars = \"sample_name\", \n",
    "  assay.use = \"RNA\",\n",
    "  reduction.use = \"pca\",\n",
    "  dims.use = 1:20,\n",
    "  verbose = TRUE\n",
    ")\n",
    "\n",
    "# Run UMAP on harmony embeddings\n",
    "combined <- RunUMAP(combined, reduction = \"harmony\", dims = 1:20)\n",
    "saveRDS(combined, file = \"./out/reference_integrated_harmony.rds\")"
   ]
  }
 ],
 "metadata": {
  "kernelspec": {
   "display_name": "R",
   "language": "R",
   "name": "ir"
  },
  "language_info": {
   "codemirror_mode": "r",
   "file_extension": ".r",
   "mimetype": "text/x-r-source",
   "name": "R",
   "pygments_lexer": "r",
   "version": "4.4.0"
  }
 },
 "nbformat": 4,
 "nbformat_minor": 2
}
