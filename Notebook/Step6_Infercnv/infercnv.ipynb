{
 "cells": [
  {
   "cell_type": "markdown",
   "metadata": {},
   "source": [
    "# Identiying copy number variants in single cell sample\n",
    "Usually cancer samples have releatively higher number of copy number variants as compared to normal cells as well as immune cells. Therfore, it makes it further easier to validate our marker and pathway based annotations by helping us identify likely cancer clusters.\n"
   ]
  },
  {
   "cell_type": "markdown",
   "metadata": {},
   "source": [
    "1. [Guinti et al. Genome-wide copy number analysis in pediatric glioblastoma multiforme. Am J Cancer Res. 2014 May 26;4(3):293–303.](https://pmc.ncbi.nlm.nih.gov/articles/PMC4065410/) \n",
    "\n",
    "- <b>Literature Results</b>\n",
    "   - Recurrent 9p21.3 and 16p13.3 deletions and 1q32.1-q44 duplication play a crucial role for tumorigenesis and/or progression. - A2BP1 gene (16p13.3) is one possible culprit of the disease.\n",
    "- <b>Results discussed from other literatures</b>\n",
    "   - Presence of two common regions of loss of heterozygosity (LOH) in 9p24.3-9p13.1 and 17p13.3 both in pediatric and adult GBMs [Ref](https://pmc.ncbi.nlm.nih.gov/articles/PMC2940568/). \n",
    "   - Recurrent duplications of 1q, 3q, 2q and 17q as well as losses of chromosomal regions in 6q, 8q, 13q, and 17p have been described [Ref](https://pmc.ncbi.nlm.nih.gov/articles/PMC1891902/). \n",
    "   - [Paugh et al.](https://pmc.ncbi.nlm.nih.gov/articles/PMC2903336/) also suggested that pediatric and adult GMBs were clearly distinguished by frequent gain of chromosome 1q and lower frequency of chromosome 7 gain and 10q loss"
   ]
  },
  {
   "cell_type": "code",
   "execution_count": null,
   "metadata": {
    "vscode": {
     "languageId": "r"
    }
   },
   "outputs": [],
   "source": [
    "source(\"../Utility/infercnv\")"
   ]
  },
  {
   "cell_type": "markdown",
   "metadata": {},
   "source": [
    "### Load annotated seurat data"
   ]
  },
  {
   "cell_type": "code",
   "execution_count": null,
   "metadata": {
    "vscode": {
     "languageId": "r"
    }
   },
   "outputs": [],
   "source": [
    "seurat_obj <- readRDS(\"../Step5_Clustering/out/seurat_clustered.rds\")"
   ]
  },
  {
   "cell_type": "markdown",
   "metadata": {},
   "source": [
    "### This step takes generated input files for infercnv run"
   ]
  },
  {
   "cell_type": "code",
   "execution_count": null,
   "metadata": {
    "vscode": {
     "languageId": "r"
    }
   },
   "outputs": [],
   "source": [
    "create_infercnv_input(seurat_obj, \n",
    "                                gencode_path=\"../Utility/Data/inferCNV_inputs/gencode_v19_gene_pos.txt\", \n",
    "                                output_dir=\"./out/infercnv_input\"\n",
    "                                ) "
   ]
  },
  {
   "cell_type": "markdown",
   "metadata": {},
   "source": [
    "### Final infercnv run\n",
    "Here we use NK cell as a reference, as immune cell is one of the safest pick to compare copy number variants in order to identify cancer cell clusters"
   ]
  },
  {
   "cell_type": "code",
   "execution_count": null,
   "metadata": {
    "vscode": {
     "languageId": "r"
    }
   },
   "outputs": [],
   "source": [
    "infercnv_obj <- run_infercnv(\n",
    "                            raw_counts_matrix=\"./in/inferCNV_inputs/merged_gene_matrix.txt\",\n",
    "                            annotations_file=\"./in/inferCNV_inputs/merged_annotation.txt\",\n",
    "                            gene_order_file=\"./in/inferCNV_inputs/inferCNV_gene_order.txt\",\n",
    "                            ref_group_names==c(\"NK cells\"),\n",
    "                            cutoff=0.1,\n",
    "                            num_threads=10,\n",
    "                            output_dir=\"./out/inferCNV_output\"\n",
    "                ) "
   ]
  }
 ],
 "metadata": {
  "language_info": {
   "name": "python"
  }
 },
 "nbformat": 4,
 "nbformat_minor": 2
}
