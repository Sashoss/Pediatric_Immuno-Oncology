{
 "cells": [
  {
   "cell_type": "code",
   "execution_count": 1,
   "metadata": {
    "vscode": {
     "languageId": "r"
    }
   },
   "outputs": [],
   "source": [
    "suppressPackageStartupMessages({\n",
    "    library(Seurat)\n",
    "    library(tools) \n",
    "    library(harmony)\n",
    "    library(AnnotationDbi)\n",
    "    library(org.Hs.eg.db)  \n",
    "    library(RCurl)\n",
    "    library(dplyr)\n",
    "    library(AnnotationHub)\n",
    "    library(parallel)\n",
    "    library(future)\n",
    "})"
   ]
  },
  {
   "cell_type": "markdown",
   "metadata": {},
   "source": [
    "### Load cycle scoring functions from Utility dir\n",
    "- Scaling data using cell cycle score helps in avoiding bias due to difference in cell cycle states, and enables us to integrate the cells more accurately"
   ]
  },
  {
   "cell_type": "code",
   "execution_count": 2,
   "metadata": {
    "vscode": {
     "languageId": "r"
    }
   },
   "outputs": [],
   "source": [
    "source(\"../Utility/Matrix.utils.R\") \n",
    "source(\"../Utility/cell_cycle_scoring.r\")"
   ]
  },
  {
   "cell_type": "code",
   "execution_count": 3,
   "metadata": {
    "vscode": {
     "languageId": "r"
    }
   },
   "outputs": [],
   "source": [
    "ndim = 50\n",
    "nfeat = 2000\n",
    "nmax = 5000"
   ]
  },
  {
   "cell_type": "code",
   "execution_count": 4,
   "metadata": {
    "vscode": {
     "languageId": "r"
    }
   },
   "outputs": [],
   "source": [
    "seurat_list <- readRDS(\"../Step3_Preprocessing/out/seurat_list_filtered.rds\")"
   ]
  },
  {
   "cell_type": "code",
   "execution_count": null,
   "metadata": {
    "vscode": {
     "languageId": "r"
    }
   },
   "outputs": [],
   "source": [
    "for (name in names(seurat_list)) {\n",
    "    print(unique(seurat_list[[name]]@meta.data$orig.ident))\n",
    "}"
   ]
  },
  {
   "cell_type": "code",
   "execution_count": null,
   "metadata": {
    "vscode": {
     "languageId": "r"
    }
   },
   "outputs": [],
   "source": [
    "log_conn <- file(\"./out/log_file_scaling.txt\", open = \"wt\")\n",
    "sink(log_conn, append = FALSE)\n",
    "sink(log_conn, type = \"message\")\n",
    "\n",
    "for (sample_name in names(seurat_list)) {\n",
    "    seurat_sample <- seurat_list[[sample_name]]\n",
    "    DefaultAssay(seurat_sample) <- \"RNA\"\n",
    "    if (nrow(seurat_sample) <= 50) {\n",
    "        next\n",
    "    }\n",
    "    \n",
    "    seurat_sample <- NormalizeData(seurat_sample, verbose = FALSE)\n",
    "    seurat_sample <- suppressWarnings(FindVariableFeatures(\n",
    "                                    seurat_sample,\n",
    "                                    selection.method = \"vst\",\n",
    "                                    nfeatures = nfeat,\n",
    "                                    verbose = FALSE\n",
    "                    ))\n",
    "    seurat_sample <- suppressWarnings(cell_cycle_scoring(seurat_sample, cc_file=\"../Utility/Data/CC_Homo_sapiens.csv\"))\n",
    "    seurat_sample <- ScaleData(\n",
    "                        seurat_sample,\n",
    "                        vars.to.regress = \"CC.Difference\", \n",
    "                        features = rownames(seurat_sample),\n",
    "                        verbose = FALSE\n",
    "                    )\n",
    "    seurat_sample <- RunPCA(seurat_sample, npcs = ndim, features = VariableFeatures(seurat_sample), verbose = FALSE)\n",
    "    seurat_list[[sample_name]] <- seurat_sample\n",
    "}\n",
    "\n",
    "sink(type = \"message\")\n",
    "sink()\n",
    "close(log_conn)"
   ]
  },
  {
   "cell_type": "code",
   "execution_count": null,
   "metadata": {
    "vscode": {
     "languageId": "r"
    }
   },
   "outputs": [],
   "source": [
    "combined <- merge(\n",
    "    x = seurat_list[[1]],\n",
    "    y = seurat_list[-1],\n",
    "    add.cell.ids = names(seurat_list),\n",
    "    project = \"HarmonyIntegration\"\n",
    ")\n",
    "combined$filename <- combined$orig.ident\n",
    "Idents(combined) <- combined$orig.ident\n",
    "combined <- JoinLayers(combined)"
   ]
  },
  {
   "cell_type": "code",
   "execution_count": null,
   "metadata": {
    "vscode": {
     "languageId": "r"
    }
   },
   "outputs": [],
   "source": [
    "combined <- NormalizeData(combined, verbose = FALSE)\n",
    "combined <- FindVariableFeatures(\n",
    "                        combined, \n",
    "                        selection.method = \"vst\", \n",
    "                        nfeatures = nfeat, \n",
    "                        verbose = FALSE\n",
    "            )\n",
    "\n",
    "combined <- cell_cycle_scoring(combined, cc_file=\"../Utility/Data/CC_Homo_sapiens.csv\")\n",
    "all.genes <- rownames(seurat_objects[[name]])\n",
    "combined <- ScaleData(combined, features=all.genes)\n",
    "combined <- RunPCA(combined, npcs = ndim, verbose = FALSE)"
   ]
  },
  {
   "cell_type": "code",
   "execution_count": null,
   "metadata": {
    "vscode": {
     "languageId": "r"
    }
   },
   "outputs": [],
   "source": [
    "combined <- RunHarmony(\n",
    "    object = combined,\n",
    "    group.by.vars = \"orig.ident\",\n",
    "    assay.use = \"RNA\",\n",
    "    reduction.use = \"pca\",\n",
    "    dims.use = 1:ndim,\n",
    "    verbose = TRUE\n",
    ")"
   ]
  },
  {
   "cell_type": "code",
   "execution_count": null,
   "metadata": {
    "vscode": {
     "languageId": "r"
    }
   },
   "outputs": [],
   "source": [
    "combined <- RunUMAP(combined, reduction = \"harmony\", dims = 1:ndim)\n",
    "DimPlot(combined, reduction=\"umap\", group.by=\"orig.ident\")"
   ]
  },
  {
   "cell_type": "markdown",
   "metadata": {},
   "source": [
    "### Save data for downstream analysis"
   ]
  },
  {
   "cell_type": "code",
   "execution_count": null,
   "metadata": {
    "vscode": {
     "languageId": "r"
    }
   },
   "outputs": [],
   "source": [
    "saveRDS(combined, file = file.path(\"./out/integrated_harmony.rds\"))"
   ]
  }
 ],
 "metadata": {
  "kernelspec": {
   "display_name": "LeeLab_R_4.4.1",
   "language": "R",
   "name": "leelab_r_4.4.1"
  },
  "language_info": {
   "codemirror_mode": "r",
   "file_extension": ".r",
   "mimetype": "text/x-r-source",
   "name": "R",
   "pygments_lexer": "r",
   "version": "4.4.1"
  }
 },
 "nbformat": 4,
 "nbformat_minor": 4
}
