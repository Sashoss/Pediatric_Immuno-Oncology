{
 "cells": [
  {
   "cell_type": "markdown",
   "metadata": {},
   "source": [
    "### read GSE data and filter using metadata (condition is single cell,  HGG, human).  "
   ]
  },
  {
   "cell_type": "code",
   "execution_count": 8,
   "metadata": {
    "vscode": {
     "languageId": "r"
    }
   },
   "outputs": [],
   "source": [
    "CANCER_TYPE = \"HGG\""
   ]
  },
  {
   "cell_type": "code",
   "execution_count": 2,
   "metadata": {
    "vscode": {
     "languageId": "r"
    }
   },
   "outputs": [
    {
     "data": {
      "text/html": [
       "'/Users/shiwani/Documents/GITHUB/Pediatric_Immuno-Oncology/Notebooks/Generate_Seurat_Object'"
      ],
      "text/latex": [
       "'/Users/shiwani/Documents/GITHUB/Pediatric\\_Immuno-Oncology/Notebooks/Generate\\_Seurat\\_Object'"
      ],
      "text/markdown": [
       "'/Users/shiwani/Documents/GITHUB/Pediatric_Immuno-Oncology/Notebooks/Generate_Seurat_Object'"
      ],
      "text/plain": [
       "[1] \"/Users/shiwani/Documents/GITHUB/Pediatric_Immuno-Oncology/Notebooks/Generate_Seurat_Object\""
      ]
     },
     "metadata": {},
     "output_type": "display_data"
    }
   ],
   "source": [
    "getwd()"
   ]
  },
  {
   "cell_type": "code",
   "execution_count": 9,
   "metadata": {
    "vscode": {
     "languageId": "r"
    }
   },
   "outputs": [
    {
     "data": {
      "text/html": [
       "<table class=\"dataframe\">\n",
       "<caption>A data.frame: 6 x 8</caption>\n",
       "<thead>\n",
       "\t<tr><th></th><th scope=col>GSE_ID</th><th scope=col>GSM_ID</th><th scope=col>CANCER_TYPE</th><th scope=col>SEQUENCING_TYPE</th><th scope=col>TECHNOLOGY</th><th scope=col>SEX</th><th scope=col>LOCATION</th><th scope=col>AGE</th></tr>\n",
       "\t<tr><th></th><th scope=col>&lt;chr&gt;</th><th scope=col>&lt;chr&gt;</th><th scope=col>&lt;chr&gt;</th><th scope=col>&lt;chr&gt;</th><th scope=col>&lt;chr&gt;</th><th scope=col>&lt;chr&gt;</th><th scope=col>&lt;chr&gt;</th><th scope=col>&lt;dbl&gt;</th></tr>\n",
       "</thead>\n",
       "<tbody>\n",
       "\t<tr><th scope=row>1</th><td>GSE163655</td><td>GSM4983564</td><td>HGG</td><td>ATAC</td><td>SC</td><td>NA</td><td>NA  </td><td>NA</td></tr>\n",
       "\t<tr><th scope=row>2</th><td>GSE163655</td><td>GSM4983566</td><td>HGG</td><td>ATAC</td><td>SC</td><td>NA</td><td>NA  </td><td>NA</td></tr>\n",
       "\t<tr><th scope=row>3</th><td>GSE163656</td><td>GSM4983567</td><td>HGG</td><td>ATAC</td><td>SC</td><td>NA</td><td>NA  </td><td>NA</td></tr>\n",
       "\t<tr><th scope=row>4</th><td>GSE163656</td><td>GSM4983568</td><td>HGG</td><td>ATAC</td><td>SC</td><td>NA</td><td>NA  </td><td>NA</td></tr>\n",
       "\t<tr><th scope=row>5</th><td>GSE163656</td><td>GSM4983569</td><td>HGG</td><td>ATAC</td><td>SC</td><td>NA</td><td>NA  </td><td>NA</td></tr>\n",
       "\t<tr><th scope=row>6</th><td>GSE210568</td><td>GSM6432679</td><td>HGG</td><td>ATAC</td><td>SN</td><td>F </td><td>PONS</td><td>11</td></tr>\n",
       "</tbody>\n",
       "</table>\n"
      ],
      "text/latex": [
       "A data.frame: 6 x 8\n",
       "\\begin{tabular}{r|llllllll}\n",
       "  & GSE\\_ID & GSM\\_ID & CANCER\\_TYPE & SEQUENCING\\_TYPE & TECHNOLOGY & SEX & LOCATION & AGE\\\\\n",
       "  & <chr> & <chr> & <chr> & <chr> & <chr> & <chr> & <chr> & <dbl>\\\\\n",
       "\\hline\n",
       "\t1 & GSE163655 & GSM4983564 & HGG & ATAC & SC & NA & NA   & NA\\\\\n",
       "\t2 & GSE163655 & GSM4983566 & HGG & ATAC & SC & NA & NA   & NA\\\\\n",
       "\t3 & GSE163656 & GSM4983567 & HGG & ATAC & SC & NA & NA   & NA\\\\\n",
       "\t4 & GSE163656 & GSM4983568 & HGG & ATAC & SC & NA & NA   & NA\\\\\n",
       "\t5 & GSE163656 & GSM4983569 & HGG & ATAC & SC & NA & NA   & NA\\\\\n",
       "\t6 & GSE210568 & GSM6432679 & HGG & ATAC & SN & F  & PONS & 11\\\\\n",
       "\\end{tabular}\n"
      ],
      "text/markdown": [
       "\n",
       "A data.frame: 6 x 8\n",
       "\n",
       "| <!--/--> | GSE_ID &lt;chr&gt; | GSM_ID &lt;chr&gt; | CANCER_TYPE &lt;chr&gt; | SEQUENCING_TYPE &lt;chr&gt; | TECHNOLOGY &lt;chr&gt; | SEX &lt;chr&gt; | LOCATION &lt;chr&gt; | AGE &lt;dbl&gt; |\n",
       "|---|---|---|---|---|---|---|---|---|\n",
       "| 1 | GSE163655 | GSM4983564 | HGG | ATAC | SC | NA | NA   | NA |\n",
       "| 2 | GSE163655 | GSM4983566 | HGG | ATAC | SC | NA | NA   | NA |\n",
       "| 3 | GSE163656 | GSM4983567 | HGG | ATAC | SC | NA | NA   | NA |\n",
       "| 4 | GSE163656 | GSM4983568 | HGG | ATAC | SC | NA | NA   | NA |\n",
       "| 5 | GSE163656 | GSM4983569 | HGG | ATAC | SC | NA | NA   | NA |\n",
       "| 6 | GSE210568 | GSM6432679 | HGG | ATAC | SN | F  | PONS | 11 |\n",
       "\n"
      ],
      "text/plain": [
       "  GSE_ID    GSM_ID     CANCER_TYPE SEQUENCING_TYPE TECHNOLOGY SEX LOCATION AGE\n",
       "1 GSE163655 GSM4983564 HGG         ATAC            SC         NA  NA       NA \n",
       "2 GSE163655 GSM4983566 HGG         ATAC            SC         NA  NA       NA \n",
       "3 GSE163656 GSM4983567 HGG         ATAC            SC         NA  NA       NA \n",
       "4 GSE163656 GSM4983568 HGG         ATAC            SC         NA  NA       NA \n",
       "5 GSE163656 GSM4983569 HGG         ATAC            SC         NA  NA       NA \n",
       "6 GSE210568 GSM6432679 HGG         ATAC            SN         F   PONS     11 "
      ]
     },
     "metadata": {},
     "output_type": "display_data"
    }
   ],
   "source": [
    "meta <- read.table(\"./in/gse_metadata.tsv\", header = TRUE)\n",
    "head(meta)"
   ]
  },
  {
   "cell_type": "code",
   "execution_count": 10,
   "metadata": {
    "vscode": {
     "languageId": "r"
    }
   },
   "outputs": [
    {
     "data": {
      "text/html": [
       "<table class=\"dataframe\">\n",
       "<caption>A data.frame: 42 x 8</caption>\n",
       "<thead>\n",
       "\t<tr><th></th><th scope=col>GSE_ID</th><th scope=col>GSM_ID</th><th scope=col>CANCER_TYPE</th><th scope=col>SEQUENCING_TYPE</th><th scope=col>TECHNOLOGY</th><th scope=col>SEX</th><th scope=col>LOCATION</th><th scope=col>AGE</th></tr>\n",
       "\t<tr><th></th><th scope=col>&lt;chr&gt;</th><th scope=col>&lt;chr&gt;</th><th scope=col>&lt;chr&gt;</th><th scope=col>&lt;chr&gt;</th><th scope=col>&lt;chr&gt;</th><th scope=col>&lt;chr&gt;</th><th scope=col>&lt;chr&gt;</th><th scope=col>&lt;dbl&gt;</th></tr>\n",
       "</thead>\n",
       "<tbody>\n",
       "\t<tr><th scope=row>29</th><td>GSE210568</td><td>GSM6432703</td><td>EPENDYMOMA            </td><td>RNA</td><td>SC</td><td>M </td><td>POSTERIOR-FOSSA       </td><td> 9.60</td></tr>\n",
       "\t<tr><th scope=row>30</th><td>GSE210568</td><td>GSM6432704</td><td>EPENDYMOMA            </td><td>RNA</td><td>SC</td><td>M </td><td>POSTERIOR-FOSSA       </td><td> 0.90</td></tr>\n",
       "\t<tr><th scope=row>31</th><td>GSE210568</td><td>GSM6432705</td><td>HGG                   </td><td>RNA</td><td>SC</td><td>F </td><td>PARIETO-OCCIPITAL-LOBE</td><td>20.00</td></tr>\n",
       "\t<tr><th scope=row>32</th><td>GSE210568</td><td>GSM6432706</td><td>HGG                   </td><td>RNA</td><td>SC</td><td>M </td><td>CORTEX                </td><td> 8.00</td></tr>\n",
       "\t<tr><th scope=row>49</th><td>GSE210568</td><td>GSM6432723</td><td>HGG                   </td><td>RNA</td><td>SC</td><td>M </td><td>LEFT-THALAMUS         </td><td>14.00</td></tr>\n",
       "\t<tr><th scope=row>50</th><td>GSE210568</td><td>GSM6432724</td><td>HGG                   </td><td>RNA</td><td>SC</td><td>M </td><td>RIGHT-FRONTAL-LOBE    </td><td>12.00</td></tr>\n",
       "\t<tr><th scope=row>51</th><td>GSE210568</td><td>GSM6432725</td><td>HGG                   </td><td>RNA</td><td>SC</td><td>M </td><td>BRAIN                 </td><td> 9.75</td></tr>\n",
       "\t<tr><th scope=row>56</th><td>GSE210568</td><td>GSM6432730</td><td>EPENDYMOMA            </td><td>RNA</td><td>SC</td><td>M </td><td>POSTERIOR-FOSSA       </td><td> 0.50</td></tr>\n",
       "\t<tr><th scope=row>57</th><td>GSE210568</td><td>GSM6432731</td><td>HGG                   </td><td>RNA</td><td>SC</td><td>M </td><td>PARIETAL-LOBE         </td><td>12.00</td></tr>\n",
       "\t<tr><th scope=row>61</th><td>GSE210568</td><td>GSM6432735</td><td>HGG                   </td><td>RNA</td><td>SC</td><td>M </td><td>BRAIN                 </td><td>   NA</td></tr>\n",
       "\t<tr><th scope=row>63</th><td>GSE210568</td><td>GSM6432737</td><td>EPENDYMOMA            </td><td>RNA</td><td>SC</td><td>M </td><td>POSTERIOR-FOSSA       </td><td> 1.00</td></tr>\n",
       "\t<tr><th scope=row>64</th><td>GSE210568</td><td>GSM6432738</td><td>HGG                   </td><td>RNA</td><td>SC</td><td>M </td><td>PONS                  </td><td> 4.00</td></tr>\n",
       "\t<tr><th scope=row>65</th><td>GSE210568</td><td>GSM6432739</td><td>HGG                   </td><td>RNA</td><td>SC</td><td>M </td><td>THALAMUS              </td><td>12.00</td></tr>\n",
       "\t<tr><th scope=row>66</th><td>GSE222850</td><td>GSM6934152</td><td>PILOCYTIC-ASTROCYTOMA </td><td>RNA</td><td>SC</td><td>F </td><td>BRAIN-STEM            </td><td> 4.30</td></tr>\n",
       "\t<tr><th scope=row>67</th><td>GSE222850</td><td>GSM6934153</td><td>PILOCYTIC-ASTROCYTOMA </td><td>RNA</td><td>SC</td><td>M </td><td>POSTERIOR-FOSSA       </td><td> 5.10</td></tr>\n",
       "\t<tr><th scope=row>69</th><td>GSE222850</td><td>GSM6934155</td><td>PILOCYTIC-ASTROCYTOMA </td><td>RNA</td><td>SC</td><td>M </td><td>PARIETO-OCCIPITAL     </td><td>10.00</td></tr>\n",
       "\t<tr><th scope=row>70</th><td>GSE222850</td><td>GSM6934156</td><td>PILOCYTIC-ASTROCYTOMA </td><td>RNA</td><td>SC</td><td>F </td><td>POSTERIOR-FOSSA       </td><td>12.00</td></tr>\n",
       "\t<tr><th scope=row>71</th><td>GSE222850</td><td>GSM6934157</td><td>PILOMYXOID-ASTROCYTOME</td><td>RNA</td><td>SC</td><td>M </td><td>HYPOTHALAMIC-REGION   </td><td> 2.30</td></tr>\n",
       "\t<tr><th scope=row>72</th><td>GSE231859</td><td>GSM7305260</td><td>HGG                   </td><td>RNA</td><td>SC</td><td>NA</td><td>NA                    </td><td>   NA</td></tr>\n",
       "\t<tr><th scope=row>73</th><td>GSE231859</td><td>GSM7305261</td><td>HGG                   </td><td>RNA</td><td>SC</td><td>NA</td><td>NA                    </td><td>   NA</td></tr>\n",
       "\t<tr><th scope=row>74</th><td>GSE231859</td><td>GSM7305262</td><td>HGG                   </td><td>RNA</td><td>SC</td><td>NA</td><td>NA                    </td><td>   NA</td></tr>\n",
       "\t<tr><th scope=row>75</th><td>GSE231859</td><td>GSM7305263</td><td>HGG                   </td><td>RNA</td><td>SC</td><td>NA</td><td>NA                    </td><td>   NA</td></tr>\n",
       "\t<tr><th scope=row>76</th><td>GSE231859</td><td>GSM7305264</td><td>HGG                   </td><td>RNA</td><td>SC</td><td>NA</td><td>NA                    </td><td>   NA</td></tr>\n",
       "\t<tr><th scope=row>77</th><td>GSE231859</td><td>GSM7305265</td><td>HGG                   </td><td>RNA</td><td>SC</td><td>NA</td><td>NA                    </td><td>   NA</td></tr>\n",
       "\t<tr><th scope=row>78</th><td>GSE231859</td><td>GSM7305266</td><td>HGG                   </td><td>RNA</td><td>SC</td><td>NA</td><td>NA                    </td><td>   NA</td></tr>\n",
       "\t<tr><th scope=row>79</th><td>GSE231859</td><td>GSM7305267</td><td>HGG                   </td><td>RNA</td><td>SC</td><td>NA</td><td>NA                    </td><td>   NA</td></tr>\n",
       "\t<tr><th scope=row>80</th><td>GSE231859</td><td>GSM7305268</td><td>HGG                   </td><td>RNA</td><td>SC</td><td>NA</td><td>NA                    </td><td>   NA</td></tr>\n",
       "\t<tr><th scope=row>81</th><td>GSE231859</td><td>GSM7305269</td><td>HGG                   </td><td>RNA</td><td>SC</td><td>NA</td><td>NA                    </td><td>   NA</td></tr>\n",
       "\t<tr><th scope=row>82</th><td>GSE231859</td><td>GSM7305270</td><td>HGG                   </td><td>RNA</td><td>SC</td><td>NA</td><td>NA                    </td><td>   NA</td></tr>\n",
       "\t<tr><th scope=row>83</th><td>GSE231859</td><td>GSM7305271</td><td>HGG                   </td><td>RNA</td><td>SC</td><td>NA</td><td>NA                    </td><td>   NA</td></tr>\n",
       "\t<tr><th scope=row>84</th><td>GSE231859</td><td>GSM7305272</td><td>HGG                   </td><td>RNA</td><td>SC</td><td>NA</td><td>NA                    </td><td>   NA</td></tr>\n",
       "\t<tr><th scope=row>85</th><td>GSE231859</td><td>GSM7305273</td><td>HGG                   </td><td>RNA</td><td>SC</td><td>NA</td><td>NA                    </td><td>   NA</td></tr>\n",
       "\t<tr><th scope=row>86</th><td>GSE231859</td><td>GSM7305274</td><td>HGG                   </td><td>RNA</td><td>SC</td><td>NA</td><td>NA                    </td><td>   NA</td></tr>\n",
       "\t<tr><th scope=row>87</th><td>GSE231859</td><td>GSM7305275</td><td>HGG                   </td><td>RNA</td><td>SC</td><td>NA</td><td>NA                    </td><td>   NA</td></tr>\n",
       "\t<tr><th scope=row>88</th><td>GSE231859</td><td>GSM7305276</td><td>HGG                   </td><td>RNA</td><td>SC</td><td>NA</td><td>NA                    </td><td>   NA</td></tr>\n",
       "\t<tr><th scope=row>89</th><td>GSE231859</td><td>GSM7305277</td><td>HGG                   </td><td>RNA</td><td>SC</td><td>NA</td><td>NA                    </td><td>   NA</td></tr>\n",
       "\t<tr><th scope=row>90</th><td>GSE231859</td><td>GSM7305278</td><td>HGG                   </td><td>RNA</td><td>SC</td><td>NA</td><td>NA                    </td><td>   NA</td></tr>\n",
       "\t<tr><th scope=row>91</th><td>GSE244433</td><td>GSM7816067</td><td>PA                    </td><td>RNA</td><td>SC</td><td>F </td><td>BRAIN                 </td><td> 3.00</td></tr>\n",
       "\t<tr><th scope=row>92</th><td>GSE244433</td><td>GSM7816068</td><td>PA                    </td><td>RNA</td><td>SC</td><td>F </td><td>BRAIN                 </td><td>10.00</td></tr>\n",
       "\t<tr><th scope=row>93</th><td>GSE244433</td><td>GSM7816069</td><td>PA                    </td><td>RNA</td><td>SC</td><td>F </td><td>BRAIN                 </td><td> 3.00</td></tr>\n",
       "\t<tr><th scope=row>94</th><td>GSE244433</td><td>GSM7816070</td><td>PA                    </td><td>RNA</td><td>SC</td><td>F </td><td>BRAIN                 </td><td>11.00</td></tr>\n",
       "\t<tr><th scope=row>95</th><td>GSE244433</td><td>GSM7816071</td><td>PA                    </td><td>RNA</td><td>SC</td><td>F </td><td>BRAIN                 </td><td> 3.00</td></tr>\n",
       "</tbody>\n",
       "</table>\n"
      ],
      "text/latex": [
       "A data.frame: 42 x 8\n",
       "\\begin{tabular}{r|llllllll}\n",
       "  & GSE\\_ID & GSM\\_ID & CANCER\\_TYPE & SEQUENCING\\_TYPE & TECHNOLOGY & SEX & LOCATION & AGE\\\\\n",
       "  & <chr> & <chr> & <chr> & <chr> & <chr> & <chr> & <chr> & <dbl>\\\\\n",
       "\\hline\n",
       "\t29 & GSE210568 & GSM6432703 & EPENDYMOMA             & RNA & SC & M  & POSTERIOR-FOSSA        &  9.60\\\\\n",
       "\t30 & GSE210568 & GSM6432704 & EPENDYMOMA             & RNA & SC & M  & POSTERIOR-FOSSA        &  0.90\\\\\n",
       "\t31 & GSE210568 & GSM6432705 & HGG                    & RNA & SC & F  & PARIETO-OCCIPITAL-LOBE & 20.00\\\\\n",
       "\t32 & GSE210568 & GSM6432706 & HGG                    & RNA & SC & M  & CORTEX                 &  8.00\\\\\n",
       "\t49 & GSE210568 & GSM6432723 & HGG                    & RNA & SC & M  & LEFT-THALAMUS          & 14.00\\\\\n",
       "\t50 & GSE210568 & GSM6432724 & HGG                    & RNA & SC & M  & RIGHT-FRONTAL-LOBE     & 12.00\\\\\n",
       "\t51 & GSE210568 & GSM6432725 & HGG                    & RNA & SC & M  & BRAIN                  &  9.75\\\\\n",
       "\t56 & GSE210568 & GSM6432730 & EPENDYMOMA             & RNA & SC & M  & POSTERIOR-FOSSA        &  0.50\\\\\n",
       "\t57 & GSE210568 & GSM6432731 & HGG                    & RNA & SC & M  & PARIETAL-LOBE          & 12.00\\\\\n",
       "\t61 & GSE210568 & GSM6432735 & HGG                    & RNA & SC & M  & BRAIN                  &    NA\\\\\n",
       "\t63 & GSE210568 & GSM6432737 & EPENDYMOMA             & RNA & SC & M  & POSTERIOR-FOSSA        &  1.00\\\\\n",
       "\t64 & GSE210568 & GSM6432738 & HGG                    & RNA & SC & M  & PONS                   &  4.00\\\\\n",
       "\t65 & GSE210568 & GSM6432739 & HGG                    & RNA & SC & M  & THALAMUS               & 12.00\\\\\n",
       "\t66 & GSE222850 & GSM6934152 & PILOCYTIC-ASTROCYTOMA  & RNA & SC & F  & BRAIN-STEM             &  4.30\\\\\n",
       "\t67 & GSE222850 & GSM6934153 & PILOCYTIC-ASTROCYTOMA  & RNA & SC & M  & POSTERIOR-FOSSA        &  5.10\\\\\n",
       "\t69 & GSE222850 & GSM6934155 & PILOCYTIC-ASTROCYTOMA  & RNA & SC & M  & PARIETO-OCCIPITAL      & 10.00\\\\\n",
       "\t70 & GSE222850 & GSM6934156 & PILOCYTIC-ASTROCYTOMA  & RNA & SC & F  & POSTERIOR-FOSSA        & 12.00\\\\\n",
       "\t71 & GSE222850 & GSM6934157 & PILOMYXOID-ASTROCYTOME & RNA & SC & M  & HYPOTHALAMIC-REGION    &  2.30\\\\\n",
       "\t72 & GSE231859 & GSM7305260 & HGG                    & RNA & SC & NA & NA                     &    NA\\\\\n",
       "\t73 & GSE231859 & GSM7305261 & HGG                    & RNA & SC & NA & NA                     &    NA\\\\\n",
       "\t74 & GSE231859 & GSM7305262 & HGG                    & RNA & SC & NA & NA                     &    NA\\\\\n",
       "\t75 & GSE231859 & GSM7305263 & HGG                    & RNA & SC & NA & NA                     &    NA\\\\\n",
       "\t76 & GSE231859 & GSM7305264 & HGG                    & RNA & SC & NA & NA                     &    NA\\\\\n",
       "\t77 & GSE231859 & GSM7305265 & HGG                    & RNA & SC & NA & NA                     &    NA\\\\\n",
       "\t78 & GSE231859 & GSM7305266 & HGG                    & RNA & SC & NA & NA                     &    NA\\\\\n",
       "\t79 & GSE231859 & GSM7305267 & HGG                    & RNA & SC & NA & NA                     &    NA\\\\\n",
       "\t80 & GSE231859 & GSM7305268 & HGG                    & RNA & SC & NA & NA                     &    NA\\\\\n",
       "\t81 & GSE231859 & GSM7305269 & HGG                    & RNA & SC & NA & NA                     &    NA\\\\\n",
       "\t82 & GSE231859 & GSM7305270 & HGG                    & RNA & SC & NA & NA                     &    NA\\\\\n",
       "\t83 & GSE231859 & GSM7305271 & HGG                    & RNA & SC & NA & NA                     &    NA\\\\\n",
       "\t84 & GSE231859 & GSM7305272 & HGG                    & RNA & SC & NA & NA                     &    NA\\\\\n",
       "\t85 & GSE231859 & GSM7305273 & HGG                    & RNA & SC & NA & NA                     &    NA\\\\\n",
       "\t86 & GSE231859 & GSM7305274 & HGG                    & RNA & SC & NA & NA                     &    NA\\\\\n",
       "\t87 & GSE231859 & GSM7305275 & HGG                    & RNA & SC & NA & NA                     &    NA\\\\\n",
       "\t88 & GSE231859 & GSM7305276 & HGG                    & RNA & SC & NA & NA                     &    NA\\\\\n",
       "\t89 & GSE231859 & GSM7305277 & HGG                    & RNA & SC & NA & NA                     &    NA\\\\\n",
       "\t90 & GSE231859 & GSM7305278 & HGG                    & RNA & SC & NA & NA                     &    NA\\\\\n",
       "\t91 & GSE244433 & GSM7816067 & PA                     & RNA & SC & F  & BRAIN                  &  3.00\\\\\n",
       "\t92 & GSE244433 & GSM7816068 & PA                     & RNA & SC & F  & BRAIN                  & 10.00\\\\\n",
       "\t93 & GSE244433 & GSM7816069 & PA                     & RNA & SC & F  & BRAIN                  &  3.00\\\\\n",
       "\t94 & GSE244433 & GSM7816070 & PA                     & RNA & SC & F  & BRAIN                  & 11.00\\\\\n",
       "\t95 & GSE244433 & GSM7816071 & PA                     & RNA & SC & F  & BRAIN                  &  3.00\\\\\n",
       "\\end{tabular}\n"
      ],
      "text/markdown": [
       "\n",
       "A data.frame: 42 x 8\n",
       "\n",
       "| <!--/--> | GSE_ID &lt;chr&gt; | GSM_ID &lt;chr&gt; | CANCER_TYPE &lt;chr&gt; | SEQUENCING_TYPE &lt;chr&gt; | TECHNOLOGY &lt;chr&gt; | SEX &lt;chr&gt; | LOCATION &lt;chr&gt; | AGE &lt;dbl&gt; |\n",
       "|---|---|---|---|---|---|---|---|---|\n",
       "| 29 | GSE210568 | GSM6432703 | EPENDYMOMA             | RNA | SC | M  | POSTERIOR-FOSSA        |  9.60 |\n",
       "| 30 | GSE210568 | GSM6432704 | EPENDYMOMA             | RNA | SC | M  | POSTERIOR-FOSSA        |  0.90 |\n",
       "| 31 | GSE210568 | GSM6432705 | HGG                    | RNA | SC | F  | PARIETO-OCCIPITAL-LOBE | 20.00 |\n",
       "| 32 | GSE210568 | GSM6432706 | HGG                    | RNA | SC | M  | CORTEX                 |  8.00 |\n",
       "| 49 | GSE210568 | GSM6432723 | HGG                    | RNA | SC | M  | LEFT-THALAMUS          | 14.00 |\n",
       "| 50 | GSE210568 | GSM6432724 | HGG                    | RNA | SC | M  | RIGHT-FRONTAL-LOBE     | 12.00 |\n",
       "| 51 | GSE210568 | GSM6432725 | HGG                    | RNA | SC | M  | BRAIN                  |  9.75 |\n",
       "| 56 | GSE210568 | GSM6432730 | EPENDYMOMA             | RNA | SC | M  | POSTERIOR-FOSSA        |  0.50 |\n",
       "| 57 | GSE210568 | GSM6432731 | HGG                    | RNA | SC | M  | PARIETAL-LOBE          | 12.00 |\n",
       "| 61 | GSE210568 | GSM6432735 | HGG                    | RNA | SC | M  | BRAIN                  |    NA |\n",
       "| 63 | GSE210568 | GSM6432737 | EPENDYMOMA             | RNA | SC | M  | POSTERIOR-FOSSA        |  1.00 |\n",
       "| 64 | GSE210568 | GSM6432738 | HGG                    | RNA | SC | M  | PONS                   |  4.00 |\n",
       "| 65 | GSE210568 | GSM6432739 | HGG                    | RNA | SC | M  | THALAMUS               | 12.00 |\n",
       "| 66 | GSE222850 | GSM6934152 | PILOCYTIC-ASTROCYTOMA  | RNA | SC | F  | BRAIN-STEM             |  4.30 |\n",
       "| 67 | GSE222850 | GSM6934153 | PILOCYTIC-ASTROCYTOMA  | RNA | SC | M  | POSTERIOR-FOSSA        |  5.10 |\n",
       "| 69 | GSE222850 | GSM6934155 | PILOCYTIC-ASTROCYTOMA  | RNA | SC | M  | PARIETO-OCCIPITAL      | 10.00 |\n",
       "| 70 | GSE222850 | GSM6934156 | PILOCYTIC-ASTROCYTOMA  | RNA | SC | F  | POSTERIOR-FOSSA        | 12.00 |\n",
       "| 71 | GSE222850 | GSM6934157 | PILOMYXOID-ASTROCYTOME | RNA | SC | M  | HYPOTHALAMIC-REGION    |  2.30 |\n",
       "| 72 | GSE231859 | GSM7305260 | HGG                    | RNA | SC | NA | NA                     |    NA |\n",
       "| 73 | GSE231859 | GSM7305261 | HGG                    | RNA | SC | NA | NA                     |    NA |\n",
       "| 74 | GSE231859 | GSM7305262 | HGG                    | RNA | SC | NA | NA                     |    NA |\n",
       "| 75 | GSE231859 | GSM7305263 | HGG                    | RNA | SC | NA | NA                     |    NA |\n",
       "| 76 | GSE231859 | GSM7305264 | HGG                    | RNA | SC | NA | NA                     |    NA |\n",
       "| 77 | GSE231859 | GSM7305265 | HGG                    | RNA | SC | NA | NA                     |    NA |\n",
       "| 78 | GSE231859 | GSM7305266 | HGG                    | RNA | SC | NA | NA                     |    NA |\n",
       "| 79 | GSE231859 | GSM7305267 | HGG                    | RNA | SC | NA | NA                     |    NA |\n",
       "| 80 | GSE231859 | GSM7305268 | HGG                    | RNA | SC | NA | NA                     |    NA |\n",
       "| 81 | GSE231859 | GSM7305269 | HGG                    | RNA | SC | NA | NA                     |    NA |\n",
       "| 82 | GSE231859 | GSM7305270 | HGG                    | RNA | SC | NA | NA                     |    NA |\n",
       "| 83 | GSE231859 | GSM7305271 | HGG                    | RNA | SC | NA | NA                     |    NA |\n",
       "| 84 | GSE231859 | GSM7305272 | HGG                    | RNA | SC | NA | NA                     |    NA |\n",
       "| 85 | GSE231859 | GSM7305273 | HGG                    | RNA | SC | NA | NA                     |    NA |\n",
       "| 86 | GSE231859 | GSM7305274 | HGG                    | RNA | SC | NA | NA                     |    NA |\n",
       "| 87 | GSE231859 | GSM7305275 | HGG                    | RNA | SC | NA | NA                     |    NA |\n",
       "| 88 | GSE231859 | GSM7305276 | HGG                    | RNA | SC | NA | NA                     |    NA |\n",
       "| 89 | GSE231859 | GSM7305277 | HGG                    | RNA | SC | NA | NA                     |    NA |\n",
       "| 90 | GSE231859 | GSM7305278 | HGG                    | RNA | SC | NA | NA                     |    NA |\n",
       "| 91 | GSE244433 | GSM7816067 | PA                     | RNA | SC | F  | BRAIN                  |  3.00 |\n",
       "| 92 | GSE244433 | GSM7816068 | PA                     | RNA | SC | F  | BRAIN                  | 10.00 |\n",
       "| 93 | GSE244433 | GSM7816069 | PA                     | RNA | SC | F  | BRAIN                  |  3.00 |\n",
       "| 94 | GSE244433 | GSM7816070 | PA                     | RNA | SC | F  | BRAIN                  | 11.00 |\n",
       "| 95 | GSE244433 | GSM7816071 | PA                     | RNA | SC | F  | BRAIN                  |  3.00 |\n",
       "\n"
      ],
      "text/plain": [
       "   GSE_ID    GSM_ID     CANCER_TYPE            SEQUENCING_TYPE TECHNOLOGY SEX\n",
       "29 GSE210568 GSM6432703 EPENDYMOMA             RNA             SC         M  \n",
       "30 GSE210568 GSM6432704 EPENDYMOMA             RNA             SC         M  \n",
       "31 GSE210568 GSM6432705 HGG                    RNA             SC         F  \n",
       "32 GSE210568 GSM6432706 HGG                    RNA             SC         M  \n",
       "49 GSE210568 GSM6432723 HGG                    RNA             SC         M  \n",
       "50 GSE210568 GSM6432724 HGG                    RNA             SC         M  \n",
       "51 GSE210568 GSM6432725 HGG                    RNA             SC         M  \n",
       "56 GSE210568 GSM6432730 EPENDYMOMA             RNA             SC         M  \n",
       "57 GSE210568 GSM6432731 HGG                    RNA             SC         M  \n",
       "61 GSE210568 GSM6432735 HGG                    RNA             SC         M  \n",
       "63 GSE210568 GSM6432737 EPENDYMOMA             RNA             SC         M  \n",
       "64 GSE210568 GSM6432738 HGG                    RNA             SC         M  \n",
       "65 GSE210568 GSM6432739 HGG                    RNA             SC         M  \n",
       "66 GSE222850 GSM6934152 PILOCYTIC-ASTROCYTOMA  RNA             SC         F  \n",
       "67 GSE222850 GSM6934153 PILOCYTIC-ASTROCYTOMA  RNA             SC         M  \n",
       "69 GSE222850 GSM6934155 PILOCYTIC-ASTROCYTOMA  RNA             SC         M  \n",
       "70 GSE222850 GSM6934156 PILOCYTIC-ASTROCYTOMA  RNA             SC         F  \n",
       "71 GSE222850 GSM6934157 PILOMYXOID-ASTROCYTOME RNA             SC         M  \n",
       "72 GSE231859 GSM7305260 HGG                    RNA             SC         NA \n",
       "73 GSE231859 GSM7305261 HGG                    RNA             SC         NA \n",
       "74 GSE231859 GSM7305262 HGG                    RNA             SC         NA \n",
       "75 GSE231859 GSM7305263 HGG                    RNA             SC         NA \n",
       "76 GSE231859 GSM7305264 HGG                    RNA             SC         NA \n",
       "77 GSE231859 GSM7305265 HGG                    RNA             SC         NA \n",
       "78 GSE231859 GSM7305266 HGG                    RNA             SC         NA \n",
       "79 GSE231859 GSM7305267 HGG                    RNA             SC         NA \n",
       "80 GSE231859 GSM7305268 HGG                    RNA             SC         NA \n",
       "81 GSE231859 GSM7305269 HGG                    RNA             SC         NA \n",
       "82 GSE231859 GSM7305270 HGG                    RNA             SC         NA \n",
       "83 GSE231859 GSM7305271 HGG                    RNA             SC         NA \n",
       "84 GSE231859 GSM7305272 HGG                    RNA             SC         NA \n",
       "85 GSE231859 GSM7305273 HGG                    RNA             SC         NA \n",
       "86 GSE231859 GSM7305274 HGG                    RNA             SC         NA \n",
       "87 GSE231859 GSM7305275 HGG                    RNA             SC         NA \n",
       "88 GSE231859 GSM7305276 HGG                    RNA             SC         NA \n",
       "89 GSE231859 GSM7305277 HGG                    RNA             SC         NA \n",
       "90 GSE231859 GSM7305278 HGG                    RNA             SC         NA \n",
       "91 GSE244433 GSM7816067 PA                     RNA             SC         F  \n",
       "92 GSE244433 GSM7816068 PA                     RNA             SC         F  \n",
       "93 GSE244433 GSM7816069 PA                     RNA             SC         F  \n",
       "94 GSE244433 GSM7816070 PA                     RNA             SC         F  \n",
       "95 GSE244433 GSM7816071 PA                     RNA             SC         F  \n",
       "   LOCATION               AGE  \n",
       "29 POSTERIOR-FOSSA         9.60\n",
       "30 POSTERIOR-FOSSA         0.90\n",
       "31 PARIETO-OCCIPITAL-LOBE 20.00\n",
       "32 CORTEX                  8.00\n",
       "49 LEFT-THALAMUS          14.00\n",
       "50 RIGHT-FRONTAL-LOBE     12.00\n",
       "51 BRAIN                   9.75\n",
       "56 POSTERIOR-FOSSA         0.50\n",
       "57 PARIETAL-LOBE          12.00\n",
       "61 BRAIN                     NA\n",
       "63 POSTERIOR-FOSSA         1.00\n",
       "64 PONS                    4.00\n",
       "65 THALAMUS               12.00\n",
       "66 BRAIN-STEM              4.30\n",
       "67 POSTERIOR-FOSSA         5.10\n",
       "69 PARIETO-OCCIPITAL      10.00\n",
       "70 POSTERIOR-FOSSA        12.00\n",
       "71 HYPOTHALAMIC-REGION     2.30\n",
       "72 NA                        NA\n",
       "73 NA                        NA\n",
       "74 NA                        NA\n",
       "75 NA                        NA\n",
       "76 NA                        NA\n",
       "77 NA                        NA\n",
       "78 NA                        NA\n",
       "79 NA                        NA\n",
       "80 NA                        NA\n",
       "81 NA                        NA\n",
       "82 NA                        NA\n",
       "83 NA                        NA\n",
       "84 NA                        NA\n",
       "85 NA                        NA\n",
       "86 NA                        NA\n",
       "87 NA                        NA\n",
       "88 NA                        NA\n",
       "89 NA                        NA\n",
       "90 NA                        NA\n",
       "91 BRAIN                   3.00\n",
       "92 BRAIN                  10.00\n",
       "93 BRAIN                   3.00\n",
       "94 BRAIN                  11.00\n",
       "95 BRAIN                   3.00"
      ]
     },
     "metadata": {},
     "output_type": "display_data"
    }
   ],
   "source": [
    "keep_meta <- subset(subset(subset(meta, subset=SEQUENCING_TYPE %in% c(\"RNA\", \"RNA+ATAC\")), subset=CANCER_TYPE==CANCER_TYPE), subset=TECHNOLOGY==\"SC\")\n",
    "keep_meta"
   ]
  },
  {
   "cell_type": "code",
   "execution_count": 11,
   "metadata": {
    "vscode": {
     "languageId": "r"
    }
   },
   "outputs": [
    {
     "data": {
      "text/html": [
       "<style>\n",
       ".list-inline {list-style: none; margin:0; padding: 0}\n",
       ".list-inline>li {display: inline-block}\n",
       ".list-inline>li:not(:last-child)::after {content: \"\\00b7\"; padding: 0 .5ex}\n",
       "</style>\n",
       "<ol class=list-inline><li>'GSM6432703'</li><li>'GSM6432704'</li><li>'GSM6432705'</li><li>'GSM6432706'</li><li>'GSM6432723'</li><li>'GSM6432724'</li><li>'GSM6432725'</li><li>'GSM6432730'</li><li>'GSM6432731'</li><li>'GSM6432735'</li><li>'GSM6432737'</li><li>'GSM6432738'</li><li>'GSM6432739'</li><li>'GSM6934152'</li><li>'GSM6934153'</li><li>'GSM6934155'</li><li>'GSM6934156'</li><li>'GSM6934157'</li><li>'GSM7305260'</li><li>'GSM7305261'</li><li>'GSM7305262'</li><li>'GSM7305263'</li><li>'GSM7305264'</li><li>'GSM7305265'</li><li>'GSM7305266'</li><li>'GSM7305267'</li><li>'GSM7305268'</li><li>'GSM7305269'</li><li>'GSM7305270'</li><li>'GSM7305271'</li><li>'GSM7305272'</li><li>'GSM7305273'</li><li>'GSM7305274'</li><li>'GSM7305275'</li><li>'GSM7305276'</li><li>'GSM7305277'</li><li>'GSM7305278'</li><li>'GSM7816067'</li><li>'GSM7816068'</li><li>'GSM7816069'</li><li>'GSM7816070'</li><li>'GSM7816071'</li></ol>\n"
      ],
      "text/latex": [
       "\\begin{enumerate*}\n",
       "\\item 'GSM6432703'\n",
       "\\item 'GSM6432704'\n",
       "\\item 'GSM6432705'\n",
       "\\item 'GSM6432706'\n",
       "\\item 'GSM6432723'\n",
       "\\item 'GSM6432724'\n",
       "\\item 'GSM6432725'\n",
       "\\item 'GSM6432730'\n",
       "\\item 'GSM6432731'\n",
       "\\item 'GSM6432735'\n",
       "\\item 'GSM6432737'\n",
       "\\item 'GSM6432738'\n",
       "\\item 'GSM6432739'\n",
       "\\item 'GSM6934152'\n",
       "\\item 'GSM6934153'\n",
       "\\item 'GSM6934155'\n",
       "\\item 'GSM6934156'\n",
       "\\item 'GSM6934157'\n",
       "\\item 'GSM7305260'\n",
       "\\item 'GSM7305261'\n",
       "\\item 'GSM7305262'\n",
       "\\item 'GSM7305263'\n",
       "\\item 'GSM7305264'\n",
       "\\item 'GSM7305265'\n",
       "\\item 'GSM7305266'\n",
       "\\item 'GSM7305267'\n",
       "\\item 'GSM7305268'\n",
       "\\item 'GSM7305269'\n",
       "\\item 'GSM7305270'\n",
       "\\item 'GSM7305271'\n",
       "\\item 'GSM7305272'\n",
       "\\item 'GSM7305273'\n",
       "\\item 'GSM7305274'\n",
       "\\item 'GSM7305275'\n",
       "\\item 'GSM7305276'\n",
       "\\item 'GSM7305277'\n",
       "\\item 'GSM7305278'\n",
       "\\item 'GSM7816067'\n",
       "\\item 'GSM7816068'\n",
       "\\item 'GSM7816069'\n",
       "\\item 'GSM7816070'\n",
       "\\item 'GSM7816071'\n",
       "\\end{enumerate*}\n"
      ],
      "text/markdown": [
       "1. 'GSM6432703'\n",
       "2. 'GSM6432704'\n",
       "3. 'GSM6432705'\n",
       "4. 'GSM6432706'\n",
       "5. 'GSM6432723'\n",
       "6. 'GSM6432724'\n",
       "7. 'GSM6432725'\n",
       "8. 'GSM6432730'\n",
       "9. 'GSM6432731'\n",
       "10. 'GSM6432735'\n",
       "11. 'GSM6432737'\n",
       "12. 'GSM6432738'\n",
       "13. 'GSM6432739'\n",
       "14. 'GSM6934152'\n",
       "15. 'GSM6934153'\n",
       "16. 'GSM6934155'\n",
       "17. 'GSM6934156'\n",
       "18. 'GSM6934157'\n",
       "19. 'GSM7305260'\n",
       "20. 'GSM7305261'\n",
       "21. 'GSM7305262'\n",
       "22. 'GSM7305263'\n",
       "23. 'GSM7305264'\n",
       "24. 'GSM7305265'\n",
       "25. 'GSM7305266'\n",
       "26. 'GSM7305267'\n",
       "27. 'GSM7305268'\n",
       "28. 'GSM7305269'\n",
       "29. 'GSM7305270'\n",
       "30. 'GSM7305271'\n",
       "31. 'GSM7305272'\n",
       "32. 'GSM7305273'\n",
       "33. 'GSM7305274'\n",
       "34. 'GSM7305275'\n",
       "35. 'GSM7305276'\n",
       "36. 'GSM7305277'\n",
       "37. 'GSM7305278'\n",
       "38. 'GSM7816067'\n",
       "39. 'GSM7816068'\n",
       "40. 'GSM7816069'\n",
       "41. 'GSM7816070'\n",
       "42. 'GSM7816071'\n",
       "\n",
       "\n"
      ],
      "text/plain": [
       " [1] \"GSM6432703\" \"GSM6432704\" \"GSM6432705\" \"GSM6432706\" \"GSM6432723\"\n",
       " [6] \"GSM6432724\" \"GSM6432725\" \"GSM6432730\" \"GSM6432731\" \"GSM6432735\"\n",
       "[11] \"GSM6432737\" \"GSM6432738\" \"GSM6432739\" \"GSM6934152\" \"GSM6934153\"\n",
       "[16] \"GSM6934155\" \"GSM6934156\" \"GSM6934157\" \"GSM7305260\" \"GSM7305261\"\n",
       "[21] \"GSM7305262\" \"GSM7305263\" \"GSM7305264\" \"GSM7305265\" \"GSM7305266\"\n",
       "[26] \"GSM7305267\" \"GSM7305268\" \"GSM7305269\" \"GSM7305270\" \"GSM7305271\"\n",
       "[31] \"GSM7305272\" \"GSM7305273\" \"GSM7305274\" \"GSM7305275\" \"GSM7305276\"\n",
       "[36] \"GSM7305277\" \"GSM7305278\" \"GSM7816067\" \"GSM7816068\" \"GSM7816069\"\n",
       "[41] \"GSM7816070\" \"GSM7816071\""
      ]
     },
     "metadata": {},
     "output_type": "display_data"
    }
   ],
   "source": [
    "keep_meta$GSM_ID"
   ]
  },
  {
   "cell_type": "code",
   "execution_count": 12,
   "metadata": {
    "vscode": {
     "languageId": "r"
    }
   },
   "outputs": [
    {
     "name": "stdout",
     "output_type": "stream",
     "text": [
      "\n",
      "sample_ids ids GSM7305260_834 GSM7305261_868 GSM7305262_905 GSM7305263_910 GSM7305264_954 GSM7305265_968 GSM7305266_1107 GSM7305267_1144 GSM7305268_1187 GSM7305269_1190 GSM7305270_1196 GSM7305271_1214 GSM7305272_1241 GSM7305273_1414 GSM7305274_1421 GSM7305275_1431 GSM7305276_1437 GSM7305277_1458 GSM7305278_1463_B \n",
      "[1] \"GSM7305260_834\"\n",
      "  Found single-cell RNA-seq files for sample: GSM7305260_834 \n",
      "[1] \"GSM7305261_868\"\n",
      "  Found single-cell RNA-seq files for sample: GSM7305261_868 \n",
      "[1] \"GSM7305262_905\"\n",
      "  Found single-cell RNA-seq files for sample: GSM7305262_905 \n",
      "[1] \"GSM7305263_910\"\n",
      "  Found single-cell RNA-seq files for sample: GSM7305263_910 \n",
      "[1] \"GSM7305264_954\"\n",
      "  Found single-cell RNA-seq files for sample: GSM7305264_954 \n",
      "[1] \"GSM7305265_968\"\n",
      "  Found single-cell RNA-seq files for sample: GSM7305265_968 \n",
      "[1] \"GSM7305266_1107\"\n",
      "  Found single-cell RNA-seq files for sample: GSM7305266_1107 \n",
      "[1] \"GSM7305267_1144\"\n",
      "  Found single-cell RNA-seq files for sample: GSM7305267_1144 \n",
      "[1] \"GSM7305268_1187\"\n",
      "  Found single-cell RNA-seq files for sample: GSM7305268_1187 \n",
      "[1] \"GSM7305269_1190\"\n",
      "  Found single-cell RNA-seq files for sample: GSM7305269_1190 \n",
      "[1] \"GSM7305270_1196\"\n",
      "  Found single-cell RNA-seq files for sample: GSM7305270_1196 \n",
      "[1] \"GSM7305271_1214\"\n",
      "  Found single-cell RNA-seq files for sample: GSM7305271_1214 \n",
      "[1] \"GSM7305272_1241\"\n",
      "  Found single-cell RNA-seq files for sample: GSM7305272_1241 \n",
      "[1] \"GSM7305273_1414\"\n",
      "  Found single-cell RNA-seq files for sample: GSM7305273_1414 \n",
      "[1] \"GSM7305274_1421\"\n",
      "  Found single-cell RNA-seq files for sample: GSM7305274_1421 \n",
      "[1] \"GSM7305275_1431\"\n",
      "  Found single-cell RNA-seq files for sample: GSM7305275_1431 \n",
      "[1] \"GSM7305276_1437\"\n",
      "  Found single-cell RNA-seq files for sample: GSM7305276_1437 \n",
      "[1] \"GSM7305277_1458\"\n",
      "  Found single-cell RNA-seq files for sample: GSM7305277_1458 \n",
      "[1] \"GSM7305278_1463_B\"\n",
      "  Found single-cell RNA-seq files for sample: GSM7305278_1463_B \n",
      "\n",
      "sample_ids ids GSM6432679_P-1764_S-1766 GSM6432680_P-2687_S-2688 GSM6432681_P-6253_S-8498 GSM6432682_P-6255_S-8500 GSM6432683_P-1694_S-1694 GSM6432684_P-1701_S-1701 GSM6432685_P-1709_S-1709 GSM6432686_P-1764_S-1766 GSM6432687_P-1779_S-1781 GSM6432688_P-1780_S-1780 GSM6432689_P-6253_S-8498 GSM6432690_P-6337_S-8821 GSM6432691_P-6640_S-9581 GSM6432692_P-6774_S-10146 GSM6432703_BT2016062 GSM6432704_BT2018022 GSM6432705_P-1190_S-1197 GSM6432706_P-1569_S-1569 GSM6432707_P-1713_S-1713 GSM6432708_P-1741_S-2756 GSM6432709_P-1764_S-1766 GSM6432710_P-1775_S-1775 GSM6432711_P-1969_S-3584 GSM6432712_P-2077_S-2077 GSM6432713_P-2687_S-2688 GSM6432714_P-3198_S-3199 GSM6432715_P-3200_S-3254 GSM6432716_P-3200_S-3867 GSM6432717_P-3387_S-3411 GSM6432718_P-3407_S-3447 GSM6432719_P-4198_S-4459 GSM6432720_P-4504_S-4916 GSM6432721_P-5099_S-6218 GSM6432722_P-5613_S-7162 GSM6432723_P-6117_S-8370 GSM6432724_P-6166_S-8321 GSM6432725_P-6240_S-8628 GSM6432726_P-6251_S-8496 GSM6432727_P-6253_S-8498 GSM6432728_P-6254_S-8499 GSM6432729_P-6255_S-8500 GSM6432730_P-6292_S-8579 GSM6432731_P-6308_S-8632 GSM6432732_P-6328_S-8672 GSM6432733_P-6329_S-8673 GSM6432734_P-6331_S-8904 GSM6432735_P-6337_S-8821 GSM6432736_P-6388_S-8770 GSM6432737_P-6431_S-8842 GSM6432738_P-6519_S-9084 GSM6432739_P-6640_S-9581 \n",
      "Skipping sample: GSM6432679_P-1764_S-1766 not found in metadata.\n",
      "Skipping sample: GSM6432680_P-2687_S-2688 not found in metadata.\n",
      "Skipping sample: GSM6432681_P-6253_S-8498 not found in metadata.\n",
      "Skipping sample: GSM6432682_P-6255_S-8500 not found in metadata.\n",
      "Skipping sample: GSM6432683_P-1694_S-1694 not found in metadata.\n",
      "Skipping sample: GSM6432684_P-1701_S-1701 not found in metadata.\n",
      "Skipping sample: GSM6432685_P-1709_S-1709 not found in metadata.\n",
      "Skipping sample: GSM6432686_P-1764_S-1766 not found in metadata.\n",
      "Skipping sample: GSM6432687_P-1779_S-1781 not found in metadata.\n",
      "Skipping sample: GSM6432688_P-1780_S-1780 not found in metadata.\n",
      "Skipping sample: GSM6432689_P-6253_S-8498 not found in metadata.\n",
      "Skipping sample: GSM6432690_P-6337_S-8821 not found in metadata.\n",
      "Skipping sample: GSM6432691_P-6640_S-9581 not found in metadata.\n",
      "Skipping sample: GSM6432692_P-6774_S-10146 not found in metadata.\n",
      "[1] \"GSM6432703_BT2016062\"\n",
      "  Found single-cell RNA-seq files for sample: GSM6432703_BT2016062 \n"
     ]
    },
    {
     "name": "stderr",
     "output_type": "stream",
     "text": [
      "Warning message:\n",
      "\"Feature names cannot have underscores ('_'), replacing with dashes ('-')\"\n"
     ]
    },
    {
     "name": "stdout",
     "output_type": "stream",
     "text": [
      "[1] \"GSM6432704_BT2018022\"\n",
      "  Found single-cell RNA-seq files for sample: GSM6432704_BT2018022 \n"
     ]
    },
    {
     "name": "stderr",
     "output_type": "stream",
     "text": [
      "Warning message:\n",
      "\"Feature names cannot have underscores ('_'), replacing with dashes ('-')\"\n"
     ]
    },
    {
     "name": "stdout",
     "output_type": "stream",
     "text": [
      "[1] \"GSM6432705_P-1190_S-1197\"\n",
      "  Found single-cell RNA-seq files for sample: GSM6432705_P-1190_S-1197 \n"
     ]
    },
    {
     "name": "stderr",
     "output_type": "stream",
     "text": [
      "Warning message:\n",
      "\"Feature names cannot have underscores ('_'), replacing with dashes ('-')\"\n"
     ]
    },
    {
     "name": "stdout",
     "output_type": "stream",
     "text": [
      "[1] \"GSM6432706_P-1569_S-1569\"\n",
      "  Found single-cell RNA-seq files for sample: GSM6432706_P-1569_S-1569 \n"
     ]
    },
    {
     "name": "stderr",
     "output_type": "stream",
     "text": [
      "Warning message:\n",
      "\"Feature names cannot have underscores ('_'), replacing with dashes ('-')\"\n"
     ]
    },
    {
     "name": "stdout",
     "output_type": "stream",
     "text": [
      "Skipping sample: GSM6432707_P-1713_S-1713 not found in metadata.\n",
      "Skipping sample: GSM6432708_P-1741_S-2756 not found in metadata.\n",
      "Skipping sample: GSM6432709_P-1764_S-1766 not found in metadata.\n",
      "Skipping sample: GSM6432710_P-1775_S-1775 not found in metadata.\n",
      "Skipping sample: GSM6432711_P-1969_S-3584 not found in metadata.\n",
      "Skipping sample: GSM6432712_P-2077_S-2077 not found in metadata.\n",
      "Skipping sample: GSM6432713_P-2687_S-2688 not found in metadata.\n",
      "Skipping sample: GSM6432714_P-3198_S-3199 not found in metadata.\n",
      "Skipping sample: GSM6432715_P-3200_S-3254 not found in metadata.\n",
      "Skipping sample: GSM6432716_P-3200_S-3867 not found in metadata.\n",
      "Skipping sample: GSM6432717_P-3387_S-3411 not found in metadata.\n",
      "Skipping sample: GSM6432718_P-3407_S-3447 not found in metadata.\n",
      "Skipping sample: GSM6432719_P-4198_S-4459 not found in metadata.\n",
      "Skipping sample: GSM6432720_P-4504_S-4916 not found in metadata.\n",
      "Skipping sample: GSM6432721_P-5099_S-6218 not found in metadata.\n",
      "Skipping sample: GSM6432722_P-5613_S-7162 not found in metadata.\n",
      "[1] \"GSM6432723_P-6117_S-8370\"\n",
      "  Found single-cell RNA-seq files for sample: GSM6432723_P-6117_S-8370 \n"
     ]
    },
    {
     "name": "stderr",
     "output_type": "stream",
     "text": [
      "Warning message:\n",
      "\"Feature names cannot have underscores ('_'), replacing with dashes ('-')\"\n"
     ]
    },
    {
     "name": "stdout",
     "output_type": "stream",
     "text": [
      "[1] \"GSM6432724_P-6166_S-8321\"\n",
      "  Found single-cell RNA-seq files for sample: GSM6432724_P-6166_S-8321 \n"
     ]
    },
    {
     "name": "stderr",
     "output_type": "stream",
     "text": [
      "Warning message:\n",
      "\"Feature names cannot have underscores ('_'), replacing with dashes ('-')\"\n"
     ]
    },
    {
     "name": "stdout",
     "output_type": "stream",
     "text": [
      "[1] \"GSM6432725_P-6240_S-8628\"\n",
      "  Found single-cell RNA-seq files for sample: GSM6432725_P-6240_S-8628 \n"
     ]
    },
    {
     "name": "stderr",
     "output_type": "stream",
     "text": [
      "Warning message:\n",
      "\"Feature names cannot have underscores ('_'), replacing with dashes ('-')\"\n"
     ]
    },
    {
     "name": "stdout",
     "output_type": "stream",
     "text": [
      "Skipping sample: GSM6432726_P-6251_S-8496 not found in metadata.\n",
      "Skipping sample: GSM6432727_P-6253_S-8498 not found in metadata.\n",
      "Skipping sample: GSM6432728_P-6254_S-8499 not found in metadata.\n",
      "Skipping sample: GSM6432729_P-6255_S-8500 not found in metadata.\n",
      "[1] \"GSM6432730_P-6292_S-8579\"\n",
      "  Found single-cell RNA-seq files for sample: GSM6432730_P-6292_S-8579 \n"
     ]
    },
    {
     "name": "stderr",
     "output_type": "stream",
     "text": [
      "Warning message:\n",
      "\"Feature names cannot have underscores ('_'), replacing with dashes ('-')\"\n"
     ]
    },
    {
     "name": "stdout",
     "output_type": "stream",
     "text": [
      "[1] \"GSM6432731_P-6308_S-8632\"\n",
      "  Found single-cell RNA-seq files for sample: GSM6432731_P-6308_S-8632 \n"
     ]
    },
    {
     "name": "stderr",
     "output_type": "stream",
     "text": [
      "Warning message:\n",
      "\"Feature names cannot have underscores ('_'), replacing with dashes ('-')\"\n"
     ]
    },
    {
     "name": "stdout",
     "output_type": "stream",
     "text": [
      "Skipping sample: GSM6432732_P-6328_S-8672 not found in metadata.\n",
      "Skipping sample: GSM6432733_P-6329_S-8673 not found in metadata.\n",
      "Skipping sample: GSM6432734_P-6331_S-8904 not found in metadata.\n",
      "[1] \"GSM6432735_P-6337_S-8821\"\n",
      "  Found single-cell RNA-seq files for sample: GSM6432735_P-6337_S-8821 \n"
     ]
    },
    {
     "name": "stderr",
     "output_type": "stream",
     "text": [
      "Warning message:\n",
      "\"Feature names cannot have underscores ('_'), replacing with dashes ('-')\"\n"
     ]
    },
    {
     "name": "stdout",
     "output_type": "stream",
     "text": [
      "Skipping sample: GSM6432736_P-6388_S-8770 not found in metadata.\n",
      "[1] \"GSM6432737_P-6431_S-8842\"\n",
      "  Found single-cell RNA-seq files for sample: GSM6432737_P-6431_S-8842 \n"
     ]
    },
    {
     "name": "stderr",
     "output_type": "stream",
     "text": [
      "Warning message:\n",
      "\"Feature names cannot have underscores ('_'), replacing with dashes ('-')\"\n"
     ]
    },
    {
     "name": "stdout",
     "output_type": "stream",
     "text": [
      "[1] \"GSM6432738_P-6519_S-9084\"\n",
      "  Found single-cell RNA-seq files for sample: GSM6432738_P-6519_S-9084 \n"
     ]
    },
    {
     "name": "stderr",
     "output_type": "stream",
     "text": [
      "Warning message:\n",
      "\"Feature names cannot have underscores ('_'), replacing with dashes ('-')\"\n"
     ]
    },
    {
     "name": "stdout",
     "output_type": "stream",
     "text": [
      "[1] \"GSM6432739_P-6640_S-9581\"\n",
      "  Found single-cell RNA-seq files for sample: GSM6432739_P-6640_S-9581 \n"
     ]
    },
    {
     "name": "stderr",
     "output_type": "stream",
     "text": [
      "Warning message:\n",
      "\"Feature names cannot have underscores ('_'), replacing with dashes ('-')\"\n"
     ]
    },
    {
     "name": "stdout",
     "output_type": "stream",
     "text": [
      "\n",
      "sample_ids ids GSM4983567_2937 GSM4983568_3402 GSM4983569_4021 \n",
      "Skipping sample: GSM4983567_2937 not found in metadata.\n",
      "Skipping sample: GSM4983568_3402 not found in metadata.\n",
      "Skipping sample: GSM4983569_4021 not found in metadata.\n",
      "\n",
      "sample_ids ids GSM4983564_2932 GSM4983566_3749 \n",
      "Skipping sample: GSM4983564_2932 not found in metadata.\n",
      "Skipping sample: GSM4983566_3749 not found in metadata.\n",
      "\n",
      "sample_ids ids GSM6934152_PA1 GSM6934153_PA2 GSM6934154_PA3 GSM6934155_PA4 GSM6934156_PA5 GSM6934157_PMA1 \n",
      "[1] \"GSM6934152_PA1\"\n",
      "  Found single-cell RNA-seq files for sample: GSM6934152_PA1 \n"
     ]
    },
    {
     "name": "stderr",
     "output_type": "stream",
     "text": [
      "Warning message:\n",
      "\"Feature names cannot have underscores ('_'), replacing with dashes ('-')\"\n"
     ]
    },
    {
     "name": "stdout",
     "output_type": "stream",
     "text": [
      "[1] \"GSM6934153_PA2\"\n",
      "  Found single-cell RNA-seq files for sample: GSM6934153_PA2 \n"
     ]
    },
    {
     "name": "stderr",
     "output_type": "stream",
     "text": [
      "Warning message:\n",
      "\"Feature names cannot have underscores ('_'), replacing with dashes ('-')\"\n"
     ]
    },
    {
     "name": "stdout",
     "output_type": "stream",
     "text": [
      "Skipping sample: GSM6934154_PA3 not found in metadata.\n",
      "[1] \"GSM6934155_PA4\"\n",
      "  Found single-cell RNA-seq files for sample: GSM6934155_PA4 \n"
     ]
    },
    {
     "name": "stderr",
     "output_type": "stream",
     "text": [
      "Warning message:\n",
      "\"Feature names cannot have underscores ('_'), replacing with dashes ('-')\"\n"
     ]
    },
    {
     "name": "stdout",
     "output_type": "stream",
     "text": [
      "[1] \"GSM6934156_PA5\"\n",
      "  Found single-cell RNA-seq files for sample: GSM6934156_PA5 \n"
     ]
    },
    {
     "name": "stderr",
     "output_type": "stream",
     "text": [
      "Warning message:\n",
      "\"Feature names cannot have underscores ('_'), replacing with dashes ('-')\"\n"
     ]
    },
    {
     "name": "stdout",
     "output_type": "stream",
     "text": [
      "[1] \"GSM6934157_PMA1\"\n",
      "  Found single-cell RNA-seq files for sample: GSM6934157_PMA1 \n"
     ]
    },
    {
     "name": "stderr",
     "output_type": "stream",
     "text": [
      "Warning message:\n",
      "\"Feature names cannot have underscores ('_'), replacing with dashes ('-')\"\n"
     ]
    },
    {
     "name": "stdout",
     "output_type": "stream",
     "text": [
      "\n",
      "sample_ids ids GSM7816061_3mthFMC GSM7816062_3mthFMC2 GSM7816063_PBMC GSM7816065_6w GSM7816066_Dura GSM7816067_H590 GSM7816068_H966 GSM7816069_440h1 GSM7816070_875h2 GSM7816071_SPA1 GSM7816072_WT_F GSM7816073_WT_M GSM7816074_HET GSM8488329_6mthFMC2 \n",
      "Skipping sample: GSM7816061_3mthFMC not found in metadata.\n",
      "Skipping sample: GSM7816062_3mthFMC2 not found in metadata.\n",
      "Skipping sample: GSM7816063_PBMC not found in metadata.\n",
      "Skipping sample: GSM7816065_6w not found in metadata.\n",
      "Skipping sample: GSM7816066_Dura not found in metadata.\n",
      "[1] \"GSM7816067_H590\"\n",
      "  Found single-cell RNA-seq files for sample: GSM7816067_H590 \n",
      "[1] \"GSM7816068_H966\"\n",
      "  Found single-cell RNA-seq files for sample: GSM7816068_H966 \n",
      "[1] \"GSM7816069_440h1\"\n",
      "  Found single-cell RNA-seq files for sample: GSM7816069_440h1 \n",
      "[1] \"GSM7816070_875h2\"\n",
      "  Found single-cell RNA-seq files for sample: GSM7816070_875h2 \n",
      "[1] \"GSM7816071_SPA1\"\n",
      "  Found single-cell RNA-seq files for sample: GSM7816071_SPA1 \n",
      "Skipping sample: GSM7816072_WT_F not found in metadata.\n",
      "Skipping sample: GSM7816073_WT_M not found in metadata.\n",
      "Skipping sample: GSM7816074_HET not found in metadata.\n",
      "Skipping sample: GSM8488329_6mthFMC2 not found in metadata.\n",
      "Processing complete.\n",
      "[1] \"saving files\"\n"
     ]
    }
   ],
   "source": [
    "library(Seurat)\n",
    "library(dplyr)\n",
    "\n",
    "base_dir <- \"./in\"\n",
    "\n",
    " datasets <- c(\"GSE231859\", \"GSE210568\", \"GSE163656\", \"GSE163655\" ,\"GSE222850\",\"GSE244433\")\n",
    "seurat_objects <- list()\n",
    "\n",
    "find_file <- function(dir, pattern) {\n",
    "  files <- Sys.glob(file.path(dir, pattern))\n",
    "  if (length(files) > 0) {\n",
    "    return(files[1])  # Return the first match\n",
    "  } else {\n",
    "    return(NULL)\n",
    "  }\n",
    "}\n",
    "\n",
    "for (gse in datasets) {\n",
    "  gse_dir <- file.path(base_dir, gse)\n",
    "  barcodes_files <- Sys.glob(file.path(gse_dir, \"*_barcodes.tsv\"))\n",
    "  sample_ids <- unique(sub(\"_barcodes.tsv$\", \"\", basename(barcodes_files)))\n",
    "\n",
    "  cat(\"\\nsample_ids ids\",sample_ids, \"\\n\")\n",
    "\n",
    "  for (sample_id in sample_ids) {\n",
    "    sample_gsm_id <- strsplit(sample_id, \"_\")[[1]][1]\n",
    "    if (!(sample_gsm_id %in% keep_meta$GSM_ID)) {\n",
    "      cat(\"Skipping sample:\", sample_id, \"not found in metadata.\\n\")\n",
    "    next\n",
    "    }\n",
    "    print(sample_id)\n",
    "    barcodes_file <- find_file(gse_dir, paste0(sample_id, \"*_barcodes.tsv\"))\n",
    "    features_file <- find_file(gse_dir, paste0(sample_id, \"*_features.tsv\"))\n",
    "    matrix_file   <- find_file(gse_dir, paste0(sample_id, \"*_matrix.mtx\"))\n",
    "\n",
    "    if (!is.null(barcodes_file) && !is.null(features_file) && !is.null(matrix_file)) {\n",
    "\n",
    "      cat(\"  Found single-cell RNA-seq files for sample:\", sample_id, \"\\n\")\n",
    "      # Adjust feature.column if needed; commonly, column 2 is gene name if 10x format\n",
    "      counts <- ReadMtx(\n",
    "        mtx = matrix_file,\n",
    "        features = features_file,\n",
    "        cells = barcodes_file,\n",
    "        feature.column = 2, # Adjust this if needed based on your file format\n",
    "        cell.column = 1\n",
    "      )\n",
    "\n",
    "      # Add a prefix to the cell names to track sample of origin\n",
    "      colnames(counts) <- paste0(sample_id, \"_\", colnames(counts))\n",
    "      # Create a Seurat object\n",
    "      seurat_obj <- CreateSeuratObject(\n",
    "        counts = counts,\n",
    "        project = sample_id,\n",
    "        min.cells = 3,\n",
    "        min.features = 200\n",
    "      )\n",
    "      seurat_obj@meta.data$CANCER_TYPE = CANCER_TYPE\n",
    "      # Store the Seurat object in the list\n",
    "      seurat_objects[[sample_id]] <- seurat_obj\n",
    "    } else {\n",
    "      cat(\"  Missing one or more files for sample:\", sample_id, \"\\n\")\n",
    "    }\n",
    "  }\n",
    "}\n",
    "cat(\"Processing complete.\\n\")\n",
    "print(\"saving files\")\n",
    "\n"
   ]
  },
  {
   "cell_type": "code",
   "execution_count": 13,
   "metadata": {
    "vscode": {
     "languageId": "r"
    }
   },
   "outputs": [
    {
     "data": {
      "text/html": [
       "<style>\n",
       ".list-inline {list-style: none; margin:0; padding: 0}\n",
       ".list-inline>li {display: inline-block}\n",
       ".list-inline>li:not(:last-child)::after {content: \"\\00b7\"; padding: 0 .5ex}\n",
       "</style>\n",
       "<ol class=list-inline><li>'GSM7305260_834'</li><li>'GSM7305261_868'</li><li>'GSM7305262_905'</li><li>'GSM7305263_910'</li><li>'GSM7305264_954'</li><li>'GSM7305265_968'</li><li>'GSM7305266_1107'</li><li>'GSM7305267_1144'</li><li>'GSM7305268_1187'</li><li>'GSM7305269_1190'</li><li>'GSM7305270_1196'</li><li>'GSM7305271_1214'</li><li>'GSM7305272_1241'</li><li>'GSM7305273_1414'</li><li>'GSM7305274_1421'</li><li>'GSM7305275_1431'</li><li>'GSM7305276_1437'</li><li>'GSM7305277_1458'</li><li>'GSM7305278_1463_B'</li><li>'GSM6432703_BT2016062'</li><li>'GSM6432704_BT2018022'</li><li>'GSM6432705_P-1190_S-1197'</li><li>'GSM6432706_P-1569_S-1569'</li><li>'GSM6432723_P-6117_S-8370'</li><li>'GSM6432724_P-6166_S-8321'</li><li>'GSM6432725_P-6240_S-8628'</li><li>'GSM6432730_P-6292_S-8579'</li><li>'GSM6432731_P-6308_S-8632'</li><li>'GSM6432735_P-6337_S-8821'</li><li>'GSM6432737_P-6431_S-8842'</li><li>'GSM6432738_P-6519_S-9084'</li><li>'GSM6432739_P-6640_S-9581'</li><li>'GSM6934152_PA1'</li><li>'GSM6934153_PA2'</li><li>'GSM6934155_PA4'</li><li>'GSM6934156_PA5'</li><li>'GSM6934157_PMA1'</li><li>'GSM7816067_H590'</li><li>'GSM7816068_H966'</li><li>'GSM7816069_440h1'</li><li>'GSM7816070_875h2'</li><li>'GSM7816071_SPA1'</li></ol>\n"
      ],
      "text/latex": [
       "\\begin{enumerate*}\n",
       "\\item 'GSM7305260\\_834'\n",
       "\\item 'GSM7305261\\_868'\n",
       "\\item 'GSM7305262\\_905'\n",
       "\\item 'GSM7305263\\_910'\n",
       "\\item 'GSM7305264\\_954'\n",
       "\\item 'GSM7305265\\_968'\n",
       "\\item 'GSM7305266\\_1107'\n",
       "\\item 'GSM7305267\\_1144'\n",
       "\\item 'GSM7305268\\_1187'\n",
       "\\item 'GSM7305269\\_1190'\n",
       "\\item 'GSM7305270\\_1196'\n",
       "\\item 'GSM7305271\\_1214'\n",
       "\\item 'GSM7305272\\_1241'\n",
       "\\item 'GSM7305273\\_1414'\n",
       "\\item 'GSM7305274\\_1421'\n",
       "\\item 'GSM7305275\\_1431'\n",
       "\\item 'GSM7305276\\_1437'\n",
       "\\item 'GSM7305277\\_1458'\n",
       "\\item 'GSM7305278\\_1463\\_B'\n",
       "\\item 'GSM6432703\\_BT2016062'\n",
       "\\item 'GSM6432704\\_BT2018022'\n",
       "\\item 'GSM6432705\\_P-1190\\_S-1197'\n",
       "\\item 'GSM6432706\\_P-1569\\_S-1569'\n",
       "\\item 'GSM6432723\\_P-6117\\_S-8370'\n",
       "\\item 'GSM6432724\\_P-6166\\_S-8321'\n",
       "\\item 'GSM6432725\\_P-6240\\_S-8628'\n",
       "\\item 'GSM6432730\\_P-6292\\_S-8579'\n",
       "\\item 'GSM6432731\\_P-6308\\_S-8632'\n",
       "\\item 'GSM6432735\\_P-6337\\_S-8821'\n",
       "\\item 'GSM6432737\\_P-6431\\_S-8842'\n",
       "\\item 'GSM6432738\\_P-6519\\_S-9084'\n",
       "\\item 'GSM6432739\\_P-6640\\_S-9581'\n",
       "\\item 'GSM6934152\\_PA1'\n",
       "\\item 'GSM6934153\\_PA2'\n",
       "\\item 'GSM6934155\\_PA4'\n",
       "\\item 'GSM6934156\\_PA5'\n",
       "\\item 'GSM6934157\\_PMA1'\n",
       "\\item 'GSM7816067\\_H590'\n",
       "\\item 'GSM7816068\\_H966'\n",
       "\\item 'GSM7816069\\_440h1'\n",
       "\\item 'GSM7816070\\_875h2'\n",
       "\\item 'GSM7816071\\_SPA1'\n",
       "\\end{enumerate*}\n"
      ],
      "text/markdown": [
       "1. 'GSM7305260_834'\n",
       "2. 'GSM7305261_868'\n",
       "3. 'GSM7305262_905'\n",
       "4. 'GSM7305263_910'\n",
       "5. 'GSM7305264_954'\n",
       "6. 'GSM7305265_968'\n",
       "7. 'GSM7305266_1107'\n",
       "8. 'GSM7305267_1144'\n",
       "9. 'GSM7305268_1187'\n",
       "10. 'GSM7305269_1190'\n",
       "11. 'GSM7305270_1196'\n",
       "12. 'GSM7305271_1214'\n",
       "13. 'GSM7305272_1241'\n",
       "14. 'GSM7305273_1414'\n",
       "15. 'GSM7305274_1421'\n",
       "16. 'GSM7305275_1431'\n",
       "17. 'GSM7305276_1437'\n",
       "18. 'GSM7305277_1458'\n",
       "19. 'GSM7305278_1463_B'\n",
       "20. 'GSM6432703_BT2016062'\n",
       "21. 'GSM6432704_BT2018022'\n",
       "22. 'GSM6432705_P-1190_S-1197'\n",
       "23. 'GSM6432706_P-1569_S-1569'\n",
       "24. 'GSM6432723_P-6117_S-8370'\n",
       "25. 'GSM6432724_P-6166_S-8321'\n",
       "26. 'GSM6432725_P-6240_S-8628'\n",
       "27. 'GSM6432730_P-6292_S-8579'\n",
       "28. 'GSM6432731_P-6308_S-8632'\n",
       "29. 'GSM6432735_P-6337_S-8821'\n",
       "30. 'GSM6432737_P-6431_S-8842'\n",
       "31. 'GSM6432738_P-6519_S-9084'\n",
       "32. 'GSM6432739_P-6640_S-9581'\n",
       "33. 'GSM6934152_PA1'\n",
       "34. 'GSM6934153_PA2'\n",
       "35. 'GSM6934155_PA4'\n",
       "36. 'GSM6934156_PA5'\n",
       "37. 'GSM6934157_PMA1'\n",
       "38. 'GSM7816067_H590'\n",
       "39. 'GSM7816068_H966'\n",
       "40. 'GSM7816069_440h1'\n",
       "41. 'GSM7816070_875h2'\n",
       "42. 'GSM7816071_SPA1'\n",
       "\n",
       "\n"
      ],
      "text/plain": [
       " [1] \"GSM7305260_834\"           \"GSM7305261_868\"          \n",
       " [3] \"GSM7305262_905\"           \"GSM7305263_910\"          \n",
       " [5] \"GSM7305264_954\"           \"GSM7305265_968\"          \n",
       " [7] \"GSM7305266_1107\"          \"GSM7305267_1144\"         \n",
       " [9] \"GSM7305268_1187\"          \"GSM7305269_1190\"         \n",
       "[11] \"GSM7305270_1196\"          \"GSM7305271_1214\"         \n",
       "[13] \"GSM7305272_1241\"          \"GSM7305273_1414\"         \n",
       "[15] \"GSM7305274_1421\"          \"GSM7305275_1431\"         \n",
       "[17] \"GSM7305276_1437\"          \"GSM7305277_1458\"         \n",
       "[19] \"GSM7305278_1463_B\"        \"GSM6432703_BT2016062\"    \n",
       "[21] \"GSM6432704_BT2018022\"     \"GSM6432705_P-1190_S-1197\"\n",
       "[23] \"GSM6432706_P-1569_S-1569\" \"GSM6432723_P-6117_S-8370\"\n",
       "[25] \"GSM6432724_P-6166_S-8321\" \"GSM6432725_P-6240_S-8628\"\n",
       "[27] \"GSM6432730_P-6292_S-8579\" \"GSM6432731_P-6308_S-8632\"\n",
       "[29] \"GSM6432735_P-6337_S-8821\" \"GSM6432737_P-6431_S-8842\"\n",
       "[31] \"GSM6432738_P-6519_S-9084\" \"GSM6432739_P-6640_S-9581\"\n",
       "[33] \"GSM6934152_PA1\"           \"GSM6934153_PA2\"          \n",
       "[35] \"GSM6934155_PA4\"           \"GSM6934156_PA5\"          \n",
       "[37] \"GSM6934157_PMA1\"          \"GSM7816067_H590\"         \n",
       "[39] \"GSM7816068_H966\"          \"GSM7816069_440h1\"        \n",
       "[41] \"GSM7816070_875h2\"         \"GSM7816071_SPA1\"         "
      ]
     },
     "metadata": {},
     "output_type": "display_data"
    }
   ],
   "source": [
    "names(seurat_objects)"
   ]
  },
  {
   "cell_type": "code",
   "execution_count": 14,
   "metadata": {
    "vscode": {
     "languageId": "r"
    }
   },
   "outputs": [
    {
     "name": "stdout",
     "output_type": "stream",
     "text": [
      "[1] \"GSM7305260_834\"\n",
      "[1] \"GSM7305261_868\"\n",
      "[1] \"GSM7305262_905\"\n",
      "[1] \"GSM7305263_910\"\n",
      "[1] \"GSM7305264_954\"\n",
      "[1] \"GSM7305265_968\"\n",
      "[1] \"GSM7305266_1107\"\n",
      "[1] \"GSM7305267_1144\"\n",
      "[1] \"GSM7305268_1187\"\n",
      "[1] \"GSM7305269_1190\"\n",
      "[1] \"GSM7305270_1196\"\n",
      "[1] \"GSM7305271_1214\"\n",
      "[1] \"GSM7305272_1241\"\n",
      "[1] \"GSM7305273_1414\"\n",
      "[1] \"GSM7305274_1421\"\n",
      "[1] \"GSM7305275_1431\"\n",
      "[1] \"GSM7305276_1437\"\n",
      "[1] \"GSM7305277_1458\"\n",
      "[1] \"GSM7305278_1463_B\"\n",
      "[1] \"GSM6432703_BT2016062\"\n",
      "[1] \"GSM6432704_BT2018022\"\n",
      "[1] \"GSM6432705_P-1190_S-1197\"\n",
      "[1] \"GSM6432706_P-1569_S-1569\"\n",
      "[1] \"GSM6432723_P-6117_S-8370\"\n",
      "[1] \"GSM6432724_P-6166_S-8321\"\n",
      "[1] \"GSM6432725_P-6240_S-8628\"\n",
      "[1] \"GSM6432730_P-6292_S-8579\"\n",
      "[1] \"GSM6432731_P-6308_S-8632\"\n",
      "[1] \"GSM6432735_P-6337_S-8821\"\n",
      "[1] \"GSM6432737_P-6431_S-8842\"\n",
      "[1] \"GSM6432738_P-6519_S-9084\"\n",
      "[1] \"GSM6432739_P-6640_S-9581\"\n",
      "[1] \"GSM6934152_PA1\"\n",
      "[1] \"GSM6934153_PA2\"\n",
      "[1] \"GSM6934155_PA4\"\n",
      "[1] \"GSM6934156_PA5\"\n",
      "[1] \"GSM6934157_PMA1\"\n",
      "[1] \"GSM7816067_H590\"\n",
      "[1] \"GSM7816068_H966\"\n",
      "[1] \"GSM7816069_440h1\"\n",
      "[1] \"GSM7816070_875h2\"\n",
      "[1] \"GSM7816071_SPA1\"\n",
      "Files saved.\n"
     ]
    }
   ],
   "source": [
    "\n",
    "for (name in names(seurat_objects)) {\n",
    "    print(name)\n",
    "    fname <- paste0(\"./out/\", name, \"_\", CANCER_TYPE, \".rds\")\n",
    "    saveRDS(seurat_objects[[name]], file=fname)\n",
    "}\n",
    "cat(\"Files saved.\\n\")"
   ]
  }
 ],
 "metadata": {
  "kernelspec": {
   "display_name": "R",
   "language": "R",
   "name": "ir"
  },
  "language_info": {
   "codemirror_mode": "r",
   "file_extension": ".r",
   "mimetype": "text/x-r-source",
   "name": "R",
   "pygments_lexer": "r",
   "version": "4.4.0"
  }
 },
 "nbformat": 4,
 "nbformat_minor": 2
}
