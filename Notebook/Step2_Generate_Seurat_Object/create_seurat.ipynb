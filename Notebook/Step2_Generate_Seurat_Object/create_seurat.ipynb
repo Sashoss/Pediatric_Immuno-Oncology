{
 "cells": [
  {
   "cell_type": "code",
   "execution_count": 30,
   "metadata": {
    "vscode": {
     "languageId": "r"
    }
   },
   "outputs": [],
   "source": [
    "suppressPackageStartupMessages({\n",
    "    library(Seurat)\n",
    "    library(SingleCellExperiment)\n",
    "    library(qs)\n",
    "})"
   ]
  },
  {
   "cell_type": "code",
   "execution_count": 14,
   "metadata": {
    "vscode": {
     "languageId": "r"
    }
   },
   "outputs": [],
   "source": [
    "PROJ_PATH <- getwd()"
   ]
  },
  {
   "cell_type": "code",
   "execution_count": 15,
   "metadata": {
    "vscode": {
     "languageId": "r"
    }
   },
   "outputs": [],
   "source": [
    "source(\"../Utility/sym_link.r\")"
   ]
  },
  {
   "cell_type": "code",
   "execution_count": 16,
   "metadata": {
    "vscode": {
     "languageId": "r"
    }
   },
   "outputs": [
    {
     "data": {
      "text/html": [
       "<pre class=language-r><code>function (input_dir, output_dir, include_dirs = FALSE) \n",
       "{\n",
       "<span style=white-space:pre-wrap>    if (!dir.exists(input_dir)) </span>\n",
       "<span style=white-space:pre-wrap>        stop(\"Input directory does not exist.\")</span>\n",
       "<span style=white-space:pre-wrap>    if (!dir.exists(output_dir)) </span>\n",
       "<span style=white-space:pre-wrap>        dir.create(output_dir, recursive = TRUE)</span>\n",
       "<span style=white-space:pre-wrap>    all_items &lt;- list.files(input_dir, full.names = TRUE, include.dirs = include_dirs)</span>\n",
       "<span style=white-space:pre-wrap>    for (item in all_items) {</span>\n",
       "<span style=white-space:pre-wrap>        item_name &lt;- basename(item)</span>\n",
       "<span style=white-space:pre-wrap>        target_link &lt;- file.path(output_dir, item_name)</span>\n",
       "<span style=white-space:pre-wrap>        if (!file.exists(target_link)) {</span>\n",
       "<span style=white-space:pre-wrap>            success &lt;- file.symlink(from = item, to = target_link)</span>\n",
       "<span style=white-space:pre-wrap>            if (!success) </span>\n",
       "<span style=white-space:pre-wrap>                warning(paste(\"Failed to create symlink for:\", </span>\n",
       "<span style=white-space:pre-wrap>                  item))</span>\n",
       "<span style=white-space:pre-wrap>        }</span>\n",
       "<span style=white-space:pre-wrap>        else {</span>\n",
       "<span style=white-space:pre-wrap>            message(paste(\"Link already exists:\", target_link))</span>\n",
       "<span style=white-space:pre-wrap>        }</span>\n",
       "<span style=white-space:pre-wrap>    }</span>\n",
       "<span style=white-space:pre-wrap>    message(\"Symlinks created in: \", output_dir)</span>\n",
       "}</code></pre>"
      ],
      "text/latex": [
       "\\begin{minted}{r}\n",
       "function (input\\_dir, output\\_dir, include\\_dirs = FALSE) \n",
       "\\{\n",
       "    if (!dir.exists(input\\_dir)) \n",
       "        stop(\"Input directory does not exist.\")\n",
       "    if (!dir.exists(output\\_dir)) \n",
       "        dir.create(output\\_dir, recursive = TRUE)\n",
       "    all\\_items <- list.files(input\\_dir, full.names = TRUE, include.dirs = include\\_dirs)\n",
       "    for (item in all\\_items) \\{\n",
       "        item\\_name <- basename(item)\n",
       "        target\\_link <- file.path(output\\_dir, item\\_name)\n",
       "        if (!file.exists(target\\_link)) \\{\n",
       "            success <- file.symlink(from = item, to = target\\_link)\n",
       "            if (!success) \n",
       "                warning(paste(\"Failed to create symlink for:\", \n",
       "                  item))\n",
       "        \\}\n",
       "        else \\{\n",
       "            message(paste(\"Link already exists:\", target\\_link))\n",
       "        \\}\n",
       "    \\}\n",
       "    message(\"Symlinks created in: \", output\\_dir)\n",
       "\\}\n",
       "\\end{minted}"
      ],
      "text/markdown": [
       "```r\n",
       "function (input_dir, output_dir, include_dirs = FALSE) \n",
       "{\n",
       "    if (!dir.exists(input_dir)) \n",
       "        stop(\"Input directory does not exist.\")\n",
       "    if (!dir.exists(output_dir)) \n",
       "        dir.create(output_dir, recursive = TRUE)\n",
       "    all_items <- list.files(input_dir, full.names = TRUE, include.dirs = include_dirs)\n",
       "    for (item in all_items) {\n",
       "        item_name <- basename(item)\n",
       "        target_link <- file.path(output_dir, item_name)\n",
       "        if (!file.exists(target_link)) {\n",
       "            success <- file.symlink(from = item, to = target_link)\n",
       "            if (!success) \n",
       "                warning(paste(\"Failed to create symlink for:\", \n",
       "                  item))\n",
       "        }\n",
       "        else {\n",
       "            message(paste(\"Link already exists:\", target_link))\n",
       "        }\n",
       "    }\n",
       "    message(\"Symlinks created in: \", output_dir)\n",
       "}\n",
       "```"
      ],
      "text/plain": [
       "function (input_dir, output_dir, include_dirs = FALSE) \n",
       "{\n",
       "    if (!dir.exists(input_dir)) \n",
       "        stop(\"Input directory does not exist.\")\n",
       "    if (!dir.exists(output_dir)) \n",
       "        dir.create(output_dir, recursive = TRUE)\n",
       "    all_items <- list.files(input_dir, full.names = TRUE, include.dirs = include_dirs)\n",
       "    for (item in all_items) {\n",
       "        item_name <- basename(item)\n",
       "        target_link <- file.path(output_dir, item_name)\n",
       "        if (!file.exists(target_link)) {\n",
       "            success <- file.symlink(from = item, to = target_link)\n",
       "            if (!success) \n",
       "                warning(paste(\"Failed to create symlink for:\", \n",
       "                  item))\n",
       "        }\n",
       "        else {\n",
       "            message(paste(\"Link already exists:\", target_link))\n",
       "        }\n",
       "    }\n",
       "    message(\"Symlinks created in: \", output_dir)\n",
       "}"
      ]
     },
     "metadata": {},
     "output_type": "display_data"
    }
   ],
   "source": [
    "View(create_soft_links)"
   ]
  },
  {
   "cell_type": "code",
   "execution_count": null,
   "metadata": {
    "vscode": {
     "languageId": "r"
    }
   },
   "outputs": [],
   "source": [
    "create_soft_links(input_dir=file.path(PROJ_PATH, \"..\", \"Step1_Dataset\", \"in\", \"SCPCP000001\"), output_dir=file.path(PROJ_PATH, \"in\", \"SCPCP000001\"), include_dirs = TRUE)"
   ]
  },
  {
   "cell_type": "code",
   "execution_count": 18,
   "metadata": {
    "vscode": {
     "languageId": "r"
    }
   },
   "outputs": [],
   "source": [
    "source(\"../Utility/scpca_data_handling.r\")"
   ]
  },
  {
   "cell_type": "code",
   "execution_count": 19,
   "metadata": {
    "vscode": {
     "languageId": "r"
    }
   },
   "outputs": [
    {
     "data": {
      "text/html": [
       "<pre class=language-r><code>function (input_dir, output_filepath, cancer_types = c(\"Glioblastoma\"), \n",
       "<span style=white-space:pre-wrap>    dtype = \"filtered\") </span>\n",
       "{\n",
       "<span style=white-space:pre-wrap>    sample_dirs &lt;- list.dirs(input_dir, recursive = TRUE)</span>\n",
       "<span style=white-space:pre-wrap>    seurat_list &lt;- list()</span>\n",
       "<span style=white-space:pre-wrap>    metadata_file_path &lt;- file.path(input_dir, \"single_cell_metadata.tsv\")</span>\n",
       "<span style=white-space:pre-wrap>    metadata &lt;- read.delim(metadata_file_path, sep = \"\\t\", header = TRUE)</span>\n",
       "<span style=white-space:pre-wrap>    sample_pick = c()</span>\n",
       "<span style=white-space:pre-wrap>    counter = 0</span>\n",
       "<span style=white-space:pre-wrap>    for (i in 1:length(sample_dirs)) {</span>\n",
       "<span style=white-space:pre-wrap>        sample_id &lt;- basename(sample_dirs[i])</span>\n",
       "<span style=white-space:pre-wrap>        rds_files &lt;- list.files(path = sample_dirs[i], pattern = paste0(\"\\\\_\", </span>\n",
       "<span style=white-space:pre-wrap>            dtype, \".rds$\"), full.names = TRUE)</span>\n",
       "<span style=white-space:pre-wrap>        for (file in rds_files) {</span>\n",
       "<span style=white-space:pre-wrap>            test_sample &lt;- TRUE</span>\n",
       "<span style=white-space:pre-wrap>            sample_id &lt;- strsplit(sub(\"\\\\.[[:alnum:]]+$\", \"\", </span>\n",
       "<span style=white-space:pre-wrap>                basename(file)), \"_\")[[1]][1]</span>\n",
       "<span style=white-space:pre-wrap>            sample_metadata &lt;- metadata[metadata$scpca_library_id == </span>\n",
       "<span style=white-space:pre-wrap>                sample_id, ]</span>\n",
       "<span style=white-space:pre-wrap>            if (any(sample_metadata$diagnosis %in% cancer_types)) {</span>\n",
       "<span style=white-space:pre-wrap>                counter = counter + 1</span>\n",
       "<span style=white-space:pre-wrap>                sce_obj &lt;- readRDS(file)</span>\n",
       "<span style=white-space:pre-wrap>                seurat_obj &lt;- as.Seurat(sce_obj)</span>\n",
       "<span style=white-space:pre-wrap>                tryCatch({</span>\n",
       "<span style=white-space:pre-wrap>                  seurat_obj &lt;- as.Seurat(sce_obj)</span>\n",
       "<span style=white-space:pre-wrap>                }, error = function(e) {</span>\n",
       "<span style=white-space:pre-wrap>                  seurat_obj &lt;- as.Seurat(sce_obj, data = \"counts\")</span>\n",
       "<span style=white-space:pre-wrap>                })</span>\n",
       "<span style=white-space:pre-wrap>                if (test_sample == FALSE) </span>\n",
       "<span style=white-space:pre-wrap>                  next</span>\n",
       "<span style=white-space:pre-wrap>                seurat_obj$diagnosis &lt;- sample_metadata$diagnosis</span>\n",
       "<span style=white-space:pre-wrap>                seurat_obj$age &lt;- sample_metadata$age</span>\n",
       "<span style=white-space:pre-wrap>                seurat_obj$sex &lt;- sample_metadata$sex</span>\n",
       "<span style=white-space:pre-wrap>                sample_pick &lt;- c(sample_pick, sample_id)</span>\n",
       "<span style=white-space:pre-wrap>                seurat_list[[sample_id]] &lt;- seurat_obj</span>\n",
       "<span style=white-space:pre-wrap>            }</span>\n",
       "<span style=white-space:pre-wrap>        }</span>\n",
       "<span style=white-space:pre-wrap>    }</span>\n",
       "<span style=white-space:pre-wrap>    return(seurat_list)</span>\n",
       "}</code></pre>"
      ],
      "text/latex": [
       "\\begin{minted}{r}\n",
       "function (input\\_dir, output\\_filepath, cancer\\_types = c(\"Glioblastoma\"), \n",
       "    dtype = \"filtered\") \n",
       "\\{\n",
       "    sample\\_dirs <- list.dirs(input\\_dir, recursive = TRUE)\n",
       "    seurat\\_list <- list()\n",
       "    metadata\\_file\\_path <- file.path(input\\_dir, \"single\\_cell\\_metadata.tsv\")\n",
       "    metadata <- read.delim(metadata\\_file\\_path, sep = \"\\textbackslash{}t\", header = TRUE)\n",
       "    sample\\_pick = c()\n",
       "    counter = 0\n",
       "    for (i in 1:length(sample\\_dirs)) \\{\n",
       "        sample\\_id <- basename(sample\\_dirs{[}i{]})\n",
       "        rds\\_files <- list.files(path = sample\\_dirs{[}i{]}, pattern = paste0(\"\\textbackslash{}\\textbackslash{}\\_\", \n",
       "            dtype, \".rds\\$\"), full.names = TRUE)\n",
       "        for (file in rds\\_files) \\{\n",
       "            test\\_sample <- TRUE\n",
       "            sample\\_id <- strsplit(sub(\"\\textbackslash{}\\textbackslash{}.{[}{[}:alnum:{]}{]}+\\$\", \"\", \n",
       "                basename(file)), \"\\_\"){[}{[}1{]}{]}{[}1{]}\n",
       "            sample\\_metadata <- metadata{[}metadata\\$scpca\\_library\\_id == \n",
       "                sample\\_id, {]}\n",
       "            if (any(sample\\_metadata\\$diagnosis \\%in\\% cancer\\_types)) \\{\n",
       "                counter = counter + 1\n",
       "                sce\\_obj <- readRDS(file)\n",
       "                seurat\\_obj <- as.Seurat(sce\\_obj)\n",
       "                tryCatch(\\{\n",
       "                  seurat\\_obj <- as.Seurat(sce\\_obj)\n",
       "                \\}, error = function(e) \\{\n",
       "                  seurat\\_obj <- as.Seurat(sce\\_obj, data = \"counts\")\n",
       "                \\})\n",
       "                if (test\\_sample == FALSE) \n",
       "                  next\n",
       "                seurat\\_obj\\$diagnosis <- sample\\_metadata\\$diagnosis\n",
       "                seurat\\_obj\\$age <- sample\\_metadata\\$age\n",
       "                seurat\\_obj\\$sex <- sample\\_metadata\\$sex\n",
       "                sample\\_pick <- c(sample\\_pick, sample\\_id)\n",
       "                seurat\\_list{[}{[}sample\\_id{]}{]} <- seurat\\_obj\n",
       "            \\}\n",
       "        \\}\n",
       "    \\}\n",
       "    return(seurat\\_list)\n",
       "\\}\n",
       "\\end{minted}"
      ],
      "text/markdown": [
       "```r\n",
       "function (input_dir, output_filepath, cancer_types = c(\"Glioblastoma\"), \n",
       "    dtype = \"filtered\") \n",
       "{\n",
       "    sample_dirs <- list.dirs(input_dir, recursive = TRUE)\n",
       "    seurat_list <- list()\n",
       "    metadata_file_path <- file.path(input_dir, \"single_cell_metadata.tsv\")\n",
       "    metadata <- read.delim(metadata_file_path, sep = \"\\t\", header = TRUE)\n",
       "    sample_pick = c()\n",
       "    counter = 0\n",
       "    for (i in 1:length(sample_dirs)) {\n",
       "        sample_id <- basename(sample_dirs[i])\n",
       "        rds_files <- list.files(path = sample_dirs[i], pattern = paste0(\"\\\\_\", \n",
       "            dtype, \".rds$\"), full.names = TRUE)\n",
       "        for (file in rds_files) {\n",
       "            test_sample <- TRUE\n",
       "            sample_id <- strsplit(sub(\"\\\\.[[:alnum:]]+$\", \"\", \n",
       "                basename(file)), \"_\")[[1]][1]\n",
       "            sample_metadata <- metadata[metadata$scpca_library_id == \n",
       "                sample_id, ]\n",
       "            if (any(sample_metadata$diagnosis %in% cancer_types)) {\n",
       "                counter = counter + 1\n",
       "                sce_obj <- readRDS(file)\n",
       "                seurat_obj <- as.Seurat(sce_obj)\n",
       "                tryCatch({\n",
       "                  seurat_obj <- as.Seurat(sce_obj)\n",
       "                }, error = function(e) {\n",
       "                  seurat_obj <- as.Seurat(sce_obj, data = \"counts\")\n",
       "                })\n",
       "                if (test_sample == FALSE) \n",
       "                  next\n",
       "                seurat_obj$diagnosis <- sample_metadata$diagnosis\n",
       "                seurat_obj$age <- sample_metadata$age\n",
       "                seurat_obj$sex <- sample_metadata$sex\n",
       "                sample_pick <- c(sample_pick, sample_id)\n",
       "                seurat_list[[sample_id]] <- seurat_obj\n",
       "            }\n",
       "        }\n",
       "    }\n",
       "    return(seurat_list)\n",
       "}\n",
       "```"
      ],
      "text/plain": [
       "function (input_dir, output_filepath, cancer_types = c(\"Glioblastoma\"), \n",
       "    dtype = \"filtered\") \n",
       "{\n",
       "    sample_dirs <- list.dirs(input_dir, recursive = TRUE)\n",
       "    seurat_list <- list()\n",
       "    metadata_file_path <- file.path(input_dir, \"single_cell_metadata.tsv\")\n",
       "    metadata <- read.delim(metadata_file_path, sep = \"\\t\", header = TRUE)\n",
       "    sample_pick = c()\n",
       "    counter = 0\n",
       "    for (i in 1:length(sample_dirs)) {\n",
       "        sample_id <- basename(sample_dirs[i])\n",
       "        rds_files <- list.files(path = sample_dirs[i], pattern = paste0(\"\\\\_\", \n",
       "            dtype, \".rds$\"), full.names = TRUE)\n",
       "        for (file in rds_files) {\n",
       "            test_sample <- TRUE\n",
       "            sample_id <- strsplit(sub(\"\\\\.[[:alnum:]]+$\", \"\", \n",
       "                basename(file)), \"_\")[[1]][1]\n",
       "            sample_metadata <- metadata[metadata$scpca_library_id == \n",
       "                sample_id, ]\n",
       "            if (any(sample_metadata$diagnosis %in% cancer_types)) {\n",
       "                counter = counter + 1\n",
       "                sce_obj <- readRDS(file)\n",
       "                seurat_obj <- as.Seurat(sce_obj)\n",
       "                tryCatch({\n",
       "                  seurat_obj <- as.Seurat(sce_obj)\n",
       "                }, error = function(e) {\n",
       "                  seurat_obj <- as.Seurat(sce_obj, data = \"counts\")\n",
       "                })\n",
       "                if (test_sample == FALSE) \n",
       "                  next\n",
       "                seurat_obj$diagnosis <- sample_metadata$diagnosis\n",
       "                seurat_obj$age <- sample_metadata$age\n",
       "                seurat_obj$sex <- sample_metadata$sex\n",
       "                sample_pick <- c(sample_pick, sample_id)\n",
       "                seurat_list[[sample_id]] <- seurat_obj\n",
       "            }\n",
       "        }\n",
       "    }\n",
       "    return(seurat_list)\n",
       "}"
      ]
     },
     "metadata": {},
     "output_type": "display_data"
    }
   ],
   "source": [
    "View(filter_scpca_data)"
   ]
  },
  {
   "cell_type": "code",
   "execution_count": 21,
   "metadata": {
    "vscode": {
     "languageId": "r"
    }
   },
   "outputs": [
    {
     "data": {
      "text/plain": [
       "\n",
       "       Anaplastic astrocytoma             Anaplastic glioma \n",
       "                            1                             1 \n",
       "       Diffuse midline glioma                  Glioblastoma \n",
       "                            1                            16 \n",
       "            High-grade glioma                 Non-cancerous \n",
       "                            2                             1 \n",
       "Pleomorphic xanthoastrocytoma \n",
       "                            1 "
      ]
     },
     "metadata": {},
     "output_type": "display_data"
    }
   ],
   "source": [
    "metadata_SCPCP000001 <- read.delim(file.path(getwd(),\"in/SCPCP000001/single_cell_metadata.tsv\"), sep=\"\\t\", header=TRUE)\n",
    "table(metadata_SCPCP000001$diagnosis)"
   ]
  },
  {
   "cell_type": "code",
   "execution_count": 22,
   "metadata": {
    "vscode": {
     "languageId": "r"
    }
   },
   "outputs": [],
   "source": [
    "options(warn=-1)\n",
    "seurat_list_SCPCP000001 <- filter_scpca_data(input_dir=\"./in/SCPCP000001\", \n",
    "                                             cancer_types=c(\"Glioblastoma\", \n",
    "                                                            \"High-grade glioma\", \n",
    "                                                            \"Low-grade glioma\",\n",
    "                                                            \"Non-cancerous\"), \n",
    "                                             dtype=\"processed\")"
   ]
  },
  {
   "cell_type": "code",
   "execution_count": 28,
   "metadata": {
    "vscode": {
     "languageId": "r"
    }
   },
   "outputs": [
    {
     "data": {
      "text/html": [
       "<style>\n",
       ".list-inline {list-style: none; margin:0; padding: 0}\n",
       ".list-inline>li {display: inline-block}\n",
       ".list-inline>li:not(:last-child)::after {content: \"\\00b7\"; padding: 0 .5ex}\n",
       "</style>\n",
       "<ol class=list-inline><li>'orig.ident'</li><li>'nCount_originalexp'</li><li>'nFeature_originalexp'</li><li>'barcodes'</li><li>'sum'</li><li>'detected'</li><li>'subsets_mito_sum'</li><li>'subsets_mito_detected'</li><li>'subsets_mito_percent'</li><li>'total'</li><li>'prob_compromised'</li><li>'miQC_pass'</li><li>'scpca_filter'</li><li>'sizeFactor'</li><li>'cluster'</li><li>'singler_celltype_ontology'</li><li>'singler_celltype_annotation'</li><li>'cellassign_celltype_annotation'</li><li>'cellassign_max_prediction'</li><li>'diagnosis'</li><li>'age'</li><li>'sex'</li></ol>\n"
      ],
      "text/latex": [
       "\\begin{enumerate*}\n",
       "\\item 'orig.ident'\n",
       "\\item 'nCount\\_originalexp'\n",
       "\\item 'nFeature\\_originalexp'\n",
       "\\item 'barcodes'\n",
       "\\item 'sum'\n",
       "\\item 'detected'\n",
       "\\item 'subsets\\_mito\\_sum'\n",
       "\\item 'subsets\\_mito\\_detected'\n",
       "\\item 'subsets\\_mito\\_percent'\n",
       "\\item 'total'\n",
       "\\item 'prob\\_compromised'\n",
       "\\item 'miQC\\_pass'\n",
       "\\item 'scpca\\_filter'\n",
       "\\item 'sizeFactor'\n",
       "\\item 'cluster'\n",
       "\\item 'singler\\_celltype\\_ontology'\n",
       "\\item 'singler\\_celltype\\_annotation'\n",
       "\\item 'cellassign\\_celltype\\_annotation'\n",
       "\\item 'cellassign\\_max\\_prediction'\n",
       "\\item 'diagnosis'\n",
       "\\item 'age'\n",
       "\\item 'sex'\n",
       "\\end{enumerate*}\n"
      ],
      "text/markdown": [
       "1. 'orig.ident'\n",
       "2. 'nCount_originalexp'\n",
       "3. 'nFeature_originalexp'\n",
       "4. 'barcodes'\n",
       "5. 'sum'\n",
       "6. 'detected'\n",
       "7. 'subsets_mito_sum'\n",
       "8. 'subsets_mito_detected'\n",
       "9. 'subsets_mito_percent'\n",
       "10. 'total'\n",
       "11. 'prob_compromised'\n",
       "12. 'miQC_pass'\n",
       "13. 'scpca_filter'\n",
       "14. 'sizeFactor'\n",
       "15. 'cluster'\n",
       "16. 'singler_celltype_ontology'\n",
       "17. 'singler_celltype_annotation'\n",
       "18. 'cellassign_celltype_annotation'\n",
       "19. 'cellassign_max_prediction'\n",
       "20. 'diagnosis'\n",
       "21. 'age'\n",
       "22. 'sex'\n",
       "\n",
       "\n"
      ],
      "text/plain": [
       " [1] \"orig.ident\"                     \"nCount_originalexp\"            \n",
       " [3] \"nFeature_originalexp\"           \"barcodes\"                      \n",
       " [5] \"sum\"                            \"detected\"                      \n",
       " [7] \"subsets_mito_sum\"               \"subsets_mito_detected\"         \n",
       " [9] \"subsets_mito_percent\"           \"total\"                         \n",
       "[11] \"prob_compromised\"               \"miQC_pass\"                     \n",
       "[13] \"scpca_filter\"                   \"sizeFactor\"                    \n",
       "[15] \"cluster\"                        \"singler_celltype_ontology\"     \n",
       "[17] \"singler_celltype_annotation\"    \"cellassign_celltype_annotation\"\n",
       "[19] \"cellassign_max_prediction\"      \"diagnosis\"                     \n",
       "[21] \"age\"                            \"sex\"                           "
      ]
     },
     "metadata": {},
     "output_type": "display_data"
    }
   ],
   "source": [
    "colnames(seurat_list_SCPCP000001[[name]]@meta.data)"
   ]
  },
  {
   "cell_type": "code",
   "execution_count": 31,
   "metadata": {
    "vscode": {
     "languageId": "r"
    }
   },
   "outputs": [],
   "source": [
    "qsave(seurat_list_SCPCP000001, \"./out/seurat_list_SCPCP000001.qs\")"
   ]
  }
 ],
 "metadata": {
  "kernelspec": {
   "display_name": "LeeLab_R_4.4.1",
   "language": "R",
   "name": "leelab_r_4.4.1"
  },
  "language_info": {
   "codemirror_mode": "r",
   "file_extension": ".r",
   "mimetype": "text/x-r-source",
   "name": "R",
   "pygments_lexer": "r",
   "version": "4.4.1"
  }
 },
 "nbformat": 4,
 "nbformat_minor": 4
}
