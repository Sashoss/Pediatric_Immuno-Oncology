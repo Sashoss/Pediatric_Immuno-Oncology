{
 "cells": [
  {
   "cell_type": "code",
   "execution_count": null,
   "metadata": {
    "vscode": {
     "languageId": "shellscript"
    }
   },
   "outputs": [],
   "source": [
    "find . -type f -name '#*#' -delete"
   ]
  },
  {
   "cell_type": "code",
   "execution_count": null,
   "metadata": {
    "vscode": {
     "languageId": "shellscript"
    }
   },
   "outputs": [],
   "source": [
    "module purge\n",
    "module load GCC/10.3.0\n",
    "module load OpenMPI/4.1.1\n",
    "module load GROMACS/2021.3-CUDA-11.3.1"
   ]
  },
  {
   "cell_type": "markdown",
   "metadata": {},
   "source": [
    "# 23C3-v1"
   ]
  },
  {
   "cell_type": "code",
   "execution_count": null,
   "metadata": {
    "vscode": {
     "languageId": "shellscript"
    }
   },
   "outputs": [],
   "source": [
    "sample=23C3_v1\n",
    "WORKDIR=${ANALYSIS_DIR}/in/${sample}\n",
    "cd ${WORKDIR}"
   ]
  },
  {
   "cell_type": "markdown",
   "metadata": {},
   "source": [
    "## 1.1. Minimization"
   ]
  },
  {
   "cell_type": "code",
   "execution_count": null,
   "metadata": {
    "vscode": {
     "languageId": "shellscript"
    }
   },
   "outputs": [],
   "source": [
    "init=step3_input\n",
    "mini_prefix=step4.0_minimization\n",
    "RUN_ID=\"EM\"\n",
    "./../../src/simulation_sbatch_script.sh --init_gro ${WORKDIR}/${init}.gro \\\n",
    "                                    --topol ${WORKDIR}/topol.top \\\n",
    "                                    --run_prefix ${mini_prefix} \\\n",
    "                                    --mdp ${WORKDIR}/step4.0_minimization.mdp \\\n",
    "                                    --output_dir ${WORKDIR}/../../out/${sample}/${mini_prefix} \\\n",
    "                                    --sample ${sample} \\\n",
    "                                    --workdir ${WORKDIR} \\\n",
    "                                    --lab \"gdwanglab\" \\\n",
    "                                    --job_name \"em\" \\\n",
    "                                    --run ${RUN_ID} \\\n",
    "                                    --index ${WORKDIR}/index.ndx\n",
    "                                    \n",
    "sbatch ${WORKDIR}/${sample}_${mini_prefix}_Run_${RUN_ID}.sbatch"
   ]
  },
  {
   "cell_type": "markdown",
   "metadata": {},
   "source": [
    "## 1.2. Equilibration"
   ]
  },
  {
   "cell_type": "code",
   "execution_count": null,
   "metadata": {
    "vscode": {
     "languageId": "shellscript"
    }
   },
   "outputs": [],
   "source": [
    "RUN_ID=\"NVT\"\n",
    "prod_prefix=\"md\"\n",
    "equi_prefix=step4.1_equilibration\n",
    "\n",
    "./../../src/simulation_sbatch_script.sh   --init_gro ${WORKDIR}/../../out/${sample}/${mini_prefix}/Run_EM/${mini_prefix}_EM.gro \\\n",
    "                                    --topol ${WORKDIR}/topol.top \\\n",
    "                                    --run_prefix ${equi_prefix} \\\n",
    "                                    --mdp ${WORKDIR}/step4.1_equilibration.mdp \\\n",
    "                                    --output_dir ${WORKDIR}/../../out/${sample}/${equi_prefix} \\\n",
    "                                    --sample ${sample} \\\n",
    "                                    --workdir ${WORKDIR} \\\n",
    "                                    --lab \"gdwanglab\" \\\n",
    "                                    --job_name \"equil\" \\\n",
    "                                    --run_duration \"80:00:00\" \\\n",
    "                                    --run ${RUN_ID} \\\n",
    "                                    --index ${WORKDIR}/index.ndx\n",
    "\n",
    "sbatch ${WORKDIR}/${sample}_${equi_prefix}_Run_${RUN_ID}.sbatch"
   ]
  },
  {
   "cell_type": "markdown",
   "metadata": {},
   "source": [
    "## 1.3. MD"
   ]
  },
  {
   "cell_type": "code",
   "execution_count": null,
   "metadata": {
    "vscode": {
     "languageId": "shellscript"
    }
   },
   "outputs": [],
   "source": [
    "md_prefix=\"md\"\n",
    "equi_prefix=\"step4.1_equilibration\"\n",
    "for chain in chain1 chain2 chain3\n",
    "do\n",
    "    RUN_ID=\"MD_${chain}\"\n",
    "\n",
    "    ./../../src/simulation_sbatch_script.sh \\\n",
    "        --init_gro ${WORKDIR}/../../out/${sample}/${equi_prefix}/Run_NVT/${equi_prefix}_NVT.gro \\\n",
    "        --topol ${WORKDIR}/topol.top \\\n",
    "        --run_prefix ${md_prefix} \\\n",
    "        --mdp ${WORKDIR}/step5_production.mdp \\\n",
    "        --output_dir ${WORKDIR}/../../out/${sample}/${md_prefix} \\\n",
    "        --sample ${sample} \\\n",
    "        --workdir ${WORKDIR} \\\n",
    "        --lab \"gdwanglab\" \\\n",
    "        --job_name \"md\" \\\n",
    "        --run_duration \"250:00:00\" \\\n",
    "        --run ${RUN_ID} \\\n",
    "        --index ${WORKDIR}/index.ndx\n",
    "\n",
    "    sbatch ${WORKDIR}/${sample}_${md_prefix}_Run_${RUN_ID}.sbatch\n",
    "done\n"
   ]
  },
  {
   "cell_type": "markdown",
   "metadata": {},
   "source": [
    "# 2. Hu23C3-v1"
   ]
  },
  {
   "cell_type": "code",
   "execution_count": null,
   "metadata": {
    "vscode": {
     "languageId": "shellscript"
    }
   },
   "outputs": [],
   "source": [
    "sample=Hu23C3_v1\n",
    "WORKDIR=${ANALYSIS_DIR}/in/${sample}\n",
    "cd ${WORKDIR}"
   ]
  },
  {
   "cell_type": "markdown",
   "metadata": {},
   "source": [
    "## 2.1. Minimization"
   ]
  },
  {
   "cell_type": "code",
   "execution_count": null,
   "metadata": {
    "vscode": {
     "languageId": "shellscript"
    }
   },
   "outputs": [],
   "source": [
    "init=step3_input\n",
    "mini_prefix=step4.0_minimization\n",
    "RUN_ID=\"EM\"\n",
    "./../../src/simulation_sbatch_script.sh --init_gro ${WORKDIR}/${init}.gro \\\n",
    "                                    --topol ${WORKDIR}/topol.top \\\n",
    "                                    --run_prefix ${mini_prefix} \\\n",
    "                                    --mdp ${WORKDIR}/step4.0_minimization.mdp \\\n",
    "                                    --output_dir ${WORKDIR}/../../out/${sample}/${mini_prefix} \\\n",
    "                                    --sample ${sample} \\\n",
    "                                    --workdir ${WORKDIR} \\\n",
    "                                    --lab \"gdwanglab\" \\\n",
    "                                    --job_name \"em\" \\\n",
    "                                    --run ${RUN_ID} \\\n",
    "                                    --index ${WORKDIR}/index.ndx\n",
    "\n",
    "sbatch ${WORKDIR}/${sample}_${mini_prefix}_Run_${RUN_ID}.sbatch"
   ]
  },
  {
   "cell_type": "markdown",
   "metadata": {},
   "source": [
    "## 2.2. Equilibration"
   ]
  },
  {
   "cell_type": "code",
   "execution_count": null,
   "metadata": {
    "vscode": {
     "languageId": "shellscript"
    }
   },
   "outputs": [],
   "source": [
    "RUN_ID=\"NVT\"\n",
    "equi_prefix=step4.1_equilibration\n",
    "\n",
    "./../../src/simulation_sbatch_script.sh --init_gro ${WORKDIR}/../../out/${sample}/${mini_prefix}/Run_EM/${mini_prefix}_EM.gro \\\n",
    "                                    --topol ${WORKDIR}/topol.top \\\n",
    "                                    --run_prefix ${equi_prefix} \\\n",
    "                                    --mdp ${WORKDIR}/step4.1_equilibration.mdp \\\n",
    "                                    --output_dir ${WORKDIR}/../../out/${sample}/${equi_prefix} \\\n",
    "                                    --sample ${sample} \\\n",
    "                                    --workdir ${WORKDIR} \\\n",
    "                                    --lab \"gdwanglab\" \\\n",
    "                                    --job_name \"equil\" \\\n",
    "                                    --run_duration \"80:00:00\" \\\n",
    "                                    --run ${RUN_ID} \\\n",
    "                                    --index ${WORKDIR}/index.ndx\n",
    "\n",
    "sbatch ${WORKDIR}/${sample}_${equi_prefix}_Run_${RUN_ID}.sbatch"
   ]
  },
  {
   "cell_type": "markdown",
   "metadata": {},
   "source": [
    "## 2.3. MD"
   ]
  },
  {
   "cell_type": "code",
   "execution_count": null,
   "metadata": {
    "vscode": {
     "languageId": "shellscript"
    }
   },
   "outputs": [],
   "source": [
    "md_prefix=\"md\"\n",
    "equi_prefix=\"step4.1_equilibration\"\n",
    "for chain in chain1 chain2 chain3\n",
    "do\n",
    "    RUN_ID=\"MD_${chain}\"\n",
    "\n",
    "    ./../../src/simulation_sbatch_script.sh \\\n",
    "        --init_gro ${WORKDIR}/../../out/${sample}/${equi_prefix}/Run_NVT/${equi_prefix}_NVT.gro \\\n",
    "        --topol ${WORKDIR}/topol.top \\\n",
    "        --run_prefix ${md_prefix} \\\n",
    "        --mdp ${WORKDIR}/step5_production.mdp \\\n",
    "        --cpi ${WORKDIR}/../../out/${sample}/${md_prefix}/${RUN_ID}/${md_prefix}_${RUN_ID}.cpt \\\n",
    "        --output_dir ${WORKDIR}/../../out/${sample}/${md_prefix} \\\n",
    "        --sample ${sample} \\\n",
    "        --workdir ${WORKDIR} \\\n",
    "        --lab \"gdwanglab\" \\\n",
    "        --job_name \"md\" \\\n",
    "        --run_duration \"250:00:00\" \\\n",
    "        --run ${RUN_ID} \\\n",
    "        --index ${WORKDIR}/index.ndx\n",
    "\n",
    "    sbatch ${WORKDIR}/${sample}_${md_prefix}_Run_${RUN_ID}.sbatch\n",
    "done\n"
   ]
  },
  {
   "cell_type": "markdown",
   "metadata": {},
   "source": [
    "## Analysis"
   ]
  },
  {
   "cell_type": "code",
   "execution_count": null,
   "metadata": {
    "vscode": {
     "languageId": "shellscript"
    }
   },
   "outputs": [],
   "source": [
    "module purge\n",
    "module load GCC/10.3.0\n",
    "module load OpenMPI/4.1.1\n",
    "module load GROMACS/2021.3-CUDA-11.3.1"
   ]
  },
  {
   "cell_type": "code",
   "execution_count": null,
   "metadata": {
    "vscode": {
     "languageId": "shellscript"
    }
   },
   "outputs": [],
   "source": [
    "WORKDIR=/gpfs0/home1/gdwanglab/axk201/personal_projects/Pediatric_glioblastoma_singelcell/Notebook/Step17_Antibody_Molecular_Dynamics\n",
    "cd ${WORKDIR}\n",
    "find . -type f -name '#*#' -delete"
   ]
  },
  {
   "cell_type": "markdown",
   "metadata": {},
   "source": [
    "### Center the trajectory"
   ]
  },
  {
   "cell_type": "code",
   "execution_count": null,
   "metadata": {
    "vscode": {
     "languageId": "shellscript"
    }
   },
   "outputs": [],
   "source": [
    "for sample in 23C3_v1 Hu23C3_v1\n",
    "do\n",
    "    for md_chain in chain1 chain2 chain3\n",
    "    do\n",
    "        echo 0 0 | gmx trjconv \\\n",
    "            -f ${WORKDIR}/out/${sample}/md/Run_MD_${md_chain}/md_MD_${md_chain}.xtc \\\n",
    "            -s ${WORKDIR}/out/${sample}/md/Run_MD_${md_chain}/md_MD_${md_chain}.tpr \\\n",
    "            -o ${WORKDIR}/out/${sample}/md/Run_MD_${md_chain}/centered.xtc \\\n",
    "            -pbc mol \\\n",
    "            -skip 50 \\\n",
    "            -ur compact -center\n",
    "    done\n",
    "done\n"
   ]
  },
  {
   "cell_type": "markdown",
   "metadata": {},
   "source": [
    "### Create index for protein chains"
   ]
  },
  {
   "cell_type": "code",
   "execution_count": null,
   "metadata": {
    "vscode": {
     "languageId": "shellscript"
    }
   },
   "outputs": [],
   "source": [
    "printf \"1 & a 1-4741\\nname 16 SPP1\\n1 & a 4742-8031\\nname 17 Heavy\\n1 & a 8032-11292\\nname 18 Light\\nq\\n\" | gmx make_ndx -f ./out/23C3_v1/md/Run_MD_chain1/md_MD_chain1.tpr -o ./in/23C3_v1/index_prot_chains.ndx\n",
    "printf \"1 & a 1-4741\\nname 16 SPP1\\n1 & a 4742-8047\\nname 17 Heavy\\n1 & a 8048-11317\\nname 18 Light\\nq\\n\" | gmx make_ndx -f ./out/Hu23C3_v1/md/Run_MD_chain1/md_MD_chain1.tpr -o ./in/Hu23C3_v1/index_prot_chains.ndx"
   ]
  },
  {
   "cell_type": "code",
   "execution_count": null,
   "metadata": {
    "vscode": {
     "languageId": "shellscript"
    }
   },
   "outputs": [],
   "source": [
    "for sample in 23C3_v1 Hu23C3_v1\n",
    "do\n",
    "    for md_chain in chain1 chain2 chain3\n",
    "    do\n",
    "        for prot_chain in 16 17 18\n",
    "        do \n",
    "            case $prot_chain in\n",
    "                16) chain_name=\"SPP1\" ;;\n",
    "                17) chain_name=\"Heavy\" ;;\n",
    "                18) chain_name=\"Light\" ;;\n",
    "            esac\n",
    "\n",
    "            echo ${prot_chain} | gmx rmsf \\\n",
    "                -s ${WORKDIR}/out/${sample}/md/Run_MD_${md_chain}/md_MD_${md_chain}.tpr \\\n",
    "                -f ${WORKDIR}/out/${sample}/md/Run_MD_${md_chain}/centered.xtc \\\n",
    "                -n ${WORKDIR}/in/${sample}/index_prot_chains.ndx -res \\\n",
    "                -e 50000 \\\n",
    "                -o ${WORKDIR}/out/${sample}/md/Run_MD_${md_chain}/rmsf_${sample}_${md_chain}_${chain_name}.xvg\n",
    "        done\n",
    "    done\n",
    "done\n"
   ]
  }
 ],
 "metadata": {
  "kernelspec": {
   "display_name": "Bash",
   "language": "bash",
   "name": "bash"
  },
  "language_info": {
   "codemirror_mode": "shell",
   "file_extension": ".sh",
   "mimetype": "text/x-sh",
   "name": "bash"
  }
 },
 "nbformat": 4,
 "nbformat_minor": 2
}
