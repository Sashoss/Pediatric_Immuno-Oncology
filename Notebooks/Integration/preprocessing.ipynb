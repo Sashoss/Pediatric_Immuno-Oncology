{
 "cells": [
  {
   "cell_type": "code",
   "execution_count": 1,
   "metadata": {
    "vscode": {
     "languageId": "r"
    }
   },
   "outputs": [
    {
     "name": "stderr",
     "output_type": "stream",
     "text": [
      "Loading required package: SeuratObject\n",
      "\n",
      "Loading required package: sp\n",
      "\n",
      "'SeuratObject' was built with package 'Matrix' 1.7.0 but the current\n",
      "version is 1.7.1; it is recomended that you reinstall 'SeuratObject' as\n",
      "the ABI for 'Matrix' may have changed\n",
      "\n",
      "\n",
      "Attaching package: 'SeuratObject'\n",
      "\n",
      "\n",
      "The following objects are masked from 'package:base':\n",
      "\n",
      "    intersect, t\n",
      "\n",
      "\n"
     ]
    }
   ],
   "source": [
    "library(Seurat)"
   ]
  },
  {
   "cell_type": "code",
   "execution_count": 2,
   "metadata": {
    "vscode": {
     "languageId": "r"
    }
   },
   "outputs": [
    {
     "name": "stdout",
     "output_type": "stream",
     "text": [
      " [1] \"./../Doublet_Detection/out/GSM8375832_GBM1_L_doublets.rds\"\n",
      " [2] \"./../Doublet_Detection/out/GSM8375833_GBM3_Y_doublets.rds\"\n",
      " [3] \"./../Doublet_Detection/out/GSM8375834_GBM4_W_doublets.rds\"\n",
      " [4] \"./../Doublet_Detection/out/GSM8375835_GBM5_L_doublets.rds\"\n",
      " [5] \"./../Doublet_Detection/out/GSM8375836_GBM6_X_doublets.rds\"\n",
      " [6] \"./../Doublet_Detection/out/SCPCS000002_doublets.rds\"      \n",
      " [7] \"./../Doublet_Detection/out/SCPCS000003_doublets.rds\"      \n",
      " [8] \"./../Doublet_Detection/out/SCPCS000006_doublets.rds\"      \n",
      " [9] \"./../Doublet_Detection/out/SCPCS000007_doublets.rds\"      \n",
      "[10] \"./../Doublet_Detection/out/SCPCS000008_doublets.rds\"      \n",
      "[11] \"./../Doublet_Detection/out/SCPCS000009_doublets.rds\"      \n",
      "[12] \"./../Doublet_Detection/out/SCPCS000010_doublets.rds\"      \n",
      "[13] \"./../Doublet_Detection/out/SCPCS000013_doublets.rds\"      \n",
      "[14] \"./../Doublet_Detection/out/SCPCS000014_doublets.rds\"      \n",
      "[15] \"./../Doublet_Detection/out/SCPCS000015_doublets.rds\"      \n",
      "[16] \"./../Doublet_Detection/out/SCPCS000017_doublets.rds\"      \n",
      "[17] \"./../Doublet_Detection/out/SCPCS000018_doublets.rds\"      \n",
      "[18] \"./../Doublet_Detection/out/SCPCS000019_doublets.rds\"      \n",
      "[19] \"./../Doublet_Detection/out/SCPCS000020_doublets.rds\"      \n",
      "[20] \"./../Doublet_Detection/out/SCPCS000022_doublets.rds\"      \n",
      "[21] \"./../Doublet_Detection/out/SCPCS000023_doublets.rds\"      \n",
      " Glioblastoma \n",
      " Glioblastoma \n",
      " Glioblastoma \n",
      " Glioblastoma \n",
      " Glioblastoma \n",
      " Glioblastoma \n",
      " Glioblastoma \n",
      " Glioblastoma \n",
      " Glioblastoma \n",
      " Glioblastoma \n",
      " Glioblastoma \n",
      " Glioblastoma \n",
      " Glioblastoma \n",
      " Glioblastoma \n",
      " Glioblastoma \n",
      " Glioblastoma \n",
      " Glioblastoma \n",
      " Glioblastoma \n",
      " Glioblastoma \n",
      " Glioblastoma \n",
      " Glioblastoma \n"
     ]
    }
   ],
   "source": [
    "#read all the files back fromt the disk\n",
    "files <- list.files(\"./../Doublet_Detection/out\", pattern = \"_doublets.rds\", full.names = T)\n",
    "print(files)\n",
    "data <- list()\n",
    "for (i in 1:length(files)) {\n",
    "  seurat_temp <- readRDS(files[i])\n",
    "  cat(names(files)[[i]], unique(seurat_temp@meta.data$diagnosis), \"\\n\")\n",
    "  data[[i]]<- seurat_temp\n",
    "}"
   ]
  },
  {
   "cell_type": "code",
   "execution_count": 3,
   "metadata": {
    "vscode": {
     "languageId": "r"
    }
   },
   "outputs": [],
   "source": [
    "data_names <- basename(files)\n",
    "data_names <- gsub(\"_doublets.rds\", \"\", data_names)\n",
    "data_names <- gsub(\"^\\\\d+-\", \"\", data_names)\n",
    "names(data) <- data_names"
   ]
  },
  {
   "cell_type": "code",
   "execution_count": 4,
   "metadata": {
    "vscode": {
     "languageId": "r"
    }
   },
   "outputs": [
    {
     "name": "stdout",
     "output_type": "stream",
     "text": [
      "[1] \"-----------------------------------------------\"\n",
      "[1] \"GSM8375832_GBM1_L\"\n",
      "[1] \"Glioblastoma\"\n",
      "[1] \"-----------------------------------------------\"\n",
      "[1] \"GSM8375833_GBM3_Y\"\n",
      "[1] \"Glioblastoma\"\n",
      "[1] \"-----------------------------------------------\"\n",
      "[1] \"GSM8375834_GBM4_W\"\n",
      "[1] \"Glioblastoma\"\n",
      "[1] \"-----------------------------------------------\"\n",
      "[1] \"GSM8375835_GBM5_L\"\n",
      "[1] \"Glioblastoma\"\n",
      "[1] \"-----------------------------------------------\"\n",
      "[1] \"GSM8375836_GBM6_X\"\n",
      "[1] \"Glioblastoma\"\n",
      "[1] \"-----------------------------------------------\"\n",
      "[1] \"SCPCS000002\"\n",
      "[1] \"Glioblastoma\"\n",
      "[1] \"-----------------------------------------------\"\n",
      "[1] \"SCPCS000003\"\n",
      "[1] \"Glioblastoma\"\n",
      "[1] \"-----------------------------------------------\"\n",
      "[1] \"SCPCS000006\"\n",
      "[1] \"Glioblastoma\"\n",
      "[1] \"-----------------------------------------------\"\n",
      "[1] \"SCPCS000007\"\n",
      "[1] \"Glioblastoma\"\n",
      "[1] \"-----------------------------------------------\"\n",
      "[1] \"SCPCS000008\"\n",
      "[1] \"Glioblastoma\"\n",
      "[1] \"-----------------------------------------------\"\n",
      "[1] \"SCPCS000009\"\n",
      "[1] \"Glioblastoma\"\n",
      "[1] \"-----------------------------------------------\"\n",
      "[1] \"SCPCS000010\"\n",
      "[1] \"Glioblastoma\"\n",
      "[1] \"-----------------------------------------------\"\n",
      "[1] \"SCPCS000013\"\n",
      "[1] \"Glioblastoma\"\n",
      "[1] \"-----------------------------------------------\"\n",
      "[1] \"SCPCS000014\"\n",
      "[1] \"Glioblastoma\"\n",
      "[1] \"-----------------------------------------------\"\n",
      "[1] \"SCPCS000015\"\n",
      "[1] \"Glioblastoma\"\n",
      "[1] \"-----------------------------------------------\"\n",
      "[1] \"SCPCS000017\"\n",
      "[1] \"Glioblastoma\"\n",
      "[1] \"-----------------------------------------------\"\n",
      "[1] \"SCPCS000018\"\n",
      "[1] \"Glioblastoma\"\n",
      "[1] \"-----------------------------------------------\"\n",
      "[1] \"SCPCS000019\"\n",
      "[1] \"Glioblastoma\"\n",
      "[1] \"-----------------------------------------------\"\n",
      "[1] \"SCPCS000020\"\n",
      "[1] \"Glioblastoma\"\n",
      "[1] \"-----------------------------------------------\"\n",
      "[1] \"SCPCS000022\"\n",
      "[1] \"Glioblastoma\"\n",
      "[1] \"-----------------------------------------------\"\n",
      "[1] \"SCPCS000023\"\n",
      "[1] \"Glioblastoma\"\n"
     ]
    }
   ],
   "source": [
    "for (name in names(data)) {\n",
    "    # Filter out doublets\n",
    "    print(\"-----------------------------------------------\")\n",
    "    data[[name]] <- subset(data[[name]], subset = doublet_label == \"Singlet\")\n",
    "    print(name)\n",
    "    print(unique(data[[name]]@meta.data$diagnosis))\n",
    "}"
   ]
  },
  {
   "cell_type": "code",
   "execution_count": 6,
   "metadata": {
    "vscode": {
     "languageId": "r"
    }
   },
   "outputs": [
    {
     "name": "stdout",
     "output_type": "stream",
     "text": [
      "[1] \"-----------------------------\"\n",
      "[1] \"GSM8375832_GBM1_L\"\n",
      "[1] \"Glioblastoma\"\n",
      "[1] \"Glioblastoma\"\n",
      "[1] \"-----------------------------\"\n",
      "[1] \"GSM8375833_GBM3_Y\"\n",
      "[1] \"Glioblastoma\"\n",
      "[1] \"Glioblastoma\"\n",
      "[1] \"-----------------------------\"\n",
      "[1] \"GSM8375834_GBM4_W\"\n",
      "[1] \"Glioblastoma\"\n",
      "[1] \"Glioblastoma\"\n",
      "[1] \"-----------------------------\"\n",
      "[1] \"GSM8375835_GBM5_L\"\n",
      "[1] \"Glioblastoma\"\n",
      "[1] \"Glioblastoma\"\n",
      "[1] \"-----------------------------\"\n",
      "[1] \"GSM8375836_GBM6_X\"\n",
      "[1] \"Glioblastoma\"\n",
      "[1] \"Glioblastoma\"\n",
      "[1] \"-----------------------------\"\n",
      "[1] \"SCPCS000002\"\n",
      "[1] \"Glioblastoma\"\n",
      "[1] \"Glioblastoma\"\n",
      "[1] \"-----------------------------\"\n",
      "[1] \"SCPCS000003\"\n",
      "[1] \"Glioblastoma\"\n",
      "[1] \"Glioblastoma\"\n",
      "[1] \"-----------------------------\"\n",
      "[1] \"SCPCS000006\"\n",
      "[1] \"Glioblastoma\"\n",
      "[1] \"Glioblastoma\"\n",
      "[1] \"-----------------------------\"\n",
      "[1] \"SCPCS000007\"\n",
      "[1] \"Glioblastoma\"\n",
      "[1] \"Glioblastoma\"\n",
      "[1] \"-----------------------------\"\n",
      "[1] \"SCPCS000008\"\n",
      "[1] \"Glioblastoma\"\n",
      "[1] \"Glioblastoma\"\n",
      "[1] \"-----------------------------\"\n",
      "[1] \"SCPCS000009\"\n",
      "[1] \"Glioblastoma\"\n",
      "[1] \"Glioblastoma\"\n",
      "[1] \"-----------------------------\"\n",
      "[1] \"SCPCS000010\"\n",
      "[1] \"Glioblastoma\"\n",
      "[1] \"Glioblastoma\"\n",
      "[1] \"-----------------------------\"\n",
      "[1] \"SCPCS000013\"\n",
      "[1] \"Glioblastoma\"\n",
      "[1] \"Glioblastoma\"\n",
      "[1] \"-----------------------------\"\n",
      "[1] \"SCPCS000014\"\n",
      "[1] \"Glioblastoma\"\n",
      "[1] \"Glioblastoma\"\n",
      "[1] \"-----------------------------\"\n",
      "[1] \"SCPCS000015\"\n",
      "[1] \"Glioblastoma\"\n",
      "[1] \"Glioblastoma\"\n",
      "[1] \"-----------------------------\"\n",
      "[1] \"SCPCS000017\"\n",
      "[1] \"Glioblastoma\"\n",
      "[1] \"Glioblastoma\"\n",
      "[1] \"-----------------------------\"\n",
      "[1] \"SCPCS000018\"\n",
      "[1] \"Glioblastoma\"\n",
      "[1] \"Glioblastoma\"\n",
      "[1] \"-----------------------------\"\n",
      "[1] \"SCPCS000019\"\n",
      "[1] \"Glioblastoma\"\n",
      "[1] \"Glioblastoma\"\n",
      "[1] \"-----------------------------\"\n",
      "[1] \"SCPCS000020\"\n",
      "[1] \"Glioblastoma\"\n",
      "[1] \"Glioblastoma\"\n",
      "[1] \"-----------------------------\"\n",
      "[1] \"SCPCS000022\"\n",
      "[1] \"Glioblastoma\"\n",
      "[1] \"Glioblastoma\"\n",
      "[1] \"-----------------------------\"\n",
      "[1] \"SCPCS000023\"\n",
      "[1] \"Glioblastoma\"\n",
      "[1] \"Glioblastoma\"\n"
     ]
    }
   ],
   "source": [
    "for (name in names(data)) {\n",
    "   print(\"-----------------------------\")\n",
    "   print(name)\n",
    "   print(unique(data[[name]]@meta.data$diagnosis))\n",
    "   data[[name]][[\"percent.mt\"]] <- PercentageFeatureSet(data[[name]], pattern = \"^MT-\")\n",
    "   print(unique(data[[i]]@meta.data$diagnosis))\n",
    "}"
   ]
  },
  {
   "cell_type": "markdown",
   "metadata": {},
   "source": [
    "Mito percentge  is zero for all celss indicating that authors have already removed all cells with Mito percentage != 0"
   ]
  },
  {
   "cell_type": "code",
   "execution_count": 7,
   "metadata": {
    "vscode": {
     "languageId": "r"
    }
   },
   "outputs": [
    {
     "name": "stdout",
     "output_type": "stream",
     "text": [
      "[1] \"Glioblastoma\"\n",
      "[1] \"Glioblastoma\"\n",
      "[1] \"Glioblastoma\"\n",
      "[1] \"Glioblastoma\"\n",
      "[1] \"Glioblastoma\"\n",
      "[1] \"Glioblastoma\"\n",
      "[1] \"Glioblastoma\"\n",
      "[1] \"Glioblastoma\"\n",
      "[1] \"Glioblastoma\"\n",
      "[1] \"Glioblastoma\"\n",
      "[1] \"Glioblastoma\"\n",
      "[1] \"Glioblastoma\"\n",
      "[1] \"Glioblastoma\"\n",
      "[1] \"Glioblastoma\"\n",
      "[1] \"Glioblastoma\"\n",
      "[1] \"Glioblastoma\"\n",
      "[1] \"Glioblastoma\"\n",
      "[1] \"Glioblastoma\"\n",
      "[1] \"Glioblastoma\"\n",
      "[1] \"Glioblastoma\"\n",
      "[1] \"Glioblastoma\"\n"
     ]
    }
   ],
   "source": [
    "clean_data <- list()\n",
    "for (i in 1:length(data)) {\n",
    "   clean_data[[i]] <- subset(data[[i]], subset = nFeature_RNA > 500 & percent.mt < 20)\n",
    "   clean_data[[i]] <- data[[i]]\n",
    "   print(unique(clean_data[[i]]@meta.data$diagnosis))\n",
    "}\n",
    "\n",
    "names(clean_data) <- data_names"
   ]
  },
  {
   "cell_type": "code",
   "execution_count": 8,
   "metadata": {
    "vscode": {
     "languageId": "r"
    }
   },
   "outputs": [],
   "source": [
    "\n",
    "saveRDS(clean_data, file.path(dir = \"out\", filename = \"clean_data.rds\")) \n"
   ]
  }
 ],
 "metadata": {
  "kernelspec": {
   "display_name": "R",
   "language": "R",
   "name": "ir"
  },
  "language_info": {
   "codemirror_mode": "r",
   "file_extension": ".r",
   "mimetype": "text/x-r-source",
   "name": "R",
   "pygments_lexer": "r",
   "version": "4.4.0"
  }
 },
 "nbformat": 4,
 "nbformat_minor": 2
}
