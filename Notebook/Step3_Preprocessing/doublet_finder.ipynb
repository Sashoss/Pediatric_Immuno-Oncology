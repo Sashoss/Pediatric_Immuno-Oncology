{
 "cells": [
  {
   "cell_type": "code",
   "execution_count": 1,
   "metadata": {
    "vscode": {
     "languageId": "r"
    }
   },
   "outputs": [],
   "source": [
    "source(\"../Utility/doublets.r\")\n",
    "source(\"../Utility/seurat_tools.r\")"
   ]
  },
  {
   "cell_type": "code",
   "execution_count": 2,
   "metadata": {
    "vscode": {
     "languageId": "r"
    }
   },
   "outputs": [
    {
     "name": "stderr",
     "output_type": "stream",
     "text": [
      "qs 0.27.2. Announcement: https://github.com/qsbase/qs/issues/103\n",
      "\n"
     ]
    }
   ],
   "source": [
    "library(parallel)\n",
    "library(ggplot2)\n",
    "library(qs)"
   ]
  },
  {
   "cell_type": "markdown",
   "metadata": {},
   "source": [
    "### My custom doublet finder function"
   ]
  },
  {
   "cell_type": "code",
   "execution_count": 3,
   "metadata": {
    "vscode": {
     "languageId": "r"
    }
   },
   "outputs": [
    {
     "data": {
      "text/html": [
       "<pre class=language-r><code>function (seuratObj, min_pc, doublet_rate = 0.075, pN = 0.25, \n",
       "<span style=white-space:pre-wrap>    res = 0.05, n_cores = 1) </span>\n",
       "{\n",
       "<span style=white-space:pre-wrap>    seuratObj &lt;- NormalizeData(seuratObj)</span>\n",
       "<span style=white-space:pre-wrap>    seuratObj &lt;- FindVariableFeatures(seuratObj)</span>\n",
       "<span style=white-space:pre-wrap>    seuratObj &lt;- ScaleData(seuratObj)</span>\n",
       "<span style=white-space:pre-wrap>    seuratObj &lt;- RunPCA(seuratObj, npcs = min_pc, features = VariableFeatures(seuratObj))</span>\n",
       "<span style=white-space:pre-wrap>    seuratObj &lt;- RunUMAP(seuratObj, dims = 1:min_pc)</span>\n",
       "<span style=white-space:pre-wrap>    seuratObj &lt;- FindNeighbors(seuratObj, dims = 1:min_pc)</span>\n",
       "<span style=white-space:pre-wrap>    seuratObj &lt;- FindClusters(seuratObj, resolution = res)</span>\n",
       "<span style=white-space:pre-wrap>    sweep.list &lt;- paramSweep(seuratObj, PCs = 1:min_pc, num.cores = n_cores)</span>\n",
       "<span style=white-space:pre-wrap>    sweep.stats &lt;- summarizeSweep(sweep.list)</span>\n",
       "<span style=white-space:pre-wrap>    bcmvn &lt;- find.pK(sweep.stats)</span>\n",
       "<span style=white-space:pre-wrap>    bcmvn_max &lt;- bcmvn[which.max(bcmvn$BCmetric), ]</span>\n",
       "<span style=white-space:pre-wrap>    optimal_pk &lt;- as.numeric(as.character(bcmvn_max$pK))</span>\n",
       "<span style=white-space:pre-wrap>    annotations &lt;- seuratObj@meta.data$seurat_clusters</span>\n",
       "<span style=white-space:pre-wrap>    homotypic_prop &lt;- modelHomotypic(annotations)</span>\n",
       "<span style=white-space:pre-wrap>    nExp_poi &lt;- round(doublet_rate * nrow(seuratObj@meta.data))</span>\n",
       "<span style=white-space:pre-wrap>    nExp_poi_adj &lt;- max(0, round(nExp_poi * (1 - homotypic_prop)))</span>\n",
       "<span style=white-space:pre-wrap>    seuratObj &lt;- doubletFinder(seu = seuratObj, PCs = 1:min_pc, </span>\n",
       "<span style=white-space:pre-wrap>        pN = pN, pK = optimal_pk, nExp = nExp_poi_adj)</span>\n",
       "<span style=white-space:pre-wrap>    seuratObj@meta.data &lt;- seuratObj@meta.data %&gt;% rename_with(~paste0(\"DFC_\", </span>\n",
       "<span style=white-space:pre-wrap>        seq_along(.)), matches(\"^DF.classifications\")) %&gt;% rename_with(~paste0(\"pANN_\", </span>\n",
       "<span style=white-space:pre-wrap>        seq_along(.)), matches(\"^pANN_\"))</span>\n",
       "<span style=white-space:pre-wrap>    return(seuratObj)</span>\n",
       "}</code></pre>"
      ],
      "text/latex": [
       "\\begin{minted}{r}\n",
       "function (seuratObj, min\\_pc, doublet\\_rate = 0.075, pN = 0.25, \n",
       "    res = 0.05, n\\_cores = 1) \n",
       "\\{\n",
       "    seuratObj <- NormalizeData(seuratObj)\n",
       "    seuratObj <- FindVariableFeatures(seuratObj)\n",
       "    seuratObj <- ScaleData(seuratObj)\n",
       "    seuratObj <- RunPCA(seuratObj, npcs = min\\_pc, features = VariableFeatures(seuratObj))\n",
       "    seuratObj <- RunUMAP(seuratObj, dims = 1:min\\_pc)\n",
       "    seuratObj <- FindNeighbors(seuratObj, dims = 1:min\\_pc)\n",
       "    seuratObj <- FindClusters(seuratObj, resolution = res)\n",
       "    sweep.list <- paramSweep(seuratObj, PCs = 1:min\\_pc, num.cores = n\\_cores)\n",
       "    sweep.stats <- summarizeSweep(sweep.list)\n",
       "    bcmvn <- find.pK(sweep.stats)\n",
       "    bcmvn\\_max <- bcmvn{[}which.max(bcmvn\\$BCmetric), {]}\n",
       "    optimal\\_pk <- as.numeric(as.character(bcmvn\\_max\\$pK))\n",
       "    annotations <- seuratObj@meta.data\\$seurat\\_clusters\n",
       "    homotypic\\_prop <- modelHomotypic(annotations)\n",
       "    nExp\\_poi <- round(doublet\\_rate * nrow(seuratObj@meta.data))\n",
       "    nExp\\_poi\\_adj <- max(0, round(nExp\\_poi * (1 - homotypic\\_prop)))\n",
       "    seuratObj <- doubletFinder(seu = seuratObj, PCs = 1:min\\_pc, \n",
       "        pN = pN, pK = optimal\\_pk, nExp = nExp\\_poi\\_adj)\n",
       "    seuratObj@meta.data <- seuratObj@meta.data \\%>\\% rename\\_with(\\textasciitilde{}paste0(\"DFC\\_\", \n",
       "        seq\\_along(.)), matches(\"\\textasciicircum{}DF.classifications\")) \\%>\\% rename\\_with(\\textasciitilde{}paste0(\"pANN\\_\", \n",
       "        seq\\_along(.)), matches(\"\\textasciicircum{}pANN\\_\"))\n",
       "    return(seuratObj)\n",
       "\\}\n",
       "\\end{minted}"
      ],
      "text/markdown": [
       "```r\n",
       "function (seuratObj, min_pc, doublet_rate = 0.075, pN = 0.25, \n",
       "    res = 0.05, n_cores = 1) \n",
       "{\n",
       "    seuratObj <- NormalizeData(seuratObj)\n",
       "    seuratObj <- FindVariableFeatures(seuratObj)\n",
       "    seuratObj <- ScaleData(seuratObj)\n",
       "    seuratObj <- RunPCA(seuratObj, npcs = min_pc, features = VariableFeatures(seuratObj))\n",
       "    seuratObj <- RunUMAP(seuratObj, dims = 1:min_pc)\n",
       "    seuratObj <- FindNeighbors(seuratObj, dims = 1:min_pc)\n",
       "    seuratObj <- FindClusters(seuratObj, resolution = res)\n",
       "    sweep.list <- paramSweep(seuratObj, PCs = 1:min_pc, num.cores = n_cores)\n",
       "    sweep.stats <- summarizeSweep(sweep.list)\n",
       "    bcmvn <- find.pK(sweep.stats)\n",
       "    bcmvn_max <- bcmvn[which.max(bcmvn$BCmetric), ]\n",
       "    optimal_pk <- as.numeric(as.character(bcmvn_max$pK))\n",
       "    annotations <- seuratObj@meta.data$seurat_clusters\n",
       "    homotypic_prop <- modelHomotypic(annotations)\n",
       "    nExp_poi <- round(doublet_rate * nrow(seuratObj@meta.data))\n",
       "    nExp_poi_adj <- max(0, round(nExp_poi * (1 - homotypic_prop)))\n",
       "    seuratObj <- doubletFinder(seu = seuratObj, PCs = 1:min_pc, \n",
       "        pN = pN, pK = optimal_pk, nExp = nExp_poi_adj)\n",
       "    seuratObj@meta.data <- seuratObj@meta.data %>% rename_with(~paste0(\"DFC_\", \n",
       "        seq_along(.)), matches(\"^DF.classifications\")) %>% rename_with(~paste0(\"pANN_\", \n",
       "        seq_along(.)), matches(\"^pANN_\"))\n",
       "    return(seuratObj)\n",
       "}\n",
       "```"
      ],
      "text/plain": [
       "function (seuratObj, min_pc, doublet_rate = 0.075, pN = 0.25, \n",
       "    res = 0.05, n_cores = 1) \n",
       "{\n",
       "    seuratObj <- NormalizeData(seuratObj)\n",
       "    seuratObj <- FindVariableFeatures(seuratObj)\n",
       "    seuratObj <- ScaleData(seuratObj)\n",
       "    seuratObj <- RunPCA(seuratObj, npcs = min_pc, features = VariableFeatures(seuratObj))\n",
       "    seuratObj <- RunUMAP(seuratObj, dims = 1:min_pc)\n",
       "    seuratObj <- FindNeighbors(seuratObj, dims = 1:min_pc)\n",
       "    seuratObj <- FindClusters(seuratObj, resolution = res)\n",
       "    sweep.list <- paramSweep(seuratObj, PCs = 1:min_pc, num.cores = n_cores)\n",
       "    sweep.stats <- summarizeSweep(sweep.list)\n",
       "    bcmvn <- find.pK(sweep.stats)\n",
       "    bcmvn_max <- bcmvn[which.max(bcmvn$BCmetric), ]\n",
       "    optimal_pk <- as.numeric(as.character(bcmvn_max$pK))\n",
       "    annotations <- seuratObj@meta.data$seurat_clusters\n",
       "    homotypic_prop <- modelHomotypic(annotations)\n",
       "    nExp_poi <- round(doublet_rate * nrow(seuratObj@meta.data))\n",
       "    nExp_poi_adj <- max(0, round(nExp_poi * (1 - homotypic_prop)))\n",
       "    seuratObj <- doubletFinder(seu = seuratObj, PCs = 1:min_pc, \n",
       "        pN = pN, pK = optimal_pk, nExp = nExp_poi_adj)\n",
       "    seuratObj@meta.data <- seuratObj@meta.data %>% rename_with(~paste0(\"DFC_\", \n",
       "        seq_along(.)), matches(\"^DF.classifications\")) %>% rename_with(~paste0(\"pANN_\", \n",
       "        seq_along(.)), matches(\"^pANN_\"))\n",
       "    return(seuratObj)\n",
       "}"
      ]
     },
     "metadata": {},
     "output_type": "display_data"
    }
   ],
   "source": [
    "View(callDoubletFinder)"
   ]
  },
  {
   "cell_type": "markdown",
   "metadata": {},
   "source": [
    "### Load all samples count data"
   ]
  },
  {
   "cell_type": "code",
   "execution_count": 5,
   "metadata": {
    "vscode": {
     "languageId": "r"
    }
   },
   "outputs": [],
   "source": [
    "seurat_list <- qread(\"../Step2_Generate_Seurat_Object/out/seurat_list_SCPCP000001.qs\")"
   ]
  },
  {
   "cell_type": "markdown",
   "metadata": {},
   "source": [
    "### Apply doublet finder on each sample"
   ]
  },
  {
   "cell_type": "code",
   "execution_count": null,
   "metadata": {
    "vscode": {
     "languageId": "r"
    }
   },
   "outputs": [],
   "source": [
    "sink(\"./out/log_file_doubletFinder.txt\", append = FALSE)\n",
    "seurat_list_doublets <- list()\n",
    "for (sample_name in names(seurat_list)) {\n",
    "    clean_seurat_object <- clean_seurat(seurat_list[[sample_name]])\n",
    "    seurat_list[[sample_name]] <- suppressMessages(\n",
    "                                                suppressWarnings(\n",
    "                                                    callDoubletFinder(\n",
    "                                                                clean_seurat_object, \n",
    "                                                                min_pc=30, \n",
    "                                                                doublet_rate=0.075, \n",
    "                                                                pN=0.25, \n",
    "                                                                res=0.5, \n",
    "                                                                n_cores=20\n",
    "                                                    )\n",
    "                                            )\n",
    "    )\n",
    "} \n",
    "sink()"
   ]
  },
  {
   "cell_type": "markdown",
   "metadata": {},
   "source": [
    "### Save output for downstream analysis"
   ]
  },
  {
   "cell_type": "code",
   "execution_count": 7,
   "metadata": {
    "vscode": {
     "languageId": "r"
    }
   },
   "outputs": [],
   "source": [
    "qsave(seurat_list, file = \"./out/seurat_list_doublets_SCPCP000001.qs\")"
   ]
  },
  {
   "cell_type": "code",
   "execution_count": 8,
   "metadata": {
    "vscode": {
     "languageId": "r"
    }
   },
   "outputs": [
    {
     "data": {
      "text/html": [
       "<style>\n",
       ".list-inline {list-style: none; margin:0; padding: 0}\n",
       ".list-inline>li {display: inline-block}\n",
       ".list-inline>li:not(:last-child)::after {content: \"\\00b7\"; padding: 0 .5ex}\n",
       "</style>\n",
       "<ol class=list-inline><li>'SCPCL000002'</li><li>'SCPCL000003'</li><li>'SCPCL000004'</li><li>'SCPCL000006'</li><li>'SCPCL000007'</li><li>'SCPCL000008'</li><li>'SCPCL000009'</li><li>'SCPCL000010'</li><li>'SCPCL000011'</li><li>'SCPCL000013'</li><li>'SCPCL000014'</li><li>'SCPCL000015'</li><li>'SCPCL000017'</li><li>'SCPCL000018'</li><li>'SCPCL000019'</li><li>'SCPCL000020'</li><li>'SCPCL000021'</li><li>'SCPCL000022'</li><li>'SCPCL000023'</li></ol>\n"
      ],
      "text/latex": [
       "\\begin{enumerate*}\n",
       "\\item 'SCPCL000002'\n",
       "\\item 'SCPCL000003'\n",
       "\\item 'SCPCL000004'\n",
       "\\item 'SCPCL000006'\n",
       "\\item 'SCPCL000007'\n",
       "\\item 'SCPCL000008'\n",
       "\\item 'SCPCL000009'\n",
       "\\item 'SCPCL000010'\n",
       "\\item 'SCPCL000011'\n",
       "\\item 'SCPCL000013'\n",
       "\\item 'SCPCL000014'\n",
       "\\item 'SCPCL000015'\n",
       "\\item 'SCPCL000017'\n",
       "\\item 'SCPCL000018'\n",
       "\\item 'SCPCL000019'\n",
       "\\item 'SCPCL000020'\n",
       "\\item 'SCPCL000021'\n",
       "\\item 'SCPCL000022'\n",
       "\\item 'SCPCL000023'\n",
       "\\end{enumerate*}\n"
      ],
      "text/markdown": [
       "1. 'SCPCL000002'\n",
       "2. 'SCPCL000003'\n",
       "3. 'SCPCL000004'\n",
       "4. 'SCPCL000006'\n",
       "5. 'SCPCL000007'\n",
       "6. 'SCPCL000008'\n",
       "7. 'SCPCL000009'\n",
       "8. 'SCPCL000010'\n",
       "9. 'SCPCL000011'\n",
       "10. 'SCPCL000013'\n",
       "11. 'SCPCL000014'\n",
       "12. 'SCPCL000015'\n",
       "13. 'SCPCL000017'\n",
       "14. 'SCPCL000018'\n",
       "15. 'SCPCL000019'\n",
       "16. 'SCPCL000020'\n",
       "17. 'SCPCL000021'\n",
       "18. 'SCPCL000022'\n",
       "19. 'SCPCL000023'\n",
       "\n",
       "\n"
      ],
      "text/plain": [
       " [1] \"SCPCL000002\" \"SCPCL000003\" \"SCPCL000004\" \"SCPCL000006\" \"SCPCL000007\"\n",
       " [6] \"SCPCL000008\" \"SCPCL000009\" \"SCPCL000010\" \"SCPCL000011\" \"SCPCL000013\"\n",
       "[11] \"SCPCL000014\" \"SCPCL000015\" \"SCPCL000017\" \"SCPCL000018\" \"SCPCL000019\"\n",
       "[16] \"SCPCL000020\" \"SCPCL000021\" \"SCPCL000022\" \"SCPCL000023\""
      ]
     },
     "metadata": {},
     "output_type": "display_data"
    }
   ],
   "source": [
    "names(seurat_list)"
   ]
  },
  {
   "cell_type": "code",
   "execution_count": null,
   "metadata": {
    "vscode": {
     "languageId": "r"
    }
   },
   "outputs": [],
   "source": []
  }
 ],
 "metadata": {
  "kernelspec": {
   "display_name": "LeeLab_R_4.4.1",
   "language": "R",
   "name": "leelab_r_4.4.1"
  },
  "language_info": {
   "codemirror_mode": "r",
   "file_extension": ".r",
   "mimetype": "text/x-r-source",
   "name": "R",
   "pygments_lexer": "r",
   "version": "4.4.1"
  }
 },
 "nbformat": 4,
 "nbformat_minor": 4
}
