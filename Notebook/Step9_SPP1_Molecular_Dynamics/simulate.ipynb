{
 "cells": [
  {
   "cell_type": "code",
   "execution_count": null,
   "metadata": {
    "vscode": {
     "languageId": "shellscript"
    }
   },
   "outputs": [],
   "source": [
    "find . -type f -name '#*#' -delete"
   ]
  },
  {
   "cell_type": "code",
   "execution_count": null,
   "metadata": {
    "vscode": {
     "languageId": "shellscript"
    }
   },
   "outputs": [],
   "source": [
    "module purge\n",
    "module load GCC/10.3.0\n",
    "module load OpenMPI/4.1.1\n",
    "module load GROMACS/2021.3-CUDA-11.3.1"
   ]
  },
  {
   "cell_type": "markdown",
   "metadata": {},
   "source": [
    "# Native"
   ]
  },
  {
   "cell_type": "code",
   "execution_count": null,
   "metadata": {
    "vscode": {
     "languageId": "shellscript"
    }
   },
   "outputs": [],
   "source": [
    "WORKDIR=/gpfs0/home1/gdwanglab/axk201/personal_projects/Pediatric_glioblastoma_singelcell/Notebook/Step22_Molecular_dynamics/in/SPP1"
   ]
  },
  {
   "cell_type": "code",
   "execution_count": null,
   "metadata": {
    "vscode": {
     "languageId": "shellscript"
    }
   },
   "outputs": [],
   "source": [
    "cd ${WORKDIR}"
   ]
  },
  {
   "cell_type": "markdown",
   "metadata": {},
   "source": [
    "## Minimization"
   ]
  },
  {
   "cell_type": "code",
   "execution_count": null,
   "metadata": {
    "vscode": {
     "languageId": "shellscript"
    }
   },
   "outputs": [],
   "source": [
    "sample=SPP1_model1\n",
    "init=step3_input\n",
    "mini_prefix=step4.0_minimization\n",
    "\n",
    "prod_prefix=step5_production\n",
    "prod_step=step5"
   ]
  },
  {
   "cell_type": "code",
   "execution_count": null,
   "metadata": {
    "vscode": {
     "languageId": "shellscript"
    }
   },
   "outputs": [],
   "source": [
    "RUN_ID=\"EM\""
   ]
  },
  {
   "cell_type": "code",
   "execution_count": null,
   "metadata": {
    "vscode": {
     "languageId": "shellscript"
    }
   },
   "outputs": [],
   "source": [
    "gmx grompp -f ${mini_prefix}.mdp -o ${mini_prefix}.tpr -c ${init}.gro -r ${init}.gro -p topol.top -n index.ndx -maxwarn -1"
   ]
  },
  {
   "cell_type": "code",
   "execution_count": null,
   "metadata": {
    "vscode": {
     "languageId": "shellscript"
    }
   },
   "outputs": [],
   "source": [
    "./../../src/simulation_sbatch_script.sh --init_gro ${WORKDIR}/${init}.gro \\\n",
    "                                        --topol ${WORKDIR}/topol.top \\\n",
    "                                        --run_prefix ${mini_prefix} \\\n",
    "                                        --mdp ${WORKDIR}/step4.0_minimization.mdp \\\n",
    "                                        --output_dir ${WORKDIR}/../../out/${mini_prefix} \\\n",
    "                                        --sample ${sample} \\\n",
    "                                        --workdir ${WORKDIR} \\\n",
    "                                        --lab \"gdwanglab\" \\\n",
    "                                        --job_name \"em\" \\\n",
    "                                        --run ${RUN_ID} \\\n",
    "                                        --index ${WORKDIR}/index.ndx"
   ]
  },
  {
   "cell_type": "code",
   "execution_count": null,
   "metadata": {
    "vscode": {
     "languageId": "shellscript"
    }
   },
   "outputs": [],
   "source": [
    "chmod 755 ${WORKDIR}/${sample}_${mini_prefix}_Run_${RUN_ID}.sbatch\n",
    "sbatch ${WORKDIR}/${sample}_${mini_prefix}_Run_${RUN_ID}.sbatch"
   ]
  },
  {
   "cell_type": "markdown",
   "metadata": {},
   "source": [
    "## Equilibration"
   ]
  },
  {
   "cell_type": "code",
   "execution_count": null,
   "metadata": {
    "vscode": {
     "languageId": "shellscript"
    }
   },
   "outputs": [],
   "source": [
    "RUN_ID=\"NVT\"\n",
    "prod_prefix=\"md\"\n",
    "equi_prefix=step4.1_equilibration"
   ]
  },
  {
   "cell_type": "code",
   "execution_count": null,
   "metadata": {
    "vscode": {
     "languageId": "shellscript"
    }
   },
   "outputs": [],
   "source": [
    "./../../src/simulation_sbatch_script.sh --init_gro ${WORKDIR}/../../out/${mini_prefix}/Run_EM/${mini_prefix}_EM.gro \\\n",
    "                                        --topol ${WORKDIR}/topol.top \\\n",
    "                                        --run_prefix ${equi_prefix} \\\n",
    "                                        --mdp ${WORKDIR}/step4.1_equilibration.mdp \\\n",
    "                                        --output_dir ${WORKDIR}/../../out/${equi_prefix} \\\n",
    "                                        --sample ${sample} \\\n",
    "                                        --workdir ${WORKDIR} \\\n",
    "                                        --lab \"gdwanglab\" \\\n",
    "                                        --job_name \"equil\" \\\n",
    "                                        --run_duration \"80:00:00\" \\\n",
    "                                        --run ${RUN_ID} \\\n",
    "                                        --index ${WORKDIR}/index.ndx"
   ]
  },
  {
   "cell_type": "code",
   "execution_count": null,
   "metadata": {
    "vscode": {
     "languageId": "shellscript"
    }
   },
   "outputs": [],
   "source": [
    "sbatch ${WORKDIR}/${sample}_${equi_prefix}_Run_${RUN_ID}.sbatch"
   ]
  },
  {
   "cell_type": "markdown",
   "metadata": {},
   "source": [
    "## MD"
   ]
  },
  {
   "cell_type": "markdown",
   "metadata": {},
   "source": [
    "### Chain 1"
   ]
  },
  {
   "cell_type": "code",
   "execution_count": null,
   "metadata": {
    "vscode": {
     "languageId": "shellscript"
    }
   },
   "outputs": [],
   "source": [
    "md_prefix=\"md\""
   ]
  },
  {
   "cell_type": "code",
   "execution_count": null,
   "metadata": {
    "vscode": {
     "languageId": "shellscript"
    }
   },
   "outputs": [],
   "source": [
    "mkdir -p \"/gpfs0/home1/gdwanglab/axk201/personal_projects/Pediatric_glioblastoma_singelcell/Notebook/Step22_Molecular_dynamics/in/SPP1/../../out/step5_production/step5_production_283\"\n",
    "mkdir -p \"/gpfs0/home1/gdwanglab/axk201/personal_projects/Pediatric_glioblastoma_singelcell/Notebook/Step22_Molecular_dynamics/in/SPP1/../../out/step5_production/step5_production_303\"\n",
    "mkdir -p \"/gpfs0/home1/gdwanglab/axk201/personal_projects/Pediatric_glioblastoma_singelcell/Notebook/Step22_Molecular_dynamics/in/SPP1/../../out/step5_production/step5_production_333\"\n",
    "mkdir -p \"/gpfs0/home1/gdwanglab/axk201/personal_projects/Pediatric_glioblastoma_singelcell/Notebook/Step22_Molecular_dynamics/in/SPP1/../../out/step5_production/step5_production_353\""
   ]
  },
  {
   "cell_type": "code",
   "execution_count": null,
   "metadata": {
    "vscode": {
     "languageId": "shellscript"
    }
   },
   "outputs": [],
   "source": [
    "gmx grompp -f ${WORKDIR}/step5_production_283.15.mdp \\\n",
    "            -o ${WORKDIR}/../../out/step5_production/step5_production_283/remd.tpr \\\n",
    "            -c ${WORKDIR}/../../out/${equi_prefix}/Run_NVT/${equi_prefix}_NVT.gro \\\n",
    "            -p ${WORKDIR}/topol.top \\\n",
    "            -n ${WORKDIR}/index.ndx \n",
    "            \n",
    "gmx grompp -f ${WORKDIR}/step5_production_303.15.mdp \\\n",
    "            -o ${WORKDIR}/../../out/step5_production/step5_production_303/remd.tpr \\\n",
    "            -c ${WORKDIR}/../../out/${equi_prefix}/Run_NVT/${equi_prefix}_NVT.gro \\\n",
    "            -p ${WORKDIR}/topol.top \\\n",
    "            -n ${WORKDIR}/index.ndx \n",
    "\n",
    "gmx grompp -f ${WORKDIR}/step5_production_333.15.mdp \\\n",
    "            -o ${WORKDIR}/../../out/step5_production/step5_production_333/remd.tpr \\\n",
    "            -c ${WORKDIR}/../../out/${equi_prefix}/Run_NVT/${equi_prefix}_NVT.gro \\\n",
    "            -p ${WORKDIR}/topol.top \\\n",
    "            -n ${WORKDIR}/index.ndx \n",
    "\n",
    "gmx grompp -f ${WORKDIR}/step5_production_353.15.mdp \\\n",
    "            -o ${WORKDIR}/../../out/step5_production/step5_production_353/remd.tpr \\\n",
    "            -c ${WORKDIR}/../../out/${equi_prefix}/Run_NVT/${equi_prefix}_NVT.gro \\\n",
    "            -p ${WORKDIR}/topol.top \\\n",
    "            -n ${WORKDIR}/index.ndx \n",
    "\n",
    "\n"
   ]
  },
  {
   "cell_type": "code",
   "execution_count": null,
   "metadata": {
    "vscode": {
     "languageId": "shellscript"
    }
   },
   "outputs": [],
   "source": [
    "sbatch ${WORKDIR}/SPP1_model1_step5_production_Run_MD.sbatch"
   ]
  },
  {
   "cell_type": "code",
   "execution_count": null,
   "metadata": {
    "vscode": {
     "languageId": "shellscript"
    }
   },
   "outputs": [],
   "source": [
    "grep \"Repl ex\" ${WORKDIR}/../../out/step5_production/step5_production_*/remd.log > ${WORKDIR}/../../out/exchange_data.log"
   ]
  },
  {
   "cell_type": "markdown",
   "metadata": {},
   "source": [
    "### Center trajectories"
   ]
  },
  {
   "cell_type": "code",
   "execution_count": null,
   "metadata": {
    "vscode": {
     "languageId": "shellscript"
    }
   },
   "outputs": [],
   "source": [
    "echo 0 0 | gmx trjconv -f ${WORKDIR}/../../out/step5_production/step5_production_283/remd.xtc \\\n",
    "            -s ${WORKDIR}/../../out/step5_production/step5_production_283/remd.tpr \\\n",
    "            -tu ns \\\n",
    "            -o ${WORKDIR}/../../out/step5_production/step5_production_283/centered.xtc \\\n",
    "            -pbc mol \\\n",
    "            -ur compact -center\n",
    "\n",
    "echo 0 0 | gmx trjconv -f ${WORKDIR}/../../out/step5_production/step5_production_303/remd.xtc \\\n",
    "            -s ${WORKDIR}/../../out/step5_production/step5_production_303/remd.tpr \\\n",
    "            -tu ns \\\n",
    "            -o ${WORKDIR}/../../out/step5_production/step5_production_303/centered.xtc \\\n",
    "            -pbc mol \\\n",
    "            -ur compact -center\n",
    "\n",
    "echo 0 0 | gmx trjconv -f ${WORKDIR}/../../out/step5_production/step5_production_333/remd.xtc \\\n",
    "            -s ${WORKDIR}/../../out/step5_production/step5_production_333/remd.tpr \\\n",
    "            -tu ns \\\n",
    "            -o ${WORKDIR}/../../out/step5_production/step5_production_333/centered.xtc \\\n",
    "            -pbc mol \\\n",
    "            -ur compact -center\n",
    "\n",
    "echo 0 0 | gmx trjconv -f ${WORKDIR}/../../out/step5_production/step5_production_353/remd.xtc \\\n",
    "            -s ${WORKDIR}/../../out/step5_production/step5_production_353/remd.tpr \\\n",
    "            -tu ns \\\n",
    "            -o ${WORKDIR}/../../out/step5_production/step5_production_353/centered.xtc \\\n",
    "            -pbc mol \\\n",
    "            -ur compact -center"
   ]
  },
  {
   "cell_type": "markdown",
   "metadata": {},
   "source": [
    "### Pull RMSD"
   ]
  },
  {
   "cell_type": "code",
   "execution_count": null,
   "metadata": {
    "vscode": {
     "languageId": "shellscript"
    }
   },
   "outputs": [],
   "source": [
    "echo 0 1 | gmx rms -s ${WORKDIR}/../../out/step5_production/step5_production_283/remd.tpr \\\n",
    "                -f ${WORKDIR}/../../out/step5_production/step5_production_283/centered.xtc \\\n",
    "                -o ${WORKDIR}/../../out/step5_production/step5_production_283/rmsd.xvg \\\n",
    "                -fit rot+trans\n",
    "echo 0 1 | gmx rms -s ${WORKDIR}/../../out/step5_production/step5_production_303/remd.tpr \\\n",
    "                -f ${WORKDIR}/../../out/step5_production/step5_production_303/centered.xtc \\\n",
    "                -o ${WORKDIR}/../../out/step5_production/step5_production_303/rmsd.xvg \\\n",
    "                -fit rot+trans\n",
    "echo 0 1 | gmx rms -s ${WORKDIR}/../../out/step5_production/step5_production_333/remd.tpr \\\n",
    "                -f ${WORKDIR}/../../out/step5_production/step5_production_333/centered.xtc \\\n",
    "                -o ${WORKDIR}/../../out/step5_production/step5_production_333/rmsd.xvg \\\n",
    "                -fit rot+trans\n",
    "echo 0 1 | gmx rms -s ${WORKDIR}/../../out/step5_production/step5_production_353/remd.tpr \\\n",
    "                -f ${WORKDIR}/../../out/step5_production/step5_production_353/centered.xtc \\\n",
    "                -o ${WORKDIR}/../../out/step5_production/step5_production_353/rmsd.xvg \\\n",
    "                -fit rot+trans"
   ]
  },
  {
   "cell_type": "markdown",
   "metadata": {},
   "source": [
    "### Pull RMSF"
   ]
  },
  {
   "cell_type": "code",
   "execution_count": null,
   "metadata": {
    "vscode": {
     "languageId": "shellscript"
    }
   },
   "outputs": [],
   "source": [
    "echo 1 3 | gmx rmsf -s ${WORKDIR}/../../out/step5_production/step5_production_283/remd.tpr \\\n",
    "                -f ${WORKDIR}/../../out/step5_production/step5_production_283/centered.xtc \\\n",
    "                -o ${WORKDIR}/../../out/step5_production/step5_production_283/rmsf_283.xvg -res -b 20000\n",
    "echo 1 3 | gmx rmsf -s ${WORKDIR}/../../out/step5_production/step5_production_303/remd.tpr \\\n",
    "                -f ${WORKDIR}/../../out/step5_production/step5_production_303/centered.xtc \\\n",
    "                -o ${WORKDIR}/../../out/step5_production/step5_production_303/rmsf_303.xvg -res -b 20000\n",
    "echo 1 3 | gmx rmsf -s ${WORKDIR}/../../out/step5_production/step5_production_333/remd.tpr \\\n",
    "                -f ${WORKDIR}/../../out/step5_production/step5_production_333/centered.xtc \\\n",
    "                -o ${WORKDIR}/../../out/step5_production/step5_production_333/rmsf_333.xvg -res -b 20000\n",
    "echo 1 3 | gmx rmsf -s ${WORKDIR}/../../out/step5_production/step5_production_353/remd.tpr \\\n",
    "                -f ${WORKDIR}/../../out/step5_production/step5_production_353/centered.xtc \\\n",
    "                -o ${WORKDIR}/../../out/step5_production/step5_production_353/rmsf_353.xvg -res -b 20000"
   ]
  },
  {
   "cell_type": "markdown",
   "metadata": {},
   "source": [
    "### Pull Radius of gyration"
   ]
  },
  {
   "cell_type": "code",
   "execution_count": null,
   "metadata": {
    "vscode": {
     "languageId": "shellscript"
    }
   },
   "outputs": [],
   "source": [
    "echo 0 1 | gmx gyrate -s ${WORKDIR}/../../out/step5_production/step5_production_283/remd.tpr \\\n",
    "                      -f ${WORKDIR}/../../out/step5_production/step5_production_283/centered.xtc \\\n",
    "                      -o ${WORKDIR}/../../out/step5_production/step5_production_283/gyrate_283.xvg\n",
    "echo 0 1 | gmx gyrate -s ${WORKDIR}/../../out/step5_production/step5_production_303/remd.tpr \\\n",
    "                      -f ${WORKDIR}/../../out/step5_production/step5_production_303/centered.xtc \\\n",
    "                      -o ${WORKDIR}/../../out/step5_production/step5_production_303/gyrate_303.xvg\n",
    "echo 0 1 | gmx gyrate -s ${WORKDIR}/../../out/step5_production/step5_production_333/remd.tpr \\\n",
    "                      -f ${WORKDIR}/../../out/step5_production/step5_production_333/centered.xtc \\\n",
    "                      -o ${WORKDIR}/../../out/step5_production/step5_production_333/gyrate_333.xvg\n",
    "echo 0 1 | gmx gyrate -s ${WORKDIR}/../../out/step5_production/step5_production_353/gyrate.tpr \\\n",
    "                      -f ${WORKDIR}/../../out/step5_production/step5_production_353/centered.xtc \\\n",
    "                      -o ${WORKDIR}/../../out/step5_production/step5_production_353/gyrate_353.xvg"
   ]
  },
  {
   "cell_type": "markdown",
   "metadata": {},
   "source": [
    "### Energy landscape"
   ]
  },
  {
   "cell_type": "code",
   "execution_count": null,
   "metadata": {
    "vscode": {
     "languageId": "shellscript"
    }
   },
   "outputs": [],
   "source": [
    "cat ${WORKDIR}/../../out/step5_production/rmsd_rg_283.dat \\\n",
    "    ${WORKDIR}/../../out/step5_production/rmsd_rg_303.dat \\\n",
    "    ${WORKDIR}/../../out/step5_production/rmsd_rg_333.dat \\\n",
    "    ${WORKDIR}/../../out/step5_production/rmsd_rg_353.dat > ${WORKDIR}/../../out/rmsd_rg_alltemps.dat"
   ]
  },
  {
   "cell_type": "code",
   "execution_count": null,
   "metadata": {
    "vscode": {
     "languageId": "shellscript"
    }
   },
   "outputs": [],
   "source": [
    "paste <(grep -v '^[@#]' ${WORKDIR}/../../out/step5_production/step5_production_283/rmsd_283.xvg | awk '{print $2}') \\\n",
    "      <(grep -v '^[@#]' ${WORKDIR}/../../out/step5_production/step5_production_283/gyrate_283.xvg | awk '{print $2}') \\\n",
    "      <(grep -v '^[@#]' ${WORKDIR}/../../out/step5_production/step5_production_283/potential_283.xvg | awk '{print $2}') | \\\n",
    "      awk '{print NR, $1, $2, $3}' > ${WORKDIR}/../../out/step5_production/rmsd_rg_283.dat\n",
    "\n",
    "paste <(grep -v '^[@#]' ${WORKDIR}/../../out/step5_production/step5_production_303/rmsd_303.xvg | awk '{print $2}') \\\n",
    "      <(grep -v '^[@#]' ${WORKDIR}/../../out/step5_production/step5_production_303/gyrate_303.xvg | awk '{print $2}') \\\n",
    "      <(grep -v '^[@#]' ${WORKDIR}/../../out/step5_production/step5_production_303/potential_303.xvg | awk '{print $2}') | \\\n",
    "      awk '{print NR, $1, $2, $3}' > ${WORKDIR}/../../out/step5_production/rmsd_rg_303.dat\n",
    "\n",
    "paste <(grep -v '^[@#]' ${WORKDIR}/../../out/step5_production/step5_production_333/rmsd_333.xvg | awk '{print $2}') \\\n",
    "      <(grep -v '^[@#]' ${WORKDIR}/../../out/step5_production/step5_production_333/gyrate_333.xvg | awk '{print $2}') \\\n",
    "      <(grep -v '^[@#]' ${WORKDIR}/../../out/step5_production/step5_production_333/potential_333.xvg | awk '{print $2}') | \\\n",
    "      awk '{print NR, $1, $2, $3}' > ${WORKDIR}/../../out/step5_production/rmsd_rg_333.dat\n",
    "\n",
    "paste <(grep -v '^[@#]' ${WORKDIR}/../../out/step5_production/step5_production_353/rmsd_353.xvg | awk '{print $2}') \\\n",
    "      <(grep -v '^[@#]' ${WORKDIR}/../../out/step5_production/step5_production_353/gyrate_353.xvg | awk '{print $2}') \\\n",
    "      <(grep -v '^[@#]' ${WORKDIR}/../../out/step5_production/step5_production_353/potential_353.xvg | awk '{print $2}') | \\\n",
    "      awk '{print NR, $1, $2, $3}' > ${WORKDIR}/../../out/step5_production/rmsd_rg_353.dat\n"
   ]
  },
  {
   "cell_type": "code",
   "execution_count": null,
   "metadata": {
    "vscode": {
     "languageId": "shellscript"
    }
   },
   "outputs": [],
   "source": [
    "cat ${WORKDIR}/../../out/step5_production/rmsd_rg_*.dat > ${WORKDIR}/../../out/rmsd_rg_all.dat"
   ]
  },
  {
   "cell_type": "code",
   "execution_count": null,
   "metadata": {
    "vscode": {
     "languageId": "shellscript"
    }
   },
   "outputs": [],
   "source": [
    "python ../../src/energy_landscape.py"
   ]
  },
  {
   "cell_type": "code",
   "execution_count": null,
   "metadata": {
    "vscode": {
     "languageId": "shellscript"
    }
   },
   "outputs": [],
   "source": [
    "echo 1 | gmx trjconv -s ${WORKDIR}/../../out/step5_production/step5_production_303/remd.tpr \\\n",
    "                    -f ${WORKDIR}/../../out/step5_production/step5_production_303/centered.xtc \\\n",
    "                    -o ${WORKDIR}/../../out/step5_production/minima1.pdb \\\n",
    "                    -dump 1655"
   ]
  },
  {
   "cell_type": "code",
   "execution_count": null,
   "metadata": {
    "vscode": {
     "languageId": "shellscript"
    }
   },
   "outputs": [],
   "source": [
    "echo 1 | gmx trjconv -s ${WORKDIR}/../../out/step5_production/step5_production_333/remd.tpr \\\n",
    "                    -f ${WORKDIR}/../../out/step5_production/step5_production_333/centered.xtc \\\n",
    "                    -o ${WORKDIR}/../../out/step5_production/minima2.pdb \\\n",
    "                    -dump 1968"
   ]
  }
 ],
 "metadata": {
  "kernelspec": {
   "display_name": "Bash",
   "language": "bash",
   "name": "bash"
  },
  "language_info": {
   "codemirror_mode": "shell",
   "file_extension": ".sh",
   "mimetype": "text/x-sh",
   "name": "bash"
  }
 },
 "nbformat": 4,
 "nbformat_minor": 2
}
